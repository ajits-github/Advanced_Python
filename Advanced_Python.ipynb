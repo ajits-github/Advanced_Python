{
  "nbformat": 4,
  "nbformat_minor": 0,
  "metadata": {
    "colab": {
      "provenance": [],
      "collapsed_sections": [
        "OjPAh8lDNQQx",
        "82RB3pM__kAX",
        "B78Q-okpQ1l_",
        "TixwdTeKDvMc",
        "0QJWouO3o6aB",
        "-ebvNANjzgPU",
        "Dti9Ffhz7Btm",
        "D0lbi_ZcglvF",
        "7pDLNF5cjMQs",
        "oy_xNfiopkzm",
        "c7DK8RL1P-6U",
        "HZlAt5N39cBh"
      ],
      "authorship_tag": "ABX9TyOwjk3bLtRpZhZXBvupBH2+"
    },
    "kernelspec": {
      "name": "python3",
      "display_name": "Python 3"
    },
    "language_info": {
      "name": "python"
    }
  },
  "cells": [
    {
      "cell_type": "markdown",
      "source": [
        "##Java vs Python"
      ],
      "metadata": {
        "id": "1byLyf2RCGI9"
      }
    },
    {
      "cell_type": "markdown",
      "source": [
        "Both Java and Python are powerful and versatile programming languages, but they have been designed with different philosophies and for different purposes in mind. As a result, each has features and characteristics not present in the other. Here are some distinctions:\n",
        "\n",
        "### What's in Java but not (or less common) in Python:\n",
        "\n",
        "1. **Static Typing**: Java is statically-typed, which means variable types are declared and checked at compile-time. Python is dynamically-typed, so types are checked at runtime.\n",
        "\n",
        "2. **Primitive Data Types**: Java has both primitive data types (`int`, `char`, `float`, etc.) and their boxed, object-oriented counterparts (`Integer`, `Character`, `Float`, etc.). Python does not make such a distinction; everything is an object.\n",
        "\n",
        "3. **Explicit Access Modifiers**: In Java, you have access modifiers like `public`, `private`, `protected`, and the default package-private. Python has a convention-based system, using underscores (`_variable` for protected-like behavior and `__variable` for a more private-like behavior) but it's not enforced in the same way as in Java.\n",
        "\n",
        "4. **Interfaces**: Java uses interfaces to define a contract that classes can implement. While Python doesn't have interfaces in the strict Java sense, it does have abstract base classes which can somewhat mimic this behavior. However, the Pythonic way leans more towards \"duck typing.\"\n",
        "\n",
        "5. **Generics**: Java has a generics system that allows for type parameters in classes, interfaces, and methods. Python has type hints and can emulate generics using them, but they are more informational and are not enforced without external tools.\n",
        "\n",
        "6. **Java Virtual Machine (JVM)**: Java code compiles to bytecode, which runs on the JVM. This is different from Python's interpreted nature and its CPython bytecode.\n",
        "\n",
        "### What's in Python but not (or less common) in Java:\n",
        "\n",
        "1. **Indentation-based Syntax**: Python uses indentation to determine block boundaries, making the code concise and, according to many, more readable.\n",
        "\n",
        "2. **Dynamic Typing**: As mentioned, Python variables are type-checked at runtime, not at compile time.\n",
        "\n",
        "3. **List Comprehensions**: Python has a concise way to create lists based on existing lists.\n",
        "\n",
        "   ```python\n",
        "   squares = [x*x for x in range(10)]\n",
        "   ```\n",
        "\n",
        "4. **First-class Functions**: In Python, functions are first-class citizens, which means they can be passed around and used as arguments. Java has lambda functions since Java 8, but they aren't as flexible as Python's functions.\n",
        "\n",
        "5. **Multiple Inheritance**: Python supports multiple inheritance, allowing a class to inherit from multiple classes. Java doesn't support multiple inheritance for classes but allows a class to implement multiple interfaces.\n",
        "\n",
        "6. **Batteries Included Philosophy**: Python includes a wide-ranging standard library with its distributions. Java has a robust standard library too, but Python's often feels more comprehensive for quick scripting tasks.\n",
        "\n",
        "7. **GIL (Global Interpreter Lock)**: In the CPython implementation of Python, the GIL is a mutex that prevents multiple native threads from executing Python bytecodes concurrently. This means that in certain multi-threading scenarios, Python threads might be less efficient than Java threads.\n",
        "\n",
        "8. **Rich set of built-in functions**: Python offers a broader set of built-in functions for quick and easy programming. Examples include `map()`, `filter()`, and `reduce()`.\n",
        "\n",
        "### Conclusion:\n",
        "\n",
        "While the list above outlines differences, it's crucial to understand that both languages have vast ecosystems and have evolved over time. Some features might be present in third-party libraries or newer versions of the languages. The best choice of language often depends on the specific use case, project needs, and developer preference."
      ],
      "metadata": {
        "id": "WqdN1yR9CKfS"
      }
    },
    {
      "cell_type": "markdown",
      "source": [
        "\n",
        "\n",
        "---\n",
        "\n"
      ],
      "metadata": {
        "id": "KaJsyfq-DPTx"
      }
    },
    {
      "cell_type": "markdown",
      "source": [
        "**Duck typing** is a concept often summed up by the phrase: \"If it looks like a duck, swims like a duck, and quacks like a duck, then it probably is a duck.\"\n",
        "\n",
        "In programming, especially in dynamically typed languages like Python, duck typing refers to the practice of determining the suitability of an object for some purpose based on its behavior (methods and properties) rather than its class type or inheritance. In other words, you're more concerned about what the object can do rather than what the object is.\n",
        "\n",
        "### Example\n",
        "\n",
        "Consider the following classes:\n",
        "\n",
        "```python\n",
        "class Dog:\n",
        "    def speak(self):\n",
        "        return \"Woof!\"\n",
        "\n",
        "class Cat:\n",
        "    def speak(self):\n",
        "        return \"Meow!\"\n",
        "```\n",
        "\n",
        "Now, suppose you have a function that makes an animal speak:\n",
        "\n",
        "```python\n",
        "def animal_sound(animal):\n",
        "    return animal.speak()\n",
        "```\n",
        "\n",
        "Thanks to duck typing, you can pass either a `Dog` or `Cat` instance to this function:\n",
        "\n",
        "```python\n",
        "dog = Dog()\n",
        "cat = Cat()\n",
        "\n",
        "print(animal_sound(dog))  # Woof!\n",
        "print(animal_sound(cat))  # Meow!\n",
        "```\n",
        "\n",
        "In the above code, the `animal_sound` function doesn't care about the type of the `animal` object. It just expects the object to have a `speak` method. If the object can \"quack\" like the expected type (i.e., it has the required methods/attributes), then it's considered appropriate for the operation.\n",
        "\n",
        "### Advantages and Disadvantages\n",
        "\n",
        "**Advantages**:\n",
        "\n",
        "1. **Flexibility**: Duck typing can lead to more flexible and generic code since functions and methods are less concerned about the specific class of an object and more concerned about whether it can perform the required actions.\n",
        "2. **Less Boilerplate**: You don't need to use interfaces or abstract base classes to define a contract; any object that satisfies the required behavior will do.\n",
        "\n",
        "**Disadvantages**:\n",
        "\n",
        "1. **Runtime Errors**: Type-related errors are caught at runtime rather than compile-time. This makes it essential to have good tests in place to catch such issues.\n",
        "2. **Readability**: It may be harder to understand what types of objects are expected or allowed in certain parts of the code, which can make the code harder to read or maintain.\n",
        "\n",
        "In essence, duck typing emphasizes an object's behavior over its class or type hierarchy. This approach is deeply ingrained in Python's culture and is part of what makes the language flexible and dynamic. However, it's also a reason why testing is so critical in Python projects."
      ],
      "metadata": {
        "id": "XVOyq32VDMR_"
      }
    },
    {
      "cell_type": "markdown",
      "source": [
        "\n",
        "\n",
        "---\n",
        "\n"
      ],
      "metadata": {
        "id": "FsKPqLqvDYg2"
      }
    },
    {
      "cell_type": "markdown",
      "source": [
        "Duck typing, in the way it's traditionally understood from languages like Python, is not directly supported in Java due to Java's statically-typed nature. However, certain aspects of duck typing can be mimicked or approximated in Java using interfaces and polymorphism.\n",
        "\n",
        "### How Java Handles Similar Scenarios:\n",
        "\n",
        "Java uses interfaces to define a contract that classes can implement. If multiple classes implement the same interface, they can be used interchangeably in contexts where that interface is expected. This is a form of polymorphism.\n",
        "\n",
        "For instance, consider this Java code:\n",
        "\n",
        "```java\n",
        "interface Speaker {\n",
        "    String speak();\n",
        "}\n",
        "\n",
        "class Dog implements Speaker {\n",
        "    public String speak() {\n",
        "        return \"Woof!\";\n",
        "    }\n",
        "}\n",
        "\n",
        "class Cat implements Speaker {\n",
        "    public String speak() {\n",
        "        return \"Meow!\";\n",
        "    }\n",
        "}\n",
        "\n",
        "public class Test {\n",
        "    public static void main(String[] args) {\n",
        "        Dog dog = new Dog();\n",
        "        Cat cat = new Cat();\n",
        "\n",
        "        printSpeak(dog);\n",
        "        printSpeak(cat);\n",
        "    }\n",
        "\n",
        "    public static void printSpeak(Speaker speaker) {\n",
        "        System.out.println(speaker.speak());\n",
        "    }\n",
        "}\n",
        "```\n",
        "\n",
        "In the code above, both `Dog` and `Cat` implement the `Speaker` interface. The `printSpeak` method expects an object that implements the `Speaker` interface and calls its `speak` method. This is similar to the duck typing example, but it's enforced at compile time using interfaces.\n",
        "\n",
        "### Limitations in Java:\n",
        "\n",
        "1. **Need for Explicit Contracts**: In the Java example, we had to explicitly define an interface (`Speaker`). In true duck typing, as in Python, you wouldn't need this explicit contract.\n",
        "\n",
        "2. **Compile-time Checks**: Java enforces type constraints at compile-time. If a class doesn't implement the required interface, you'll get a compile-time error. In contrast, with duck typing, such issues are typically caught at runtime.\n",
        "\n",
        "3. **Less Dynamic**: Since Java is statically-typed, it's less flexible in situations where you might not know in advance all the types you need to work with or when you want to work with arbitrary objects that just happen to have the right methods/attributes.\n",
        "\n",
        "While Java's interface-based approach provides type safety and can catch errors at compile-time, it doesn't offer the same level of flexibility and dynamism as duck typing. That said, both approaches have their advantages and appropriate use cases."
      ],
      "metadata": {
        "id": "4zzHgXwVDVvt"
      }
    },
    {
      "cell_type": "markdown",
      "source": [
        "##GIL and Mutex"
      ],
      "metadata": {
        "id": "OjPAh8lDNQQx"
      }
    },
    {
      "cell_type": "markdown",
      "source": [
        "GIL is a lock based concept which is of more concerns for the tasks related to CPU and a less of a limitation when it comes to I/O bound tasks. This is because I/O bound tasks generally involve lots of waiting. For example, reading or wirting the files, or network communications or interacting with a database etc., where one thread has to wait and hence GIL releases the lock and the service to be used by other threads. These tasks are limited by the speed of the input/output operations and typically involve more waiting than actual computation."
      ],
      "metadata": {
        "id": "HnTe_9P3S9aj"
      }
    },
    {
      "cell_type": "markdown",
      "source": [
        "About the GIL and its usefulness, it's important to understand that the GIL is a trade-off. While the GIL restricts the execution of Python bytecode to a single thread, it also simplifies memory management, prevents race conditions related to memory access, and makes Python code more thread-safe by default."
      ],
      "metadata": {
        "id": "OQi9whMuT9dJ"
      }
    },
    {
      "cell_type": "markdown",
      "source": [
        "Mutex is the accronym for mutual exclusion. In python, mutex are those elements which comes in the play when something is shared between different resources. Along with GIL (Global Interpreter Lock), this ensures that only one thread is accessing the object at a time."
      ],
      "metadata": {
        "id": "cOlzwI39OXsQ"
      }
    },
    {
      "cell_type": "markdown",
      "source": [
        "Here's a simple example in Python using the threading module to illustrate how a mutex works:"
      ],
      "metadata": {
        "id": "-50GLt3nPM1b"
      }
    },
    {
      "cell_type": "code",
      "source": [
        "import threading\n",
        "\n",
        "# Shared resource\n",
        "shared_counter = 0\n",
        "\n",
        "# Mutex for controlling access to shared_counter\n",
        "mutex = threading.Lock()\n",
        "\n",
        "# Function that increments the shared_counter\n",
        "def increment_counter():\n",
        "    global shared_counter\n",
        "    for _ in range(100000):\n",
        "        # Acquire the mutex\n",
        "        mutex.acquire()\n",
        "        shared_counter += 1\n",
        "        # Release the mutex\n",
        "        mutex.release()\n",
        "\n",
        "# Create two threads that increment the counter\n",
        "thread1 = threading.Thread(target=increment_counter)\n",
        "thread2 = threading.Thread(target=increment_counter)\n",
        "\n",
        "# Start the threads\n",
        "thread1.start()\n",
        "thread2.start()\n",
        "\n",
        "# Wait for the threads to finish\n",
        "thread1.join()\n",
        "thread2.join()\n",
        "\n",
        "print(\"Final value of shared_counter:\", shared_counter)\n"
      ],
      "metadata": {
        "colab": {
          "base_uri": "https://localhost:8080/"
        },
        "id": "sZUyZCY2NTLr",
        "outputId": "4fe54ee5-a8f0-4117-d863-66a96c87ad7c"
      },
      "execution_count": null,
      "outputs": [
        {
          "output_type": "stream",
          "name": "stdout",
          "text": [
            "Final value of shared_counter: 200000\n"
          ]
        }
      ]
    },
    {
      "cell_type": "markdown",
      "source": [
        "In this example, the threading.Lock() object (mutex) is used to protect access to the shared_counter. The increment_counter function acquires the mutex before modifying the counter and releases it afterward. This ensures that only one thread can modify the counter at a time, preventing data corruption due to concurrent access.\n",
        "\n",
        "Mutexes are a fundamental concept in concurrent programming, and they play a crucial role in ensuring the correctness and consistency of shared data in multi-threaded or multi-process applications."
      ],
      "metadata": {
        "id": "UWrgr0_gQa-C"
      }
    },
    {
      "cell_type": "markdown",
      "source": [
        "**If you don't use a mutex** to protect the shared_counter in a multi-threaded environment, you might encounter a race condition. A race condition occurs when multiple threads access shared resources concurrently, and the final state of the resource depends on the timing and order of the threads' execution. In this case, without proper synchronization (such as a mutex), the following issues can arise:\n",
        "\n",
        "**Data Corruption:** Since multiple threads can read and modify the shared_counter without coordination, they may read an outdated value, leading to incorrect updates. This can result in an inconsistent or incorrect final value for shared_counter.\n",
        "\n",
        "**Lost Updates:**Threads can overwrite each other's updates if they're not properly synchronized. For example, if two threads simultaneously read the counter's value as 5 and increment it to 6, both threads will update the counter to 6, effectively losing one update.\n",
        "\n",
        "**Inconsistent State:** Due to the unpredictable order of thread execution, the shared_counter might end up with an arbitrary value, leading to an inconsistent or unpredictable state.\n",
        "\n",
        "To avoid these issues, using a mutex (like the threading.Lock() in the example) ensures that only one thread at a time can access and modify the shared resource, preventing race conditions and ensuring data integrity."
      ],
      "metadata": {
        "id": "KAaz01NlXmVc"
      }
    },
    {
      "cell_type": "code",
      "source": [
        "import threading\n",
        "\n",
        "# A shared list\n",
        "shared_list = []\n",
        "\n",
        "# Mutex for controlling access to shared_list\n",
        "mutex = threading.Lock()\n",
        "\n",
        "# Function that appends to the shared list\n",
        "def append_to_list():\n",
        "    global shared_list\n",
        "    for _ in range(100000):\n",
        "        # Acquire the mutex\n",
        "        mutex.acquire()\n",
        "        shared_list.append(threading.current_thread().name)\n",
        "        # Release the mutex\n",
        "        mutex.release()\n",
        "\n",
        "# Create two threads that append to the list\n",
        "thread1 = threading.Thread(target=append_to_list, name=\"Thread 1\")\n",
        "thread2 = threading.Thread(target=append_to_list, name=\"Thread 2\")\n",
        "\n",
        "# Start the threads\n",
        "thread1.start()\n",
        "thread2.start()\n",
        "\n",
        "# Wait for the threads to finish\n",
        "thread1.join()\n",
        "thread2.join()\n",
        "\n",
        "print(\"Shared list:\", shared_list)\n"
      ],
      "metadata": {
        "id": "Y6_xFpNrQcKk"
      },
      "execution_count": null,
      "outputs": []
    },
    {
      "cell_type": "markdown",
      "source": [
        "In this example, the GIL ensures that only one thread can execute the Python bytecode at a time, even though both threads are trying to append to the shared_list simultaneously. As a result, the threads acquire and release the mutex sequentially, effectively serializing access to the shared_list, and the final shared_list will contain only elements from one of the threads, demonstrating how the GIL affects multi-threaded CPU-bound operations."
      ],
      "metadata": {
        "id": "O0mMm2IHWkEi"
      }
    },
    {
      "cell_type": "markdown",
      "source": [
        "Regarding the use of the **global keyword** in Python, it's used to indicate that a variable inside a function should refer to a variable defined in the global scope rather than creating a new local variable. It's commonly used when you want to modify or access a global variable from within a function. However, using global variables can lead to code that's harder to reason about, maintain, and test, as they introduce hidden dependencies and can make functions less modular.\n",
        "\n",
        "It's generally recommended to avoid excessive use of global variables. Instead, it's better to pass variables as arguments to functions and return values from functions. This promotes better encapsulation and makes your code more self-contained and easier to understand."
      ],
      "metadata": {
        "id": "-lg8kCWiX_0G"
      }
    },
    {
      "cell_type": "markdown",
      "source": [
        "\n",
        "\n",
        "---\n",
        "\n"
      ],
      "metadata": {
        "id": "rFdwChYUclIe"
      }
    },
    {
      "cell_type": "markdown",
      "source": [
        "**Mutexes** in Python are implemented using the threading.Lock() class from the threading module. Here are a few examples of using mutexes to protect shared resources in multi-threaded environments:"
      ],
      "metadata": {
        "id": "k3ueJdVAcYP1"
      }
    },
    {
      "cell_type": "markdown",
      "source": [
        "**Using Mutex with Context Manager:**"
      ],
      "metadata": {
        "id": "FDScJIgecqpG"
      }
    },
    {
      "cell_type": "code",
      "source": [
        "import threading\n",
        "\n",
        "shared_list = []\n",
        "mutex = threading.Lock()\n",
        "\n",
        "def append_to_list():\n",
        "  global shared_list\n",
        "  for _ in range(100000):\n",
        "    with mutex:\n",
        "      shared_list.append(threading.current_thread().name)\n",
        "\n",
        "Thread1 = threading.Thread(target=append_to_list, name=\"Thread 1\")\n",
        "Thread2 = threading.Thread(target=append_to_list, name=\"Thread 2\")\n",
        "\n",
        "Thread1.start()\n",
        "Thread2.start()\n",
        "\n",
        "Thread1.join()\n",
        "Thread2.join()\n",
        "\n",
        "print(\"shared list\", shared_list)\n"
      ],
      "metadata": {
        "id": "AjLxKFC7YHbr"
      },
      "execution_count": null,
      "outputs": []
    },
    {
      "cell_type": "markdown",
      "source": [
        "**Using Mutex to Protect a Shared Dictionary:**"
      ],
      "metadata": {
        "id": "1_0eGF8Vc8dw"
      }
    },
    {
      "cell_type": "code",
      "source": [
        "import threading\n",
        "\n",
        "# Shared dictionary\n",
        "shared_dict = {}\n",
        "\n",
        "# Mutex for controlling access to shared_dict\n",
        "mutex = threading.Lock()\n",
        "\n",
        "# Function that adds key-value pairs to the shared dictionary\n",
        "def add_to_dict(key, value):\n",
        "    with mutex:\n",
        "        shared_dict[key] = value\n",
        "\n",
        "# Create two threads that modify the dictionary\n",
        "thread1 = threading.Thread(target=add_to_dict, args=(\"key1\", \"value1\"))\n",
        "thread2 = threading.Thread(target=add_to_dict, args=(\"key2\", \"value2\"))\n",
        "\n",
        "# Start the threads\n",
        "thread1.start()\n",
        "thread2.start()\n",
        "\n",
        "# Wait for the threads to finish\n",
        "thread1.join()\n",
        "thread2.join()\n",
        "\n",
        "print(\"Shared dictionary:\", shared_dict)\n"
      ],
      "metadata": {
        "colab": {
          "base_uri": "https://localhost:8080/"
        },
        "id": "fs48wJ-Lc99m",
        "outputId": "4248ed3f-e80c-4e9a-df33-2caede6e8fd9"
      },
      "execution_count": null,
      "outputs": [
        {
          "output_type": "stream",
          "name": "stdout",
          "text": [
            "Shared dictionary: {'key1': 'value1', 'key2': 'value2'}\n"
          ]
        }
      ]
    },
    {
      "cell_type": "markdown",
      "source": [
        "In these examples, mutexes are used to ensure that only one thread at a time can access and modify shared resources like counters, lists, or dictionaries. The acquire() and release() methods of the mutex ensure proper synchronization, preventing race conditions and data corruption. Using context managers (with statements) with mutexes provides a more concise and safe way to manage the acquisition and release of the mutex."
      ],
      "metadata": {
        "id": "o-ulSRT6dHui"
      }
    },
    {
      "cell_type": "markdown",
      "source": [
        "##Multithreading"
      ],
      "metadata": {
        "id": "82RB3pM__kAX"
      }
    },
    {
      "cell_type": "markdown",
      "source": [
        "Life-cycle of a Thread:\n",
        "  * **Create** by calling the constructor Thread and passing the function to the 'target' keyword along with the arguments (in the 'args' keyword argument of Thread, if the function expects so).\n",
        "  * **Start** the thread i.e. transition to 'run' state by calling 'start()' on thread object.\n",
        "  * **Terminated** thread, which happens if the subsequent new thread created by main thread has completed the executio of the program or raised exception."
      ],
      "metadata": {
        "id": "Ldc5q0L7ZyGu"
      }
    },
    {
      "cell_type": "code",
      "execution_count": null,
      "metadata": {
        "colab": {
          "base_uri": "https://localhost:8080/"
        },
        "id": "B3S0jApO_hJT",
        "outputId": "dd439455-5a42-46ff-8915-8124a58338cb"
      },
      "outputs": [
        {
          "output_type": "stream",
          "name": "stdout",
          "text": [
            "Inside task\n",
            "Thread 2 is still running\n"
          ]
        }
      ],
      "source": [
        "from threading import Thread\n",
        "from time import sleep\n",
        "\n",
        "def task():\n",
        "  sleep(1)\n",
        "  print(\"Inside task\")\n",
        "\n",
        "def new_task():\n",
        "  sleep(1)\n",
        "  print(\"Inside NEW task\")\n",
        "\n",
        "thread1 = Thread(target=task)\n",
        "thread1.start()\n",
        "thread1.join(timeout=2)\n",
        "\n",
        "thread2 = Thread(target=new_task)\n",
        "thread2.start()\n",
        "# thread2.join(timeout=2)\n",
        "# thread2.join(timeout=0.1)\n",
        "\n",
        "if thread2.is_alive():\n",
        "  print(\"Thread 2 is still running\")\n",
        "else:\n",
        "  print(\"Thread 2 is not running\")"
      ]
    },
    {
      "cell_type": "markdown",
      "source": [
        "In the above code, few things that need discussion:\n",
        "  * Can we call new_task() funtion on thread1 at the same time as we called task()?\n",
        "    * Nope, it's not possible to call multiple target functions on a single thread. We need to declare separate threads for sifferent functions.\n",
        "\n",
        "  * What is the purpose of join() on a Thread?\n",
        "    * join() waits for a thread to complete its execution. This duration of waiting can be restricted by using 'timeout' in join() which allows the later code to run if, for example, the timeout is smaller than sleep time inside the function called on that thread. This is the same effect achieved by not using join(). The results will be same in both the cases as it can be seen from the above output where Thread 2 is still running though it didn't print the statement inside new_task() function. Observe the outputs by commenting line 18 and 19, and then uncomment line 19. However, now comment line 19 and uncomment 18, you will see the difference as why we need join().\n",
        "\n"
      ],
      "metadata": {
        "id": "IoOW6THyYpa6"
      }
    },
    {
      "cell_type": "markdown",
      "source": [
        "\n",
        "\n",
        "---\n",
        "\n"
      ],
      "metadata": {
        "id": "k9z8ZtvXews7"
      }
    },
    {
      "cell_type": "markdown",
      "source": [
        "We use Multithreading for I/O tasks which requires waiting for external events and not for the CPU bound tasks. For that, we use Multiprocessing module from Python. Thread is the smallest unti of program. A process will have at least on thread and so many threads, under one process, share the memory space."
      ],
      "metadata": {
        "id": "_biqCSP1eLwQ"
      }
    },
    {
      "cell_type": "markdown",
      "source": [
        "##Multiprocessing"
      ],
      "metadata": {
        "id": "B78Q-okpQ1l_"
      }
    },
    {
      "cell_type": "markdown",
      "source": [
        "**CPU-bound tasks** are tasks that primarily involve computation and processing within the CPU rather than waiting for input/output operations. These tasks are limited by the processing speed of the CPU and can be compute-intensive, such as mathematical calculations, data processing, complex algorithms, and simulations"
      ],
      "metadata": {
        "id": "s7Q_wxQbab_E"
      }
    },
    {
      "cell_type": "markdown",
      "source": [
        "The **Global Interpreter Lock (GIL)** in Python can have a significant impact on CPU-bound tasks because it restricts the execution of Python bytecode to a single thread. As a result, even when multiple threads are used for CPU-bound tasks, they won't run in true parallel on multi-core processors due to the GIL.\n",
        "\n",
        "However, there are strategies to mitigate the impact of the GIL on CPU-bound tasks and potentially speed up their execution:\n",
        "- Use **Multiprocessing**: Instead of using threads, you can use the multiprocessing module to create separate processes. Each process has its own Python interpreter and memory space, allowing them to run in true parallel, as the GIL doesn't affect processes. This approach leverages multiple CPU cores effectively for CPU-bound tasks.\n",
        "\n",
        "- Use **Compiled Extensions**: Consider using compiled extensions or libraries written in languages like C or Cython for performance-critical sections of your code. These languages can bypass the GIL and perform computations more efficiently.\n",
        "\n",
        "- Use **Concurrency Libraries**: Libraries like concurrent.futures provide higher-level interfaces for executing CPU-bound tasks concurrently using threads or processes. They abstract the management of threads and processes, allowing you to focus on the task logic.\n",
        "\n",
        "- Use **GIL-Free Libraries**: Some Python libraries and tools, like NumPy and pandas, are designed to work efficiently with large arrays and data frames and can bypass the GIL. Utilizing such libraries can speed up computations.\n",
        "\n",
        "- Consider Using **Other Languages**: For extremely CPU-intensive tasks, you might consider using other programming languages like C, C++, or Rust that don't have a GIL and offer better performance."
      ],
      "metadata": {
        "id": "IVCNIBYNaisJ"
      }
    },
    {
      "cell_type": "markdown",
      "source": [
        "It's important to note that while these strategies can help mitigate the impact of the GIL on CPU-bound tasks, the GIL itself is an intrinsic part of CPython (Python's reference implementation), and **it's not possible to completely eliminate** it within the standard Python interpreter."
      ],
      "metadata": {
        "id": "H3jUXkAcbHBw"
      }
    },
    {
      "cell_type": "code",
      "source": [
        "import multiprocessing\n",
        "\n",
        "def process_task():\n",
        "    # Your CPU-bound task\n",
        "\n",
        "if __name__ == \"__main__\":\n",
        "    num_processes = multiprocessing.cpu_count()\n",
        "    processes = [multiprocessing.Process(target=process_task) for _ in range(num_processes)]\n",
        "    for process in processes:\n",
        "        process.start()\n",
        "    for process in processes:\n",
        "        process.join()\n"
      ],
      "metadata": {
        "id": "fnrWMIjXQ6zt"
      },
      "execution_count": null,
      "outputs": []
    },
    {
      "cell_type": "markdown",
      "source": [
        "Multi-Threading\n",
        "\n",
        "  - Threads share the same memory and can write to and read from shared variables\n",
        "  - Due to Python Global Interpreter Lock, two threads won’t be executed at the same time, but concurrently (for example with context switching)\n",
        "  - Effective for I/O-bound tasks\n",
        "  - Can be implemented with threading module\n",
        "  - Multi-processing\n",
        "\n",
        "Multi-Processing:\n",
        "  - Every process has is own memory space\n",
        "  - Every process can contain one ore more subprocesses/threads\n",
        "  - Can be used to achieve parallelism by taking advantage of multi-core machines since processes can run on different CPU cores\n",
        "  - Effective for CPU-bound tasks\n",
        "  - Can be implemented with multiprocessing module (or concurrent.futures.ProcessPoolExecutor)"
      ],
      "metadata": {
        "id": "pzPsZNbXEnGG"
      }
    },
    {
      "cell_type": "markdown",
      "source": [
        "##Decorators"
      ],
      "metadata": {
        "id": "TixwdTeKDvMc"
      }
    },
    {
      "cell_type": "code",
      "source": [
        "# def outer_func(arg_outer_def):\n",
        "def outer_func():\n",
        "  def outer_func_2(func):\n",
        "    def real_func(*args, **kwargs):\n",
        "      # def inner_func(arg1):\n",
        "      def inner_func(*args, **kwargs):\n",
        "        # print(\"Before calling..\", type(arg1))\n",
        "        print(\"Before calling..\", args, kwargs)\n",
        "        # arg1 = str(arg1) + arg_outer_def\n",
        "        # func(arg1)\n",
        "        func(args)\n",
        "        # print()\n",
        "        # return func(arg1)\n",
        "      return inner_func\n",
        "    return real_func\n",
        "  return outer_func_2\n",
        "\n",
        "# @outer_func(arg_outer_def=\"static\")\n",
        "@outer_func()\n",
        "def after_func(arg1=\"test\"):\n",
        "  # if isinstance(arg1, str):\n",
        "  print(\"hELLLOOO\")\n",
        "  if isinstance(arg1, list):\n",
        "    print(\"As expected, arg is converted to string: \", type(arg1))\n",
        "    print(arg1)\n",
        "\n",
        "\n",
        "# after_func([4,5,6])\n",
        "after_func([4,5,6], arg1=\"hello\")"
      ],
      "metadata": {
        "colab": {
          "base_uri": "https://localhost:8080/"
        },
        "id": "Ekjeuk9O7g4X",
        "outputId": "cffa7109-4316-486e-9330-03d882b78539"
      },
      "execution_count": null,
      "outputs": [
        {
          "output_type": "execute_result",
          "data": {
            "text/plain": [
              "<function __main__.outer_func.<locals>.outer_func_2.<locals>.real_func.<locals>.inner_func(*args, **kwargs)>"
            ]
          },
          "metadata": {},
          "execution_count": 43
        }
      ]
    },
    {
      "cell_type": "code",
      "source": [
        "def outer_func():\n",
        "    def inner1(func):\n",
        "        def inner2(*args, **kwargs):\n",
        "            def inner3(args):\n",
        "                def inner4(args):\n",
        "                    def inner5(args):\n",
        "                        print(\"Inside inner5\")\n",
        "                        func(*args, **kwargs)\n",
        "                        print(\"Exiting inner5\")\n",
        "                    return inner5\n",
        "                return inner4\n",
        "            return inner3\n",
        "        return inner2\n",
        "    return inner1\n",
        "\n",
        "@outer_func()\n",
        "def decorated_function(arg1=\"test\"):\n",
        "# def decorated_function(arg1):\n",
        "    print(\"Decorated function with arg1:\", arg1)\n",
        "\n",
        "decorated_function(\"Hello!\")\n"
      ],
      "metadata": {
        "colab": {
          "base_uri": "https://localhost:8080/"
        },
        "id": "WyXDBJw9K2g3",
        "outputId": "b4281596-ce29-4314-c7fd-0a6ad59396bb"
      },
      "execution_count": null,
      "outputs": [
        {
          "output_type": "execute_result",
          "data": {
            "text/plain": [
              "<function __main__.outer_func.<locals>.inner1.<locals>.inner2.<locals>.inner3(args)>"
            ]
          },
          "metadata": {},
          "execution_count": 1
        }
      ]
    },
    {
      "cell_type": "code",
      "source": [
        "def outer_func(func):\n",
        "    def inner1(*args, **kwargs):\n",
        "        def inner2(*args, **kwargs):\n",
        "            print(\"Inside inner2\")\n",
        "            func(*args, **kwargs)\n",
        "            print(\"Exiting inner2\")\n",
        "        return inner2\n",
        "    return inner1\n",
        "\n",
        "@outer_func\n",
        "def decorated_function(arg1=\"test\"):\n",
        "    print(\"Decorated function with arg1:\", arg1)\n",
        "\n",
        "# Call the decorated function\n",
        "decorated_function(\"Hello!\")\n"
      ],
      "metadata": {
        "colab": {
          "base_uri": "https://localhost:8080/"
        },
        "id": "uXWByfH3LXU-",
        "outputId": "acf20728-ab20-4955-f3f3-c31a00122ed5"
      },
      "execution_count": null,
      "outputs": [
        {
          "output_type": "execute_result",
          "data": {
            "text/plain": [
              "<function __main__.outer_func.<locals>.inner1.<locals>.inner2(*args, **kwargs)>"
            ]
          },
          "metadata": {},
          "execution_count": 1
        }
      ]
    },
    {
      "cell_type": "code",
      "source": [
        "def outer_func(who):\n",
        "    def inner_func():\n",
        "        print(f\"Hello, {who}\")\n",
        "    inner_func()\n",
        "\n",
        "\n",
        "outer_func(\"World!\")"
      ],
      "metadata": {
        "colab": {
          "base_uri": "https://localhost:8080/"
        },
        "id": "34526kN7M1RF",
        "outputId": "dbd771a2-59c4-4481-9d69-8e403a175c3c"
      },
      "execution_count": null,
      "outputs": [
        {
          "output_type": "stream",
          "name": "stdout",
          "text": [
            "Hello, World!\n"
          ]
        }
      ]
    },
    {
      "cell_type": "markdown",
      "source": [
        "Important points about decorators:\n",
        "* The signature of the most inner function and the function which is being decorated must be same or with variable args."
      ],
      "metadata": {
        "id": "X_NVuZE5Dxlh"
      }
    },
    {
      "cell_type": "markdown",
      "source": [
        "What do we mean by something is callable?\n",
        "- Check the below code which is having outer and inner functions. When the outer function is called it just assigns the object of inner function so that later on the same can be invoked with proper signature of inner function. For example, if we comment line 4 and 5, and uncomment the lines 7,8 and 9, the obj_outer still holds the object of inner_func but if we change the call to a constant instead of a function inside out_function body (as currently it is showing), then you get the error which should be as the string object which is being passed upon call is no more a function but just a constant."
      ],
      "metadata": {
        "id": "0kliiJlgTjOc"
      }
    },
    {
      "cell_type": "code",
      "source": [
        "def out_function(out_args):\n",
        "  print(\"hello, outside: \", out_args)\n",
        "\n",
        "  value = out_args\n",
        "  return value\n",
        "\n",
        "  # def inner_func(*args):\n",
        "  #   return \"hello, inside \" + str(args) + str(out_args)\n",
        "  # return inner_func\n",
        "\n",
        "\n",
        "\n",
        "obj_outer = out_function(\"_outercall_\")\n",
        "obj_outer(\"_innercall_\")\n"
      ],
      "metadata": {
        "colab": {
          "base_uri": "https://localhost:8080/",
          "height": 227
        },
        "id": "0g20ZldAUPWN",
        "outputId": "eb8364cc-54fb-4dfb-d090-6b24702bb4f4"
      },
      "execution_count": null,
      "outputs": [
        {
          "output_type": "stream",
          "name": "stdout",
          "text": [
            "hello, outside:  _outercall_\n"
          ]
        },
        {
          "output_type": "error",
          "ename": "TypeError",
          "evalue": "ignored",
          "traceback": [
            "\u001b[0;31m---------------------------------------------------------------------------\u001b[0m",
            "\u001b[0;31mTypeError\u001b[0m                                 Traceback (most recent call last)",
            "\u001b[0;32m<ipython-input-4-3374fa73747a>\u001b[0m in \u001b[0;36m<cell line: 12>\u001b[0;34m()\u001b[0m\n\u001b[1;32m     10\u001b[0m \u001b[0;34m\u001b[0m\u001b[0m\n\u001b[1;32m     11\u001b[0m \u001b[0mobj_outer\u001b[0m \u001b[0;34m=\u001b[0m \u001b[0mout_function\u001b[0m\u001b[0;34m(\u001b[0m\u001b[0;34m\"_outercall_\"\u001b[0m\u001b[0;34m)\u001b[0m\u001b[0;34m\u001b[0m\u001b[0;34m\u001b[0m\u001b[0m\n\u001b[0;32m---> 12\u001b[0;31m \u001b[0mobj_outer\u001b[0m\u001b[0;34m(\u001b[0m\u001b[0;34m\"_innercall_\"\u001b[0m\u001b[0;34m)\u001b[0m\u001b[0;34m\u001b[0m\u001b[0;34m\u001b[0m\u001b[0m\n\u001b[0m",
            "\u001b[0;31mTypeError\u001b[0m: 'str' object is not callable"
          ]
        }
      ]
    },
    {
      "cell_type": "markdown",
      "source": [
        "The use cases for Python decorators are varied. Here are some of them:\n",
        "\n",
        "* Debugging\n",
        "* Caching\n",
        "* Logging\n",
        "* Timing"
      ],
      "metadata": {
        "id": "oftlgpfmuyFW"
      }
    },
    {
      "cell_type": "markdown",
      "source": [
        "Functools.wraps decorator:"
      ],
      "metadata": {
        "id": "zwMTsKTO5eix"
      }
    },
    {
      "cell_type": "code",
      "source": [
        "import functools\n",
        "\n",
        "def my_decorator(func):\n",
        "    def wrapper(*args, **kwargs):\n",
        "        print(\"Decorator is called\")\n",
        "        return func(*args, **kwargs)\n",
        "    return wrapper\n",
        "\n",
        "@my_decorator\n",
        "def my_function():\n",
        "    \"\"\"This is the docstring of my_function.\"\"\"\n",
        "    print(\"Inside my_function\")\n",
        "\n",
        "print(\"Name of the decorated function:\", my_function.__name__)\n",
        "print(\"Docstring of the decorated function:\", my_function.__doc__)\n"
      ],
      "metadata": {
        "colab": {
          "base_uri": "https://localhost:8080/"
        },
        "id": "MY6R39v45iqf",
        "outputId": "00aabfbe-9a05-4477-c164-b325f4717b3e"
      },
      "execution_count": null,
      "outputs": [
        {
          "output_type": "stream",
          "name": "stdout",
          "text": [
            "Name of the decorated function: wrapper\n",
            "Docstring of the decorated function: None\n"
          ]
        }
      ]
    },
    {
      "cell_type": "markdown",
      "source": [
        "In the example above, when we run the code, we'll notice that the name and docstring of the my_function are overwritten by the wrapper function inside the my_decorator.\n",
        "\n",
        "To preserve the original metadata of the decorated function, we can use functools.wraps. Here's how we can modify the decorator to use functools.wraps:"
      ],
      "metadata": {
        "id": "hDM9F3UM57gs"
      }
    },
    {
      "cell_type": "code",
      "source": [
        "import functools\n",
        "\n",
        "def my_decorator(func):\n",
        "    @functools.wraps(func)\n",
        "    def wrapper(*args, **kwargs):\n",
        "        print(\"Decorator is called\")\n",
        "        return func(*args, **kwargs)\n",
        "    return wrapper\n",
        "\n",
        "@my_decorator\n",
        "def my_function():\n",
        "    \"\"\"This is the docstring of my_function.\"\"\"\n",
        "    print(\"Inside my_function\")\n",
        "\n",
        "print(\"Name of the decorated function:\", my_function.__name__)\n",
        "print(\"Docstring of the decorated function:\", my_function.__doc__)\n"
      ],
      "metadata": {
        "colab": {
          "base_uri": "https://localhost:8080/"
        },
        "id": "iHKZz6-26C1p",
        "outputId": "378ef546-74d5-4daa-f912-88fa5b638a9f"
      },
      "execution_count": null,
      "outputs": [
        {
          "output_type": "stream",
          "name": "stdout",
          "text": [
            "Name of the decorated function: my_function\n",
            "Docstring of the decorated function: This is the docstring of my_function.\n"
          ]
        }
      ]
    },
    {
      "cell_type": "markdown",
      "source": [
        "By using functools.wraps, we ensure that the decorated function retains its original metadata, making our code more maintainable and easier to understand during debugging and analysis."
      ],
      "metadata": {
        "id": "YZU55aRo6g6b"
      }
    },
    {
      "cell_type": "markdown",
      "source": [
        "##Closures"
      ],
      "metadata": {
        "id": "0QJWouO3o6aB"
      }
    },
    {
      "cell_type": "code",
      "source": [
        "def outer_func1():\n",
        "  sample = []\n",
        "  def inner_func1(num):\n",
        "    sample.append(num)\n",
        "    return sum(sample)/ len(sample)\n",
        "\n",
        "  return inner_func1\n",
        "\n"
      ],
      "metadata": {
        "colab": {
          "base_uri": "https://localhost:8080/"
        },
        "id": "l86kPIL5U70z",
        "outputId": "622a3555-0ee1-439d-d099-115d0122e1a7"
      },
      "execution_count": null,
      "outputs": [
        {
          "output_type": "execute_result",
          "data": {
            "text/plain": [
              "100.0"
            ]
          },
          "metadata": {},
          "execution_count": 6
        }
      ]
    },
    {
      "cell_type": "code",
      "source": [
        "obj1 = outer_func1()\n",
        "obj1(100)"
      ],
      "metadata": {
        "colab": {
          "base_uri": "https://localhost:8080/"
        },
        "id": "yEerDJ6EoyCE",
        "outputId": "0358296d-8c44-4a3d-8e97-b186e580b69a"
      },
      "execution_count": null,
      "outputs": [
        {
          "output_type": "execute_result",
          "data": {
            "text/plain": [
              "100.0"
            ]
          },
          "metadata": {},
          "execution_count": 10
        }
      ]
    },
    {
      "cell_type": "code",
      "source": [
        "# obj1 = outer_func1()\n",
        "obj1(105)"
      ],
      "metadata": {
        "colab": {
          "base_uri": "https://localhost:8080/"
        },
        "id": "KUtGOKiuoy7N",
        "outputId": "0f4f07ce-9803-41b4-cda0-b9e76ff26410"
      },
      "execution_count": null,
      "outputs": [
        {
          "output_type": "execute_result",
          "data": {
            "text/plain": [
              "102.5"
            ]
          },
          "metadata": {},
          "execution_count": 11
        }
      ]
    },
    {
      "cell_type": "markdown",
      "source": [
        "Closures are used to save the environmental state of the function with the use of inner fucntion. Here we can see, the list to which elements are being appended is saved and recalled from the last point and used subsequently."
      ],
      "metadata": {
        "id": "nl70ruiMq8uH"
      }
    },
    {
      "cell_type": "markdown",
      "source": [
        "Similalry, with the use of decorator in the below code, we can see this can be maintained and resumed. The value of exponent is not being sent again and again."
      ],
      "metadata": {
        "id": "eBG4BsY2rsf7"
      }
    },
    {
      "cell_type": "code",
      "source": [
        "def generate_power(exponent):\n",
        "  def power(func):\n",
        "    def inner_power(*args):\n",
        "      base = func(*args)\n",
        "      return base**exponent\n",
        "    return inner_power\n",
        "  return power\n",
        "\n",
        "\n",
        "@generate_power(2)\n",
        "def raise_to_two(n):\n",
        "  return n\n",
        "\n",
        "@generate_power(3)\n",
        "def raise_to_three(n):\n",
        "  return n"
      ],
      "metadata": {
        "id": "nI6XYdrio0OL"
      },
      "execution_count": null,
      "outputs": []
    },
    {
      "cell_type": "code",
      "source": [
        "raise_to_two(5)\n"
      ],
      "metadata": {
        "colab": {
          "base_uri": "https://localhost:8080/"
        },
        "id": "sYkleaLCtUH0",
        "outputId": "442d9eea-2a02-4c20-aefd-9865fc8ecea6"
      },
      "execution_count": null,
      "outputs": [
        {
          "output_type": "execute_result",
          "data": {
            "text/plain": [
              "25"
            ]
          },
          "metadata": {},
          "execution_count": 14
        }
      ]
    },
    {
      "cell_type": "code",
      "source": [
        "raise_to_two(10)\n"
      ],
      "metadata": {
        "colab": {
          "base_uri": "https://localhost:8080/"
        },
        "id": "UuTJHJPHujGI",
        "outputId": "b147c56a-a0f0-4888-ae36-9ea6e1877526"
      },
      "execution_count": null,
      "outputs": [
        {
          "output_type": "execute_result",
          "data": {
            "text/plain": [
              "100"
            ]
          },
          "metadata": {},
          "execution_count": 16
        }
      ]
    },
    {
      "cell_type": "code",
      "source": [
        "raise_to_three(5)\n"
      ],
      "metadata": {
        "colab": {
          "base_uri": "https://localhost:8080/"
        },
        "id": "aWLkwpKMu-q0",
        "outputId": "cd455775-696d-4d47-b7bd-e275be64806b"
      },
      "execution_count": null,
      "outputs": [
        {
          "output_type": "execute_result",
          "data": {
            "text/plain": [
              "125"
            ]
          },
          "metadata": {},
          "execution_count": 17
        }
      ]
    },
    {
      "cell_type": "code",
      "source": [
        "raise_to_three(6)"
      ],
      "metadata": {
        "colab": {
          "base_uri": "https://localhost:8080/"
        },
        "id": "YgGLKxT7vBjb",
        "outputId": "dad3460b-3acd-4dec-b26d-bd26f20694aa"
      },
      "execution_count": null,
      "outputs": [
        {
          "output_type": "execute_result",
          "data": {
            "text/plain": [
              "216"
            ]
          },
          "metadata": {},
          "execution_count": 18
        }
      ]
    },
    {
      "cell_type": "markdown",
      "source": [
        "##ContextManager"
      ],
      "metadata": {
        "id": "-ebvNANjzgPU"
      }
    },
    {
      "cell_type": "markdown",
      "source": [
        "Using **decorator** for debug purpose here."
      ],
      "metadata": {
        "id": "kmidcaLT3smU"
      }
    },
    {
      "cell_type": "code",
      "source": [
        "class MyFileManager:\n",
        "\n",
        "  def debug(func):\n",
        "    def wrapper(*args, **kwargs):\n",
        "      print(f\"Calling {func.__name__} with args: {args} {kwargs}\")\n",
        "      result = func(*args, **kwargs)\n",
        "      print(f\"{func.__name__} returned {result}\")\n",
        "      return result\n",
        "    return wrapper\n",
        "\n",
        "  @debug\n",
        "  def __init__(self, filename, mode):\n",
        "    self.filename = filename\n",
        "    self.mode = mode\n",
        "\n",
        "  @debug\n",
        "  def __enter__(self):\n",
        "    # print(\"inside \")\n",
        "    self.file = open(self.filename, self.mode)\n",
        "    return self.file\n",
        "\n",
        "  @debug\n",
        "  def __exit__(self, exc_type, exc_value, traceback):\n",
        "  # def __exit__(self):\n",
        "    if self.file:\n",
        "      self.file.close()\n",
        "\n"
      ],
      "metadata": {
        "id": "3ePiCu6Ezf_j"
      },
      "execution_count": null,
      "outputs": []
    },
    {
      "cell_type": "code",
      "source": [
        "with MyFileManager(\"/content/Capture.txt\", 'w') as file:\n",
        "  file.write(\"Hello, I am writing\")"
      ],
      "metadata": {
        "colab": {
          "base_uri": "https://localhost:8080/"
        },
        "id": "40aj2RNb1piw",
        "outputId": "6792bded-1e83-4b54-e74b-38897a876501"
      },
      "execution_count": null,
      "outputs": [
        {
          "output_type": "stream",
          "name": "stdout",
          "text": [
            "Calling __init__ with args: (<__main__.MyFileManager object at 0x7bfbf3c408e0>, '/content/Capture.txt', 'w') {}\n",
            "__init__ returned None\n",
            "Calling __enter__ with args: (<__main__.MyFileManager object at 0x7bfbf3c408e0>,) {}\n",
            "__enter__ returned <_io.TextIOWrapper name='/content/Capture.txt' mode='w' encoding='UTF-8'>\n",
            "Calling __exit__ with args: (<__main__.MyFileManager object at 0x7bfbf3c408e0>, None, None, None) {}\n",
            "__exit__ returned None\n"
          ]
        }
      ]
    },
    {
      "cell_type": "markdown",
      "source": [
        "##Generators"
      ],
      "metadata": {
        "id": "Dti9Ffhz7Btm"
      }
    },
    {
      "cell_type": "markdown",
      "source": [
        "Here's how generators work step by step:\n",
        "\n",
        "Generator Function Definition:\n",
        "You define a generator function using the yield keyword. When the generator function is called, it doesn't execute immediately but returns a generator object, which acts as an iterator.\n",
        "\n",
        "First Call to the Generator Function:\n",
        "When you make the first call to the generator function, its code doesn't run completely. Instead, it runs until it encounters the yield statement. It then suspends its execution and yields the value provided after the yield keyword.\n",
        "\n",
        "Value Retrieval:\n",
        "When you request the next value from the generator using the next() function or in a loop, the generator resumes its execution from where it was last suspended. It continues until it hits another yield statement or runs out of code. It then yields the new value and suspends execution again.\n",
        "\n",
        "Iterating Through the Generator:\n",
        "You can use a for loop or other iteration methods to retrieve values from the generator. Each time you iterate, the generator produces and yields the next value on-the-fly.\n",
        "\n",
        "Stop Iteration:\n",
        "When the generator function runs out of code to execute or encounters a return statement, a StopIteration exception is raised, indicating the end of the iteration."
      ],
      "metadata": {
        "id": "m15A6K-KxbJ4"
      }
    },
    {
      "cell_type": "code",
      "source": [
        "def generator_example(limit):\n",
        "  num = 1\n",
        "  while num <= limit:\n",
        "    print(\"1st example\")\n",
        "    yield num\n",
        "    num += 1"
      ],
      "metadata": {
        "id": "zF2Gggze3SW7"
      },
      "execution_count": null,
      "outputs": []
    },
    {
      "cell_type": "code",
      "source": [
        "ge = generator_example(5)\n",
        "print(next(ge))\n",
        "print(next(ge))\n",
        "print(next(ge))\n",
        "print(next(ge))\n",
        "print(next(ge))\n",
        "# print(next(ge))\n",
        "# for i in ge:\n",
        "#   print(i)"
      ],
      "metadata": {
        "colab": {
          "base_uri": "https://localhost:8080/"
        },
        "id": "bGUUE1mT7aIZ",
        "outputId": "814d7d7b-496e-42df-b545-5a4ddb081066"
      },
      "execution_count": null,
      "outputs": [
        {
          "output_type": "stream",
          "name": "stdout",
          "text": [
            "1\n",
            "2\n",
            "3\n",
            "4\n",
            "5\n"
          ]
        }
      ]
    },
    {
      "cell_type": "markdown",
      "source": [
        "Generator expression:"
      ],
      "metadata": {
        "id": "PCqXsgnx7ycI"
      }
    },
    {
      "cell_type": "markdown",
      "source": [
        "Just like list comprehension, it stores the values in a variable which is a generator object and then upon using next on this iterable, we can get the values or we can use for loop."
      ],
      "metadata": {
        "id": "daIK3uy48Cqk"
      }
    },
    {
      "cell_type": "code",
      "source": [
        "squares = (x**2 for x in range(1,5))"
      ],
      "metadata": {
        "id": "qsweq4wu7oSu"
      },
      "execution_count": null,
      "outputs": []
    },
    {
      "cell_type": "code",
      "source": [
        "next(squares)"
      ],
      "metadata": {
        "colab": {
          "base_uri": "https://localhost:8080/"
        },
        "id": "PMjPDi4j76o6",
        "outputId": "f0c805b7-29a3-487b-cac1-a456ae590c4a"
      },
      "execution_count": null,
      "outputs": [
        {
          "output_type": "execute_result",
          "data": {
            "text/plain": [
              "4"
            ]
          },
          "metadata": {},
          "execution_count": 32
        }
      ]
    },
    {
      "cell_type": "markdown",
      "source": [
        "Keep running the above cell and it will return the values one by one. It means the genrator always resumes from where it was left. Generators provide memory-efficient iteration and are especially useful when dealing with large datasets, streaming data, or scenarios where we want to generate values on-the-fly. They contribute to cleaner and more readable code by avoiding the need to generate and store all values in memory at once."
      ],
      "metadata": {
        "id": "YqABl68c8X6n"
      }
    },
    {
      "cell_type": "code",
      "source": [
        "for i in squares:\n",
        "  print(i)"
      ],
      "metadata": {
        "colab": {
          "base_uri": "https://localhost:8080/"
        },
        "id": "DTtlcjV9BxS-",
        "outputId": "17efb93e-0990-4031-ed00-c929d80d467f"
      },
      "execution_count": null,
      "outputs": [
        {
          "output_type": "stream",
          "name": "stdout",
          "text": [
            "9\n",
            "16\n"
          ]
        }
      ]
    },
    {
      "cell_type": "markdown",
      "source": [
        "From the above cell result, it can be observed that since only last two results were left in the squares generator object and hence only those are printed."
      ],
      "metadata": {
        "id": "g5JLR7C8B6jA"
      }
    },
    {
      "cell_type": "code",
      "source": [
        "squares = (x**2 for x in range(1,5))"
      ],
      "metadata": {
        "id": "2mejqd7AD4Ag"
      },
      "execution_count": null,
      "outputs": []
    },
    {
      "cell_type": "code",
      "source": [
        "def gen_squares(sq_gen):\n",
        "  for i in sq_gen:\n",
        "    yield i"
      ],
      "metadata": {
        "id": "qbLDlYB3COy8"
      },
      "execution_count": null,
      "outputs": []
    },
    {
      "cell_type": "code",
      "source": [
        "for sq in gen_squares(squares):\n",
        "  print(sq)"
      ],
      "metadata": {
        "colab": {
          "base_uri": "https://localhost:8080/"
        },
        "id": "gdTxdqgNClvG",
        "outputId": "1193435c-dfd1-491d-f785-2514e34ed1a8"
      },
      "execution_count": null,
      "outputs": [
        {
          "output_type": "stream",
          "name": "stdout",
          "text": [
            "1\n",
            "4\n",
            "9\n",
            "16\n"
          ]
        }
      ]
    },
    {
      "cell_type": "code",
      "source": [
        "def gen_ex2(limit):\n",
        "  yield from generator_example(limit)\n",
        "  if limit < 10:\n",
        "    print(\"2nd example\")\n",
        "    yield limit\n"
      ],
      "metadata": {
        "id": "gZOyctJF8o2F"
      },
      "execution_count": null,
      "outputs": []
    },
    {
      "cell_type": "code",
      "source": [
        "def iterate_genex(genex):\n",
        "  if not any(i for i in genex):\n",
        "    print(\"The generator is empty, Fill in some fuel\")\n",
        "  else:\n",
        "    for i in genex:\n",
        "        print(i)"
      ],
      "metadata": {
        "id": "yjGFlUcuADuq"
      },
      "execution_count": null,
      "outputs": []
    },
    {
      "cell_type": "code",
      "source": [
        "genex = gen_ex2(12)"
      ],
      "metadata": {
        "id": "2gB1FTkV9fZN"
      },
      "execution_count": null,
      "outputs": []
    },
    {
      "cell_type": "code",
      "source": [
        "iterate_genex(genex)"
      ],
      "metadata": {
        "colab": {
          "base_uri": "https://localhost:8080/"
        },
        "id": "yEdgMdfn9iIS",
        "outputId": "8a535058-036e-428a-bb6d-fab05a6e7225"
      },
      "execution_count": null,
      "outputs": [
        {
          "output_type": "stream",
          "name": "stdout",
          "text": [
            "1st example\n",
            "1st example\n",
            "2\n",
            "1st example\n",
            "3\n",
            "1st example\n",
            "4\n",
            "1st example\n",
            "5\n",
            "1st example\n",
            "6\n",
            "1st example\n",
            "7\n",
            "1st example\n",
            "8\n",
            "1st example\n",
            "9\n",
            "1st example\n",
            "10\n",
            "1st example\n",
            "11\n",
            "1st example\n",
            "12\n"
          ]
        }
      ]
    },
    {
      "cell_type": "code",
      "source": [
        "genex = gen_ex2(5)"
      ],
      "metadata": {
        "id": "4hibtdR_-hSL"
      },
      "execution_count": null,
      "outputs": []
    },
    {
      "cell_type": "code",
      "source": [
        "iterate_genex(genex)"
      ],
      "metadata": {
        "colab": {
          "base_uri": "https://localhost:8080/"
        },
        "id": "-6TSEnF3-OB9",
        "outputId": "fa7ad2da-7b1c-48b1-f67d-89b91a461085"
      },
      "execution_count": null,
      "outputs": [
        {
          "output_type": "stream",
          "name": "stdout",
          "text": [
            "1st example\n",
            "1st example\n",
            "2\n",
            "1st example\n",
            "3\n",
            "1st example\n",
            "4\n",
            "1st example\n",
            "5\n",
            "2nd example\n",
            "5\n"
          ]
        }
      ]
    },
    {
      "cell_type": "code",
      "source": [
        "iterate_genex(genex)"
      ],
      "metadata": {
        "colab": {
          "base_uri": "https://localhost:8080/"
        },
        "id": "L390ZUaO-jhp",
        "outputId": "e8610789-980d-4ccc-ef57-d11767e3d387"
      },
      "execution_count": null,
      "outputs": [
        {
          "output_type": "stream",
          "name": "stdout",
          "text": [
            "The generator is empty, Fill in some fuel\n"
          ]
        }
      ]
    },
    {
      "cell_type": "code",
      "source": [
        "list(genex)"
      ],
      "metadata": {
        "colab": {
          "base_uri": "https://localhost:8080/"
        },
        "id": "-YL7v6_M_K0J",
        "outputId": "78d1c138-5554-4e87-e3fe-010ca3c29c6f"
      },
      "execution_count": null,
      "outputs": [
        {
          "output_type": "execute_result",
          "data": {
            "text/plain": [
              "[]"
            ]
          },
          "metadata": {},
          "execution_count": 77
        }
      ]
    },
    {
      "cell_type": "markdown",
      "source": [
        "##With Statement"
      ],
      "metadata": {
        "id": "D0lbi_ZcglvF"
      }
    },
    {
      "cell_type": "markdown",
      "source": [
        "The with statement in Python is used to simplify the management of resources, such as files, network connections, or locks. It ensures that the resource is properly acquired and released, **even in the presence of exceptions**. Here are some examples of using the with statement with different types of resources:"
      ],
      "metadata": {
        "id": "3j-vvYQNgx9-"
      }
    },
    {
      "cell_type": "markdown",
      "source": [
        "**Using with for File Handling:**"
      ],
      "metadata": {
        "id": "4T94mk73g183"
      }
    },
    {
      "cell_type": "code",
      "source": [
        "# Opening a file using 'with' statement\n",
        "with open('example.txt', 'r') as file:\n",
        "    content = file.read()\n",
        "    print(content)\n",
        "\n",
        "# File is automatically closed when the 'with' block is exited\n"
      ],
      "metadata": {
        "id": "0rpEpF45dIux"
      },
      "execution_count": null,
      "outputs": []
    },
    {
      "cell_type": "markdown",
      "source": [
        "**Using with for Locks (Mutexes):**"
      ],
      "metadata": {
        "id": "rACl-bddg6Xv"
      }
    },
    {
      "cell_type": "code",
      "source": [
        "import threading\n",
        "\n",
        "# Mutex for controlling access to shared resource\n",
        "mutex = threading.Lock()\n",
        "\n",
        "# Using 'with' statement to acquire and release the mutex\n",
        "def thread_function():\n",
        "    with mutex:\n",
        "        # Critical section\n",
        "        print(\"Thread is inside the critical section\")\n",
        "\n",
        "# Create and start a thread\n",
        "thread = threading.Thread(target=thread_function)\n",
        "thread.start()\n",
        "thread.join()\n"
      ],
      "metadata": {
        "id": "jGnZLtfAg9xq"
      },
      "execution_count": null,
      "outputs": []
    },
    {
      "cell_type": "markdown",
      "source": [
        "**Using with for Network Connections:**"
      ],
      "metadata": {
        "id": "fKytDtk_hAUP"
      }
    },
    {
      "cell_type": "code",
      "source": [
        "import socket\n",
        "\n",
        "# Creating a socket using 'with' statement\n",
        "with socket.socket(socket.AF_INET, socket.SOCK_STREAM) as s:\n",
        "    s.connect(('example.com', 80))\n",
        "    s.send(b'GET / HTTP/1.1\\r\\n\\r\\n')\n",
        "    response = s.recv(4096)\n",
        "    print(response.decode())\n",
        "# Socket is automatically closed when the 'with' block is exited\n"
      ],
      "metadata": {
        "id": "a7r0s9DSg-1k"
      },
      "execution_count": null,
      "outputs": []
    },
    {
      "cell_type": "markdown",
      "source": [
        "**Using with for Custom Context Managers:**"
      ],
      "metadata": {
        "id": "l2t1xRRWhEd5"
      }
    },
    {
      "cell_type": "code",
      "source": [
        "class MyContext:\n",
        "    def __enter__(self):\n",
        "        print(\"Entering the context\")\n",
        "        return self\n",
        "\n",
        "    def __exit__(self, exc_type, exc_value, traceback):\n",
        "        print(\"Exiting the context\")\n",
        "        if exc_type is not None:\n",
        "            print(f\"Exception occurred: {exc_type}, {exc_value}\")\n",
        "        return False  # Re-raise the exception if needed\n",
        "\n",
        "# Using custom context manager with 'with' statement\n",
        "with MyContext() as context:\n",
        "    print(\"Inside the context\")\n",
        "    # Uncomment the next line to simulate an exception\n",
        "    # raise Exception(\"An error occurred\")\n"
      ],
      "metadata": {
        "id": "OE4-0BuNhFme"
      },
      "execution_count": null,
      "outputs": []
    },
    {
      "cell_type": "markdown",
      "source": [
        "##Partial Functions"
      ],
      "metadata": {
        "id": "7pDLNF5cjMQs"
      }
    },
    {
      "cell_type": "markdown",
      "source": [
        "Partial functions as the name says, is used to freeze a function with arguments which is needed only once and thereafter, you want to use that function everytime with less number of arguments.\n",
        "\n",
        "This can be useful when you have a function that takes multiple arguments, but you want to create a new function with some of those arguments pre-set, essentially creating a simpler version of the original function.\n",
        "\n",
        "The functools.partial function is used to create partial functions. It takes a function and its arguments as arguments, and returns a new function with the specified arguments \"**frozen**.\"\n",
        "\n",
        "Here's a simple use case of partial functions:"
      ],
      "metadata": {
        "id": "cqTPCXXHkvIR"
      }
    },
    {
      "cell_type": "code",
      "source": [
        "from functools import partial\n",
        "import random\n",
        "# Original function\n",
        "def power(base, exponent):\n",
        "    # base=1\n",
        "    return base ** exponent\n",
        "\n",
        "cubes = partial(power, exponent=3)\n",
        "cubical_results = []\n",
        "for _ in range(10):\n",
        "  j = random.randint(1, 5)\n",
        "  cubical_results.append(cubes(j))\n",
        "\n",
        "cubical_results"
      ],
      "metadata": {
        "colab": {
          "base_uri": "https://localhost:8080/"
        },
        "id": "BP5t6t_fiexW",
        "outputId": "32838255-d75b-4e1b-ee5a-a04a25bab7a2"
      },
      "execution_count": null,
      "outputs": [
        {
          "output_type": "execute_result",
          "data": {
            "text/plain": [
              "[8, 27, 8, 8, 8, 27, 1, 8, 64, 125]"
            ]
          },
          "metadata": {},
          "execution_count": 16
        }
      ]
    },
    {
      "cell_type": "markdown",
      "source": [
        "In this example, the cubes function is a partial function created from the power function, with the base argument fixed to 3."
      ],
      "metadata": {
        "id": "rJgg96U1mbxt"
      }
    },
    {
      "cell_type": "markdown",
      "source": [
        "Another use case for partial functions is when working with **callback functions** that require specific arguments. For example, in GUI programming or event handling, you might need to pass additional arguments to a callback function:"
      ],
      "metadata": {
        "id": "Fp0dTyiemiPB"
      }
    },
    {
      "cell_type": "code",
      "source": [
        "import functools\n",
        "\n",
        "# def on_button_click(event, button_id, button_name, button_val):\n",
        "def on_button_click(event, button_name, button_val, button_id):\n",
        "    print(f\"Button {button_id} clicked!\")\n",
        "\n",
        "# Create partial functions for specific button IDs\n",
        "on_button_1_click = functools.partial(on_button_click, button_val=4, button_id=1)\n",
        "# on_button_1_click = functools.partial(on_button_click, button_val=4)\n",
        "on_button_2_click = functools.partial(on_button_click, button_id=2)\n",
        "\n",
        "# Simulate button clicks\n",
        "on_button_1_click(\"Click event\", \"REX\")  # Output: Button 1 clicked!\n",
        "on_button_2_click(\"Click event\", \"REX more\", 8)  # Output: Button 2 clicked!\n"
      ],
      "metadata": {
        "colab": {
          "base_uri": "https://localhost:8080/"
        },
        "id": "YaZNiqdXmfxb",
        "outputId": "527e9cc7-2eb6-448e-fec0-14a6a13cf61e"
      },
      "execution_count": null,
      "outputs": [
        {
          "output_type": "stream",
          "name": "stdout",
          "text": [
            "Button 1 clicked!\n",
            "Button 2 clicked!\n"
          ]
        }
      ]
    },
    {
      "cell_type": "markdown",
      "source": [
        "Few points to note here:\n",
        "* Once the function is frozen with the given arguments, you cannot pass that same argument again.\n",
        "* Another thing is, the passes arguments while the function is being frozen (line 8 and 9), the arguments for which values are being sent to the functions should start from end and not in the middle as shown in the commented line 3."
      ],
      "metadata": {
        "id": "wHn-9s7-nT9Z"
      }
    },
    {
      "cell_type": "markdown",
      "source": [
        "Partial functions are particularly useful when you have functions that take many arguments but you frequently need to use them with certain arguments held constant. They can help improve code readability and reduce the complexity of function calls."
      ],
      "metadata": {
        "id": "kwffEYx8oKl6"
      }
    },
    {
      "cell_type": "markdown",
      "source": [
        "##Lambda Functions"
      ],
      "metadata": {
        "id": "oy_xNfiopkzm"
      }
    },
    {
      "cell_type": "markdown",
      "source": [
        "Lambda functions in Python are used for creating small, anonymous functions without needing to define them using the def keyword. Here are some examples of different ways you can use lambda functions:"
      ],
      "metadata": {
        "id": "PDc7wGGxpte4"
      }
    },
    {
      "cell_type": "markdown",
      "source": [
        "**Sorting with Lambda:**"
      ],
      "metadata": {
        "id": "uiGAjIG0qTqY"
      }
    },
    {
      "cell_type": "code",
      "source": [
        "list_of_tuples = [(4,5), (5,10), (0,6), (11,7)]\n",
        "\n",
        "sorted_tuples = sorted(list_of_tuples, key=lambda i: i[1])\n",
        "sorted_tuples"
      ],
      "metadata": {
        "colab": {
          "base_uri": "https://localhost:8080/"
        },
        "id": "CC3aFi49pkaD",
        "outputId": "52e6e393-b053-4e0d-9317-237352f25efb"
      },
      "execution_count": null,
      "outputs": [
        {
          "output_type": "execute_result",
          "data": {
            "text/plain": [
              "[(4, 5), (0, 6), (11, 7), (5, 10)]"
            ]
          },
          "metadata": {},
          "execution_count": 24
        }
      ]
    },
    {
      "cell_type": "markdown",
      "source": [
        "**Using Lambda in Map:**"
      ],
      "metadata": {
        "id": "IKa6cb53qcmV"
      }
    },
    {
      "cell_type": "code",
      "source": [
        "numbers = [1, 2, 3, 4, 5]\n",
        "squared_numbers = map(lambda x: x ** 2, numbers)\n",
        "\n",
        "print(list(squared_numbers))  # Output: [1, 4, 9, 16, 25]\n"
      ],
      "metadata": {
        "id": "IDL7r1qanyIE"
      },
      "execution_count": null,
      "outputs": []
    },
    {
      "cell_type": "markdown",
      "source": [
        "**Using Lambda in Filter:**"
      ],
      "metadata": {
        "id": "lAi-u4FuqjCy"
      }
    },
    {
      "cell_type": "code",
      "source": [
        "numbers = [1, 2, 3, 4, 5, 6, 7, 8, 9]\n",
        "even_numbers = filter(lambda x: x % 2 == 0, numbers)\n",
        "\n",
        "print(list(even_numbers))  # Output: [2, 4, 6, 8]\n"
      ],
      "metadata": {
        "id": "7nf_NlKgqljd"
      },
      "execution_count": null,
      "outputs": []
    },
    {
      "cell_type": "markdown",
      "source": [
        "**Using Lambda in Reduce:**"
      ],
      "metadata": {
        "id": "L_RtZ-zsqoFa"
      }
    },
    {
      "cell_type": "code",
      "source": [
        "from functools import reduce\n",
        "\n",
        "numbers = [1, 2, 3, 4, 5]\n",
        "product = reduce(lambda x, y: x * y, numbers)\n",
        "\n",
        "print(product)  # Output: 120\n"
      ],
      "metadata": {
        "id": "ZSDtwsAJqo2e"
      },
      "execution_count": null,
      "outputs": []
    },
    {
      "cell_type": "markdown",
      "source": [
        "**Using Lambda in Custom Functions:**"
      ],
      "metadata": {
        "id": "XoMIHoJhqr0e"
      }
    },
    {
      "cell_type": "code",
      "source": [
        "def apply_operation(lambda_func, x, y):\n",
        "  return lambda_func(x,y)\n",
        "\n",
        "output1 = apply_operation(lambda k,l : \"sum: \" + str(k+l) , 5, 6)\n",
        "output2 = apply_operation(lambda kk,ll : \"multiply: \" + str(kk*ll) , 5, 6)\n",
        "\n",
        "output1, output2"
      ],
      "metadata": {
        "colab": {
          "base_uri": "https://localhost:8080/"
        },
        "id": "XONEU42TquSA",
        "outputId": "739a03a5-6d85-4021-d489-5a0399ffa580"
      },
      "execution_count": null,
      "outputs": [
        {
          "output_type": "execute_result",
          "data": {
            "text/plain": [
              "('sum: 11', 'multiply: 30')"
            ]
          },
          "metadata": {},
          "execution_count": 28
        }
      ]
    },
    {
      "cell_type": "markdown",
      "source": [
        "##Descriptors"
      ],
      "metadata": {
        "id": "c7DK8RL1P-6U"
      }
    },
    {
      "cell_type": "markdown",
      "source": [
        "Descriptors are a powerful mechanism to give custom behavior to attribute access. Descriptors are objects that define ***at least one*** of the special methods: `__get__(), __set__(),` or `__delete__()`. When an object's attribute is accessed, these methods can control the behavior of the attribute."
      ],
      "metadata": {
        "id": "dJzaaeUTXC3q"
      }
    },
    {
      "cell_type": "markdown",
      "source": [
        "Here's a quick rundown:\n",
        "\n",
        "* `__get__`(self, instance, owner):\n",
        "\n",
        "  Used to retrieve the value of an attribute.\n",
        "  instance is the instance for which the attribute was accessed (or None if accessed on the class itself).\n",
        "  owner is the owner class of the descriptor.\n",
        "* `__set__`(self, instance, value):\n",
        "\n",
        "  Called when we try to assign a value to the attribute.\n",
        "  instance is the instance to which the value is assigned.\n",
        "  value is the value to be assigned.\n",
        "* `__delete__`(self, instance):\n",
        "\n",
        "  Invoked when del is used to delete the attribute from an instance.\n",
        "  instance is the instance from which the attribute should be deleted.\n",
        "* `__set_name__`(self, owner, name):\n",
        "\n",
        "  Available from Python 3.6 onward.\n",
        "  Automatically called at the time of class creation.\n",
        "  Allows the descriptor to know both the class it is in (owner) and the name of the attribute (name).\n",
        "  Beyond these core descriptor methods, there aren't other \"built-in\" descriptor methods in Python. However, other methods and attributes can be defined on descriptor classes as needed, but they won't have the special behavior that the core descriptor methods have.\n",
        "\n",
        "That said, the presence or absence of these methods affects how the descriptor behaves:\n",
        "\n",
        "A descriptor that only implements `__get__` is called a \"**non-data descriptor**\" or \"non-overriding descriptor\". It cannot manage setting or deleting, and it can be easily overridden by instance attributes.\n",
        "\n",
        "A descriptor that implements `__set__` or `__delete__` (or both) is a \"**data descriptor**\" or \"overriding descriptor\". Data descriptors have precedence over instance attributes, meaning that if you have a data descriptor named foo and an instance attribute named foo, the descriptor will \"win\" in attribute lookups and the instance attribute will be effectively hidden."
      ],
      "metadata": {
        "id": "yMgTtJBt2_iZ"
      }
    },
    {
      "cell_type": "markdown",
      "source": [
        "Descriptor Protocol:\n",
        "\n",
        "`__get__(self, obj, type=None)`: This method returns the value of the attribute for a specific object (obj). The type argument is optional and if provided, is the type of the obj.\n",
        "\n",
        "`__set__(self, obj, value)`: This method is used to set the value of the attribute for a specific object (obj).\n",
        "\n",
        "`__delete__(self, obj)`: This method is used to delete an attribute from an object."
      ],
      "metadata": {
        "id": "-uaScgM0Yn6-"
      }
    },
    {
      "cell_type": "markdown",
      "source": [
        "Descriptors are often used for:\n",
        "\n",
        "* **Data validation**: Ensure that values assigned to an attribute meet certain conditions.\n",
        "\n",
        "* **Property calculation**: Compute the value of a property dynamically when it's accessed.\n",
        "\n",
        "* **Logging or tracking**: Log access to a certain attribute.\n",
        "\n",
        "* **Lazy attributes**: Compute the value of an attribute the first time it's accessed and store it for future use.\n",
        "\n",
        "* **Object-relational mapping**: Mapping database records to Python objects."
      ],
      "metadata": {
        "id": "3JPwrT6qX_Af"
      }
    },
    {
      "cell_type": "markdown",
      "source": [
        "We don't need to write separate descriptor classes for each attribute if their behavior or the conditions to be checked are similar. Descriptors can be designed to be reusable.\n",
        "\n",
        "Suppose you have multiple attributes for which you want to enforce the same or similar conditions, such as ensuring a value is non-negative, non-empty, or within a certain range. You can create a generic descriptor class and then instantiate it for each attribute.\n",
        "\n",
        "Let's look at a more concrete example. Imagine you have a database record representing a product, and you want to ensure that:\n",
        "\n",
        "The price is non-negative.\n",
        "The name is non-empty.\n",
        "The rating is between 0 and 5."
      ],
      "metadata": {
        "id": "xY-CJB-zZihS"
      }
    },
    {
      "cell_type": "code",
      "source": [
        "class NonNegative:\n",
        "    def __get__(self, instance, owner):\n",
        "        return instance.__dict__[self.name]\n",
        "\n",
        "    def __set__(self, instance, value):\n",
        "        if value < 0:\n",
        "            raise ValueError(f\"{self.name} cannot be negative.\")\n",
        "        instance.__dict__[self.name] = value\n",
        "\n",
        "    def __set_name__(self, owner, name):\n",
        "        self.name = name\n",
        "\n",
        "class NonEmpty:\n",
        "    def __get__(self, instance, owner):\n",
        "        return instance.__dict__[self.name]\n",
        "\n",
        "    def __set__(self, instance, value):\n",
        "        if not value:\n",
        "            raise ValueError(f\"{self.name} cannot be empty.\")\n",
        "        instance.__dict__[self.name] = value\n",
        "\n",
        "    def __set_name__(self, owner, name):\n",
        "        self.name = name\n",
        "\n",
        "class Range:\n",
        "    def __init__(self, min_value, max_value):\n",
        "        self.min_value = min_value\n",
        "        self.max_value = max_value\n",
        "\n",
        "    def __get__(self, instance, owner):\n",
        "        return instance.__dict__[self.name]\n",
        "\n",
        "    def __set__(self, instance, value):\n",
        "        if not (self.min_value <= value <= self.max_value):\n",
        "            raise ValueError(f\"{self.name} must be between {self.min_value} and {self.max_value}.\")\n",
        "        instance.__dict__[self.name] = value\n",
        "\n",
        "    def __set_name__(self, owner, name):\n",
        "        self.name = name\n",
        "\n",
        "class Product:\n",
        "    price = NonNegative()\n",
        "    name = NonEmpty()\n",
        "    rating = Range(0, 5)\n",
        "\n",
        "p = Product()\n",
        "p.price = 20   # Works fine\n",
        "p.name = \"Laptop\"  # Works fine\n",
        "p.rating = 4   # Works fine\n",
        "\n",
        "# p.price = -10  # Raises ValueError: price cannot be negative.\n",
        "# p.name = \"\"    # Raises ValueError: name cannot be empty.\n",
        "# p.rating = 7   # Raises ValueError: rating must be between 0 and 5.\n"
      ],
      "metadata": {
        "id": "4vximwUfRHOX"
      },
      "execution_count": null,
      "outputs": []
    },
    {
      "cell_type": "markdown",
      "source": [
        "In the example above:\n",
        "\n",
        "We created generic descriptors (NonNegative, NonEmpty, Range) that can be reused for any attribute with the specified conditions.\n",
        "\n",
        "The `__set_name__` method (available from Python 3.6 onwards) automatically sets the attribute's name on the descriptor. This is helpful for error messages and to index into the `__dict__` attribute storage.\n",
        "\n",
        "By using such descriptors, you can apply consistent validation or behavior across multiple attributes without duplicating code or creating individual descriptor classes for each attribute."
      ],
      "metadata": {
        "id": "II5ivT9-Zo2f"
      }
    },
    {
      "cell_type": "code",
      "source": [
        "p.__dir__()"
      ],
      "metadata": {
        "colab": {
          "base_uri": "https://localhost:8080/"
        },
        "id": "bOOsgnYTUdn7",
        "outputId": "9fc1a21f-3610-498f-c461-405964dff91b"
      },
      "execution_count": null,
      "outputs": [
        {
          "output_type": "execute_result",
          "data": {
            "text/plain": [
              "['price',\n",
              " 'name',\n",
              " 'rating',\n",
              " '__module__',\n",
              " '__dict__',\n",
              " '__weakref__',\n",
              " '__doc__',\n",
              " '__new__',\n",
              " '__repr__',\n",
              " '__hash__',\n",
              " '__str__',\n",
              " '__getattribute__',\n",
              " '__setattr__',\n",
              " '__delattr__',\n",
              " '__lt__',\n",
              " '__le__',\n",
              " '__eq__',\n",
              " '__ne__',\n",
              " '__gt__',\n",
              " '__ge__',\n",
              " '__init__',\n",
              " '__reduce_ex__',\n",
              " '__reduce__',\n",
              " '__subclasshook__',\n",
              " '__init_subclass__',\n",
              " '__format__',\n",
              " '__sizeof__',\n",
              " '__dir__',\n",
              " '__class__']"
            ]
          },
          "metadata": {},
          "execution_count": 9
        }
      ]
    },
    {
      "cell_type": "code",
      "source": [
        "p.__getattribute__(\"price\")"
      ],
      "metadata": {
        "colab": {
          "base_uri": "https://localhost:8080/"
        },
        "id": "8cYaUZF_Xa26",
        "outputId": "00fdb841-e427-435d-fd38-6b0906c54e61"
      },
      "execution_count": null,
      "outputs": [
        {
          "output_type": "execute_result",
          "data": {
            "text/plain": [
              "20"
            ]
          },
          "metadata": {},
          "execution_count": 12
        }
      ]
    },
    {
      "cell_type": "markdown",
      "source": [
        "In the descriptor methods you saw above (`__get__`and `__set__`), the arguments instance and owner have specific meanings:\n",
        "\n",
        "**instance**: This is the instance of the object for which the descriptor is accessed. In the context of the Product class example I provided, when you do something like p.price or p.price = 20, the p object (which is an instance of Product) is passed as the instance argument to the descriptor's methods.\n",
        "\n",
        "**owner**: This is the class that owns the descriptor. In our example, the owner would be the Product class itself (not the instance p, but the actual class). This argument is most often used in the `__get__` method. One common use of owner is when you want to access class-level attributes or methods from within the descriptor."
      ],
      "metadata": {
        "id": "F93B1p0E03Kd"
      }
    },
    {
      "cell_type": "code",
      "source": [
        "class MyDescriptor:\n",
        "    def __get__(self, instance, owner):\n",
        "        if instance is None:\n",
        "            return self\n",
        "        print(f\"Called __get__ on {owner} class's descriptor for instance {instance}\")\n",
        "\n",
        "    def __set__(self, instance, value):\n",
        "        print(f\"Called __set__ on {type(instance)} class's descriptor for instance {instance} with value {value}\")\n",
        "\n",
        "class MyClass:\n",
        "    attribute = MyDescriptor()\n",
        "\n",
        "    def __init__(self):\n",
        "      print(\".......attribute..class..\", MyClass.attribute)\n",
        "      print(\".......attribute..instance..\", self.attribute)\n",
        "\n",
        "obj = MyClass()\n",
        "\n",
        "# Accessing and setting the descriptor via an instance\n",
        "obj.attribute  # Calls __get__ and prints: Called __get__ on MyClass class's descriptor for instance <__main__.MyClass object at ...>\n",
        "obj.attribute = 5  # Calls __set__ and prints: Called __set__ on <class '__main__.MyClass'> class's descriptor for instance <__main__.MyClass object at ...> with value 5\n",
        "\n",
        "# Accessing the descriptor via the class\n",
        "MyClass.attribute  # Calls __get__ but instance is None, so it just returns self (i.e., the descriptor instance)\n"
      ],
      "metadata": {
        "id": "2RSgAOyJXpIK",
        "colab": {
          "base_uri": "https://localhost:8080/"
        },
        "outputId": "432e3f6d-1f64-47bc-aa20-f6c2d82fd2a3"
      },
      "execution_count": null,
      "outputs": [
        {
          "output_type": "stream",
          "name": "stdout",
          "text": [
            ".......attribute..class.. <__main__.MyDescriptor object at 0x7be2ed8a73d0>\n",
            "Called __get__ on <class '__main__.MyClass'> class's descriptor for instance <__main__.MyClass object at 0x7be2ed8a5b70>\n",
            ".......attribute..instance.. None\n",
            "Called __get__ on <class '__main__.MyClass'> class's descriptor for instance <__main__.MyClass object at 0x7be2ed8a5b70>\n",
            "Called __set__ on <class '__main__.MyClass'> class's descriptor for instance <__main__.MyClass object at 0x7be2ed8a5b70> with value 5\n"
          ]
        },
        {
          "output_type": "execute_result",
          "data": {
            "text/plain": [
              "<__main__.MyDescriptor at 0x7be2ed8a73d0>"
            ]
          },
          "metadata": {},
          "execution_count": 10
        }
      ]
    },
    {
      "cell_type": "markdown",
      "source": [
        "In the example above, when you access or set the descriptor through an instance (obj), both instance and owner are populated in the descriptor methods. But when accessing via the class (MyClass), the instance is None and only the owner is populated."
      ],
      "metadata": {
        "id": "uhlT9hxV1YTn"
      }
    },
    {
      "cell_type": "markdown",
      "source": [
        "This behavior is due to how the `__init__` method in MyClass interacts with the descriptor's `__get__` method. Let's break down the order of execution in your code:\n",
        "\n",
        "* You create an instance of MyClass using obj = MyClass().\n",
        "* This calls the `__init__` method of MyClass.\n",
        "* Inside `__init__`, you access MyClass.attribute. This calls the `__get__` method of MyDescriptor with instance set to None (since you're accessing it via the class and not an instance). Since instance is None, the method just returns the descriptor instance without printing anything.\n",
        "* Next, inside `__init__`, you access self.attribute. This again calls the `__get__` method of MyDescriptor, but this time with the instance being the obj you're currently initializing. As a result, it prints: Called __get__ on MyClass class's descriptor for instance <__main__.MyClass object at ...>\n",
        "* After the `__get__` call finishes, the control returns to the `__init__` method and the next print statement is executed. Thus, you see the next .......attribute.... printed."
      ],
      "metadata": {
        "id": "8iz9gfHx5xA1"
      }
    },
    {
      "cell_type": "markdown",
      "source": [
        "To summarize, the print statements in the `__init__` method are being interrupted by the print inside the descriptor's `__get__` method because the `__get__` method is called (and therefore its print is executed) during the execution of the `__init__` method."
      ],
      "metadata": {
        "id": "ZwXElkMM6MTb"
      }
    },
    {
      "cell_type": "markdown",
      "source": [
        "\n",
        "\n",
        "---\n",
        "\n"
      ],
      "metadata": {
        "id": "TIvFiCG07iIc"
      }
    },
    {
      "cell_type": "markdown",
      "source": [
        "Here are some advanced aspects of descriptors, along with a few tricks and use cases:"
      ],
      "metadata": {
        "id": "4qBV4CjH7jbD"
      }
    },
    {
      "cell_type": "markdown",
      "source": [
        "**Read-only Descriptors:**\n",
        "Descriptors can be made read-only by only implementing the `__get__` method without a `__set__` method."
      ],
      "metadata": {
        "id": "T5I21oWR7oDP"
      }
    },
    {
      "cell_type": "code",
      "source": [
        "class ReadOnlyDescriptor:\n",
        "    def __get__(self, instance, owner):\n",
        "        return \"This value is read-only\"\n"
      ],
      "metadata": {
        "id": "koUft1GP7kaw"
      },
      "execution_count": null,
      "outputs": []
    },
    {
      "cell_type": "markdown",
      "source": [
        "**Lazy Properties:**\n",
        "Descriptors can be used to implement lazy evaluation for attributes. This can be especially useful if the computation of the attribute's value is expensive."
      ],
      "metadata": {
        "id": "CwIpdZmU7x15"
      }
    },
    {
      "cell_type": "code",
      "source": [
        "class LazyProperty:\n",
        "    def __init__(self, func):\n",
        "        self.func = func\n",
        "        self.name = func.__name__\n",
        "\n",
        "    def __get__(self, instance, owner):\n",
        "        if instance is None:\n",
        "            return self\n",
        "        value = self.func(instance)\n",
        "        setattr(instance, self.name, value)\n",
        "        return value\n",
        "\n",
        "class MyClass:\n",
        "    @LazyProperty\n",
        "    def expensive_operation(self):\n",
        "        print(\"Computing...\")\n",
        "        return 42\n",
        "\n",
        "obj = MyClass()\n",
        "obj.value = 5"
      ],
      "metadata": {
        "id": "yP52483O70NP"
      },
      "execution_count": null,
      "outputs": []
    },
    {
      "cell_type": "markdown",
      "source": [
        "**Descriptor as a Decorator:**\n",
        "Descriptors can be used as decorators to influence behavior on a method or attribute. Here, the Positive descriptor ensures that the data attribute of SomeClass is always positive when accessed."
      ],
      "metadata": {
        "id": "0kSyAm7i8N0j"
      }
    },
    {
      "cell_type": "code",
      "source": [
        "class Positive:\n",
        "    def __init__(self, func):\n",
        "        self.func = func\n",
        "\n",
        "    def __get__(self, instance, owner):\n",
        "        value = self.func(instance)\n",
        "        if value < 0:\n",
        "            raise ValueError(\"Value must be positive!\")\n",
        "        return value\n",
        "\n",
        "class SomeClass:\n",
        "    def __init__(self, data):\n",
        "        self._data = data\n",
        "\n",
        "    @Positive\n",
        "    def data(self):\n",
        "        return self._data\n"
      ],
      "metadata": {
        "id": "pU6Zli_D8K2W"
      },
      "execution_count": null,
      "outputs": []
    },
    {
      "cell_type": "markdown",
      "source": [
        "**Caching with Descriptors:**\n",
        "Caching values is another common use case. Python has a built-in @property decorator that, combined with descriptors, allows you to cache values efficiently."
      ],
      "metadata": {
        "id": "eLLK42WV8XR3"
      }
    },
    {
      "cell_type": "code",
      "source": [
        "class CachedProperty:\n",
        "    def __init__(self, func):\n",
        "        self.func = func\n",
        "        self.name = func.__name__\n",
        "\n",
        "    def __get__(self, instance, owner):\n",
        "        if instance is None:\n",
        "            return self\n",
        "        value = instance.__dict__.get(self.name, None)\n",
        "        if value is None:\n",
        "            value = self.func(instance)\n",
        "            instance.__dict__[self.name] = value\n",
        "        return value\n",
        "\n",
        "class MyClass:\n",
        "    @CachedProperty\n",
        "    def heavy_computation(self):\n",
        "        print(\"Computing...\")\n",
        "        return 42\n"
      ],
      "metadata": {
        "id": "-JW4WcyN8YdA"
      },
      "execution_count": null,
      "outputs": []
    },
    {
      "cell_type": "markdown",
      "source": [
        "**Storing Descriptor Data:**\n",
        "One common pitfall with descriptors is trying to store data directly on them. If you have multiple instances of the class containing the descriptor, this can lead to shared state across instances. One solution is to ***store the state*** on the instance itself (using the `__dict__` attribute of the instance, for example)."
      ],
      "metadata": {
        "id": "je1JjF9z8b28"
      }
    },
    {
      "cell_type": "markdown",
      "source": [
        "**Difference between Descriptors and Decorators:**\n",
        "Descriptors are often confused with decorators like @property, but there's a key difference:\n",
        "\n",
        "Descriptors are classes that implement the descriptor protocol and provide custom behavior for attribute access.\n",
        "\n",
        "Decorators are functions (or classes) that modify or enhance functions or methods. The @property decorator is actually built on top of the descriptor protocol."
      ],
      "metadata": {
        "id": "nL9je7ig9n-8"
      }
    },
    {
      "cell_type": "markdown",
      "source": [
        "Descriptors are a more advanced feature of Python, but they're the foundation for several built-in Python tools like **staticmethod, classmethod, and property**. When designing classes and frameworks, understanding descriptors can enable more flexible and dynamic attribute behavior."
      ],
      "metadata": {
        "id": "R4TIWDyS9yxQ"
      }
    },
    {
      "cell_type": "markdown",
      "source": [
        "\n",
        "\n",
        "---\n",
        "\n"
      ],
      "metadata": {
        "id": "r2zgQ2yi8jD5"
      }
    },
    {
      "cell_type": "markdown",
      "source": [
        "**Static class:**\n",
        "\n",
        "A staticmethod is a method that belongs to a class rather than an instance of the class. It doesn't require any reference to instance-specific data or methods. This means it can't modify the class state or the instance state. It is defined using the @staticmethod decorator.\n",
        "\n"
      ],
      "metadata": {
        "id": "N-2xTsC1CWRu"
      }
    },
    {
      "cell_type": "markdown",
      "source": [
        "**Characteristics:**\n",
        "* It doesn't take a mandatory first parameter like self (for instance methods) or cls (for class methods).\n",
        "* It's bound to the class and not the instance, meaning you can't access/modify the instance or class-specific data from within the static method.\n",
        "\n",
        "\n",
        "**Usage:**\n",
        "You'd typically use staticmethods to create utility functions that are somewhat related to the class but don't need access to any instance-specific data or methods."
      ],
      "metadata": {
        "id": "5Z-cbcylCZCs"
      }
    },
    {
      "cell_type": "code",
      "source": [
        "class Math:\n",
        "    @staticmethod\n",
        "    def add(x, y):\n",
        "        return x + y\n",
        "\n",
        "# Use the static method\n",
        "result = Math.add(5, 3)\n",
        "print(result)  # Outputs: 8\n"
      ],
      "metadata": {
        "colab": {
          "base_uri": "https://localhost:8080/"
        },
        "id": "2eaVkBNAQFxI",
        "outputId": "0354aa0a-ca51-43cc-dbfa-2709971c11d4"
      },
      "execution_count": null,
      "outputs": [
        {
          "output_type": "stream",
          "name": "stdout",
          "text": [
            "8\n"
          ]
        }
      ]
    },
    {
      "cell_type": "markdown",
      "source": [
        "\n",
        "\n",
        "---\n",
        "\n"
      ],
      "metadata": {
        "id": "a-OM91Q0JOj_"
      }
    },
    {
      "cell_type": "markdown",
      "source": [
        "**Classmethod:**\n",
        "\n",
        "A classmethod is a method that is bound to the class and not the instance. It can't modify instance-specific data but can modify class-level data. It is defined using the @classmethod decorator.\n",
        "\n",
        "**Characteristics:**\n",
        "\n",
        "The first parameter is a reference to the class itself, and it's conventionally named cls.\n",
        "It can't access or modify instance-specific data unless it's passed an instance explicitly.\n",
        "\n",
        "**Usage:**\n",
        "\n",
        "You'd use class methods for factory methods, initialization methods, or other methods that need to interact with the class itself rather than instances."
      ],
      "metadata": {
        "id": "xkeB-fWyC-Fy"
      }
    },
    {
      "cell_type": "markdown",
      "source": [
        "**Static class:**\n",
        "\n",
        "A staticmethod is a method that belongs to a class rather than an instance of the class. It doesn't require any reference to instance-specific data or methods. This means it can't modify the class state or the instance state. It is defined using the @staticmethod decorator.\n",
        "\n"
      ],
      "metadata": {
        "id": "o2YwBqbqw6zb"
      }
    },
    {
      "cell_type": "markdown",
      "source": [
        "**Characteristics:**\n",
        "* It doesn't take a mandatory first parameter like self (for instance methods) or cls (for class methods).\n",
        "* It's bound to the class and not the instance, meaning you can't access/modify the instance or class-specific data from within the static method.\n",
        "\n",
        "\n",
        "**Usage:**\n",
        "You'd typically use staticmethods to create utility functions that are somewhat related to the class but don't need access to any instance-specific data or methods."
      ],
      "metadata": {
        "id": "lTrfljz6w6zc"
      }
    },
    {
      "cell_type": "code",
      "source": [
        "class Math:\n",
        "    @staticmethod\n",
        "    def add(x, y):\n",
        "        return x + y\n",
        "\n",
        "# Use the static method\n",
        "result = Math.add(5, 3)\n",
        "print(result)  # Outputs: 8\n"
      ],
      "metadata": {
        "colab": {
          "base_uri": "https://localhost:8080/"
        },
        "outputId": "0354aa0a-ca51-43cc-dbfa-2709971c11d4",
        "id": "igBUIEuRw6zd"
      },
      "execution_count": null,
      "outputs": [
        {
          "output_type": "stream",
          "name": "stdout",
          "text": [
            "8\n"
          ]
        }
      ]
    },
    {
      "cell_type": "markdown",
      "source": [
        "\n",
        "\n",
        "---\n",
        "\n"
      ],
      "metadata": {
        "id": "Iaoq6Cfjw6zd"
      }
    },
    {
      "cell_type": "markdown",
      "source": [
        "**Classmethod:**\n",
        "\n",
        "A classmethod is a method that is bound to the class and not the instance. It can't modify instance-specific data but can modify class-level data. It is defined using the @classmethod decorator.\n",
        "\n",
        "**Characteristics:**\n",
        "\n",
        "The first parameter is a reference to the class itself, and it's conventionally named cls.\n",
        "It can't access or modify instance-specific data unless it's passed an instance explicitly.\n",
        "\n",
        "**Usage:**\n",
        "\n",
        "You'd use class methods for factory methods, initialization methods, or other methods that need to interact with the class itself rather than instances."
      ],
      "metadata": {
        "id": "yIX56hONw6ze"
      }
    },
    {
      "cell_type": "code",
      "source": [
        "class Person:\n",
        "    cls_count = 0\n",
        "\n",
        "    def __init__(self, name):\n",
        "        self.name = name\n",
        "        self.obj_count = 0\n",
        "        Person.cls_count += 1\n",
        "\n",
        "    @classmethod\n",
        "    def get_instance_count(cls):\n",
        "        return cls.cls_count\n",
        "\n",
        "    def get_obj_count(self):\n",
        "      self.obj_count += 1\n",
        "      return self.obj_count\n",
        "\n",
        "john = Person(\"John\")\n",
        "jane = Person(\"Jane\")\n",
        "\n",
        "# Use the class method\n",
        "print(Person.get_instance_count())  # Outputs: 2\n",
        "john.get_obj_count(), jane.get_obj_count()"
      ],
      "metadata": {
        "id": "Ppb3KkcTQDMH",
        "colab": {
          "base_uri": "https://localhost:8080/"
        },
        "outputId": "08af9a22-5772-43c2-ef70-be155a68acd1"
      },
      "execution_count": null,
      "outputs": [
        {
          "output_type": "stream",
          "name": "stdout",
          "text": [
            "2\n"
          ]
        },
        {
          "output_type": "execute_result",
          "data": {
            "text/plain": [
              "(1, 1)"
            ]
          },
          "metadata": {},
          "execution_count": 30
        }
      ]
    },
    {
      "cell_type": "markdown",
      "source": [
        "\n",
        "\n",
        "---\n",
        "\n"
      ],
      "metadata": {
        "id": "g9FHvrMpJPvf"
      }
    },
    {
      "cell_type": "markdown",
      "source": [
        "**Property** is a way to introduce getters and setters to an attribute in a class, allowing custom behavior when an attribute is accessed or set. This mechanism provides a way to use methods as attributes, turning method calls into attribute access.\n",
        "\n",
        "**Characteristics:**\n",
        "\n",
        "Allows encapsulation and keeps the interface consistent.\n",
        "You can define a getter, a setter, and a deleter for an attribute.\n",
        "\n",
        "\n",
        "**Usage:**\n",
        "\n",
        "If you want to provide controlled access or computed values for an attribute, you'd use property."
      ],
      "metadata": {
        "id": "k7AoYhWeEb9o"
      }
    },
    {
      "cell_type": "code",
      "source": [
        "class Circle:\n",
        "    def __init__(self, radius):\n",
        "        self._radius = radius\n",
        "\n",
        "    @property\n",
        "    def radius(self):\n",
        "        return self._radius\n",
        "\n",
        "    @radius.setter\n",
        "    def radius(self, value):\n",
        "        if value < 0:\n",
        "            raise ValueError(\"Radius cannot be negative!\")\n",
        "        self._radius = value\n",
        "\n",
        "    @property\n",
        "    def area(self):\n",
        "        return 3.14159 * self._radius * self._radius\n",
        "\n",
        "c = Circle(5)\n",
        "print(c.area)  # Outputs: 78.53975, note the lack of parentheses\n",
        "\n",
        "c.radius = 3   # Sets the radius using the setter\n",
        "# c.radius = -5  # This would raise a ValueError\n"
      ],
      "metadata": {
        "colab": {
          "base_uri": "https://localhost:8080/"
        },
        "id": "mBFBwtG-EfHL",
        "outputId": "efaee755-a37a-43cb-d7f2-d4fcd7072b19"
      },
      "execution_count": null,
      "outputs": [
        {
          "output_type": "stream",
          "name": "stdout",
          "text": [
            "78.53975\n"
          ]
        }
      ]
    },
    {
      "cell_type": "markdown",
      "source": [
        "In the example, area is a read-only property since we haven't provided a setter for it. The radius property uses both a getter and a setter to provide controlled access."
      ],
      "metadata": {
        "id": "VtSJ2UsZEmoi"
      }
    },
    {
      "cell_type": "markdown",
      "source": [
        "**Conclusion:**\n",
        "\n",
        "**staticmethod:** A method that's bound to the class, not its instance, and cannot modify or access any attributes of the class or the instance.\n",
        "\n",
        "**classmethod:** A method that's bound to the class and can access or modify class-level attributes.\n",
        "\n",
        "**property:** Provides a mechanism to introduce controlled attribute access via methods, often used for encapsulation and computed attributes."
      ],
      "metadata": {
        "id": "mJ5_obFFEpYQ"
      }
    },
    {
      "cell_type": "markdown",
      "source": [
        "**Difference between descriptors and property:**\n",
        "\n",
        "@property: It's a simpler and more intuitive way to transform an attribute into a method without changing its access semantics. If you only need to customize the getting (and optionally setting) of an attribute in a straightforward manner, @property is often the way to go. Use @property when you have a simple use case restricted to one class.\n",
        "\n",
        "Descriptors: These provide a more general mechanism for custom attribute access. If you need more control over the behavior, or if you want to create a reusable component that can be used in multiple classes, then descriptors are more suitable. Opt for descriptors when you need a reusable component, or you're dealing with more complex scenarios that might involve additional methods or external data."
      ],
      "metadata": {
        "id": "x_OQFhzgIOH6"
      }
    },
    {
      "cell_type": "markdown",
      "source": [
        "\n",
        "\n",
        "---\n",
        "\n"
      ],
      "metadata": {
        "id": "CI6yRvKKILdn"
      }
    },
    {
      "cell_type": "markdown",
      "source": [
        "Difference between **class method and static method**:\n",
        "\n",
        "* classmethod: This method takes a reference to the class, cls, as its first parameter. It can modify the class state that applies across all instances of the class.\n",
        "\n",
        "* staticmethod: This method doesn't take any special first parameter. It can't modify class state or instance state. It behaves like a plain function, except that it ***belongs to the class's namespace***.\n"
      ],
      "metadata": {
        "id": "uMBZZ76mG9wp"
      }
    },
    {
      "cell_type": "markdown",
      "source": [
        "Use Cases:\n",
        "\n",
        "Class Method:\n",
        "A classic use case for classmethod is factory methods. Factory methods are those methods which return a class object (like constructor) for different use cases.\n",
        "\n",
        "Let's consider a simple example. Suppose we have a class Person and we want to create persons using different kinds of inputs. We can use class methods for this:"
      ],
      "metadata": {
        "id": "Z40itNoIHTKY"
      }
    },
    {
      "cell_type": "code",
      "source": [
        "class Person:\n",
        "    def __init__(self, name):\n",
        "        self.name = name\n",
        "\n",
        "    @classmethod\n",
        "    def from_full_name(cls, full_name):\n",
        "        first_name = full_name.split(\" \")[0]\n",
        "        return cls(first_name)\n"
      ],
      "metadata": {
        "id": "eQZPwJGfHXk_"
      },
      "execution_count": null,
      "outputs": []
    },
    {
      "cell_type": "markdown",
      "source": [
        "With the above setup, you can create a Person object in two ways:"
      ],
      "metadata": {
        "id": "e7iuapAmHaq0"
      }
    },
    {
      "cell_type": "code",
      "source": [
        "p1 = Person(\"John\")\n",
        "p2 = Person.from_full_name(\"John Doe\")\n"
      ],
      "metadata": {
        "id": "8WWk2RGjHbBR"
      },
      "execution_count": null,
      "outputs": []
    },
    {
      "cell_type": "markdown",
      "source": [
        "Note that from_full_name is a classmethod that returns an instance of its own class using a different kind of input. Here, **using a staticmethod** wouldn't be appropriate because we need to access the class itself to create an instance."
      ],
      "metadata": {
        "id": "EB5RUIlVHg4O"
      }
    },
    {
      "cell_type": "markdown",
      "source": [
        "staticmethod is used to perform an action that doesn't depend on class's state. It simply deals with the parameters.\n",
        "\n",
        "Let's say, in the Person class, we want a method to validate a name (maybe we don't want names with numbers or special characters):"
      ],
      "metadata": {
        "id": "tNkCRv5DHwSK"
      }
    },
    {
      "cell_type": "code",
      "source": [
        "class Person:\n",
        "    def __init__(self, name):\n",
        "        self.name = name\n",
        "\n",
        "    @staticmethod\n",
        "    def is_valid_name(name):\n",
        "        return name.isalpha()\n"
      ],
      "metadata": {
        "id": "M_klRbg7Hx2X"
      },
      "execution_count": null,
      "outputs": []
    },
    {
      "cell_type": "markdown",
      "source": [
        "Here, is_valid_name doesn't require access to any class-specific or instance-specific data/methods, so it's a staticmethod.\n",
        "\n",
        "You'd use it as:"
      ],
      "metadata": {
        "id": "MdUDgBHuHzz1"
      }
    },
    {
      "cell_type": "code",
      "source": [
        "if Person.is_valid_name(\"John23\"):\n",
        "    print(\"Valid name!\")\n",
        "else:\n",
        "    print(\"Invalid name!\")\n"
      ],
      "metadata": {
        "colab": {
          "base_uri": "https://localhost:8080/"
        },
        "id": "fvJgcH8-H0jQ",
        "outputId": "4cce96c8-aff0-4e78-eebc-7c1079272bf8"
      },
      "execution_count": null,
      "outputs": [
        {
          "output_type": "stream",
          "name": "stdout",
          "text": [
            "Invalid name!\n"
          ]
        }
      ]
    },
    {
      "cell_type": "markdown",
      "source": [
        "\n",
        "\n",
        "---\n",
        "\n"
      ],
      "metadata": {
        "id": "Pt4fbwLRExCT"
      }
    },
    {
      "cell_type": "markdown",
      "source": [
        "##Composition And Aggregation"
      ],
      "metadata": {
        "id": "HZlAt5N39cBh"
      }
    },
    {
      "cell_type": "markdown",
      "source": [
        "**Composition**\n",
        "\n",
        "Definition:\n",
        "\n",
        "It implies a strong relationship between the owning class (often called the \"whole\" or \"parent\") and the owned class (often called the \"part\" or \"child\").\n",
        "The lifecycle of the owned object is tied to the lifecycle of the owning object.\n",
        "\n",
        "Characteristics:\n",
        "\n",
        "Strong Ownership: The \"part\" doesn't have an independent existence. If the \"whole\" is destroyed, the \"part\" is destroyed as well.\n",
        "\n",
        "Lifespan Dependency: The lifespan of the \"part\" depends on the lifespan of the \"whole\"."
      ],
      "metadata": {
        "id": "cITSiq-X9l-I"
      }
    },
    {
      "cell_type": "markdown",
      "source": [
        "Real-World Example: Computer and Motherboard:\n",
        "\n",
        "Imagine you're modeling a computer system. A key component of any computer is its motherboard. If the computer ceases to exist (say it's destroyed or dismantled), the motherboard loses its context and function. This strong relationship and dependency is an example of composition."
      ],
      "metadata": {
        "id": "QOVLQs5e-BlL"
      }
    },
    {
      "cell_type": "code",
      "source": [
        "class Motherboard:\n",
        "    def __init__(self, model):\n",
        "        self.model = model\n",
        "\n",
        "class Computer:\n",
        "    def __init__(self, mb_model):\n",
        "        self.motherboard = Motherboard(mb_model)\n",
        "\n",
        "    def __del__(self):\n",
        "        print(f\"Destroying motherboard {self.motherboard.model}\")\n",
        "        del self.motherboard\n",
        "\n",
        "# Creating and deleting a computer also initializes and deletes its motherboard.\n",
        "pc = Computer(\"ASUS_ROG_X570\")\n",
        "del pc\n"
      ],
      "metadata": {
        "colab": {
          "base_uri": "https://localhost:8080/"
        },
        "id": "3xXb_Sgn9gs9",
        "outputId": "5212365b-d2bf-41e5-8234-50ededff4dc2"
      },
      "execution_count": null,
      "outputs": [
        {
          "output_type": "stream",
          "name": "stdout",
          "text": [
            "Destroying motherboard ASUS_ROG_X570\n"
          ]
        }
      ]
    },
    {
      "cell_type": "markdown",
      "source": [
        "Significance:\n",
        "\n",
        "The Motherboard can't function outside the context of the Computer. Its existence is solely dependent on the computer.\n",
        "\n",
        "If a Computer instance is destroyed, the associated Motherboard should be destroyed as well."
      ],
      "metadata": {
        "id": "LVhauEkt-G7x"
      }
    },
    {
      "cell_type": "markdown",
      "source": [
        "**Aggregation**\n",
        "\n",
        "Definition:\n",
        "\n",
        "It implies a relationship where the child can exist independently of the parent. The relationship is typically \"has-a\" but without lifespan dependency.\n",
        "An aggregated object can exist without the aggregating object or can be shared among multiple aggregating objects.\n",
        "\n",
        "Characteristics:\n",
        "\n",
        "Weak Ownership: The \"child\" can have an independent existence.\n",
        "No Lifespan Dependency: The lifespan of the \"child\" doesn't depend on the lifespan of the \"parent\"."
      ],
      "metadata": {
        "id": "Ae7MlBaq91Mg"
      }
    },
    {
      "cell_type": "markdown",
      "source": [
        "Real-World Example: University and Student:\n",
        "\n",
        "Consider a university and its students. A university aggregates students, meaning it has a relationship with them. However, if the university is shut down or a student graduates, the student still exists and may even affiliate with another university. This independence of existence is a characteristic of aggregation."
      ],
      "metadata": {
        "id": "gL5xiaYo-LEV"
      }
    },
    {
      "cell_type": "code",
      "source": [
        "class Student:\n",
        "    def __init__(self, name, student_id):\n",
        "        self.name = name\n",
        "        self.student_id = student_id\n",
        "\n",
        "class University:\n",
        "    def __init__(self, name):\n",
        "        self.name = name\n",
        "        self.students = []\n",
        "\n",
        "    def enroll(self, student):\n",
        "        self.students.append(student)\n",
        "\n",
        "    def remove(self, student):\n",
        "        self.students.remove(student)\n",
        "\n",
        "# A student can exist independently of a university.\n",
        "alice = Student(\"Alice\", \"S12345\")\n",
        "\n",
        "# A university can aggregate (have a relationship with) students.\n",
        "mit = University(\"MIT\")\n",
        "mit.enroll(alice)\n",
        "\n",
        "# If a student leaves or the university is shut down, the student still exists.\n",
        "mit.remove(alice)\n"
      ],
      "metadata": {
        "id": "vyoG07pz-NCw"
      },
      "execution_count": null,
      "outputs": []
    },
    {
      "cell_type": "markdown",
      "source": [
        "Significance:\n",
        "\n",
        "The Student has an independent lifecycle. Being part of a University is just a relationship and doesn't dictate the student's existence.\n",
        "\n",
        "If a University instance is shut down or a student leaves, the Student instance still exists independently."
      ],
      "metadata": {
        "id": "esQRHbv8-QCD"
      }
    },
    {
      "cell_type": "markdown",
      "source": [
        "##Factory Methods"
      ],
      "metadata": {
        "id": "ooED87LSI8B-"
      }
    },
    {
      "cell_type": "markdown",
      "source": [
        "Factory methods are a design pattern in object-oriented programming, primarily used to create objects. They are methods that return instances of objects, typically based on input criteria, allowing for a more dynamic and flexible instantiation process compared to using the constructor directly. Factory methods can be especially helpful when the exact type of the object might not be determined until runtime.\n"
      ],
      "metadata": {
        "id": "V5-NMVGdtuyS"
      }
    },
    {
      "cell_type": "markdown",
      "source": [
        "Advantages of the Factory Method Pattern:\n",
        "\n",
        "Flexibility: Factory methods decouple the creation of objects from the class that utilizes the objects. This makes the system more modular and extensible.\n",
        "\n",
        "Descriptive Method Names: Instead of generic constructors, you can have descriptive factory method names that communicate the object's purpose or configuration.\n",
        "\n",
        "Single Responsibility Principle: By delegating the responsibility of object creation to factory methods or classes, the main class can focus on its primary responsibilities, adhering to the single responsibility principle.\n",
        "\n",
        "Hide Complex Initialization: If creating an object requires a complex setup or configuration, a factory can hide this complexity from the client.\n"
      ],
      "metadata": {
        "id": "Xoq68CAPt5Ns"
      }
    },
    {
      "cell_type": "markdown",
      "source": [
        "\n",
        "Usage Scenarios:\n",
        "\n",
        "Dynamic Creation: When you're unsure about the exact class you'll need to instantiate until runtime.\n",
        "\n",
        "Platform-specific Classes: For instance, a GUI library might use factory methods to create platform-specific button or window objects without exposing platform specifics to the client code.\n",
        "\n",
        "Managing Object Lifecycles: If you want more control over when and how objects are created, reused, or shared."
      ],
      "metadata": {
        "id": "vVj7a4lgt7FS"
      }
    },
    {
      "cell_type": "markdown",
      "source": [
        "Let's consider an example of a simple logging system:"
      ],
      "metadata": {
        "id": "K8BbenM3uFFW"
      }
    },
    {
      "cell_type": "code",
      "source": [
        "class Logger:\n",
        "    def log_message(self, msg):\n",
        "        raise NotImplementedError()\n",
        "\n",
        "class ConsoleLogger(Logger):\n",
        "    def log_message(self, msg):\n",
        "        print(f\"Console Log: {msg}\")\n",
        "\n",
        "class FileLogger(Logger):\n",
        "    def __init__(self, file_name):\n",
        "        self.file_name = file_name\n",
        "\n",
        "    def log_message(self, msg):\n",
        "        with open(self.file_name, 'a') as file:\n",
        "            file.write(f\"File Log: {msg}\\n\")\n",
        "\n",
        "class LoggerFactory:\n",
        "    @staticmethod\n",
        "    def get_logger(log_type):\n",
        "        if log_type == \"console\":\n",
        "            return ConsoleLogger()\n",
        "        elif log_type == \"file\":\n",
        "            return FileLogger(\"app.log\")\n",
        "        else:\n",
        "            raise ValueError(\"Unknown logger type\")\n",
        "\n",
        "# Client code\n",
        "logger = LoggerFactory.get_logger(\"console\")\n",
        "logger.log_message(\"This is a message\")\n",
        "\n",
        "file_logger = LoggerFactory.get_logger(\"file\")\n",
        "file_logger.log_message(\"This is a file log message\")\n"
      ],
      "metadata": {
        "id": "qoxs91taJVcU",
        "colab": {
          "base_uri": "https://localhost:8080/"
        },
        "outputId": "cfef7c74-0d06-4b0d-fcfd-aa196c5cfb5a"
      },
      "execution_count": null,
      "outputs": [
        {
          "output_type": "stream",
          "name": "stdout",
          "text": [
            "Console Log: This is a message\n"
          ]
        }
      ]
    },
    {
      "cell_type": "code",
      "source": [
        "with open(\"/content/app.log\", 'r') as file:\n",
        "  data = file.readlines()"
      ],
      "metadata": {
        "id": "hS1C4Uoyujey"
      },
      "execution_count": null,
      "outputs": []
    },
    {
      "cell_type": "code",
      "source": [
        "data"
      ],
      "metadata": {
        "colab": {
          "base_uri": "https://localhost:8080/"
        },
        "id": "Zd4X6xpXutGm",
        "outputId": "6ce60727-33bf-4a6e-f172-ea5ee907bbee"
      },
      "execution_count": null,
      "outputs": [
        {
          "output_type": "execute_result",
          "data": {
            "text/plain": [
              "['File Log: This is a file log message\\n']"
            ]
          },
          "metadata": {},
          "execution_count": 13
        }
      ]
    },
    {
      "cell_type": "markdown",
      "source": [
        "Variations:\n",
        "\n",
        "Factory Classes: Instead of a factory method, you might have a separate factory class responsible for creating objects. This is common when the creation logic is complex.\n",
        "\n",
        "Abstract Factory: An extension of the factory method pattern, where a factory produces a family of related products, not just one kind of product. This is common in GUI libraries where you might have different widget sets for different OS or themes."
      ],
      "metadata": {
        "id": "NVbYzqRwvI8s"
      }
    },
    {
      "cell_type": "markdown",
      "source": [
        "Factory methods provide a layer of abstraction over object creation, promoting code organization, flexibility, and separation of concerns. It's a widely-used pattern that can be found in many libraries and frameworks across different programming languages."
      ],
      "metadata": {
        "id": "gtNedb5ZvVTd"
      }
    },
    {
      "cell_type": "markdown",
      "source": [
        "Factory Classes (Factory Method Pattern):\n",
        "\n",
        " Let's imagine a GUI library that needs to create buttons. Different operating systems have different button styles, but the creation process can be abstracted away."
      ],
      "metadata": {
        "id": "EHVS_4gO1g5m"
      }
    },
    {
      "cell_type": "code",
      "source": [
        "from abc import ABC, abstractmethod\n",
        "\n",
        "# Abstract base class for a button\n",
        "class Button(ABC):\n",
        "    @abstractmethod\n",
        "    def render(self):\n",
        "        pass\n",
        "\n",
        "class WindowsButton(Button):\n",
        "    def render(self):\n",
        "        return \"Render a button in a Windows style\"\n",
        "\n",
        "class MacOSButton(Button):\n",
        "    def render(self):\n",
        "        return \"Render a button in a MacOS style\"\n",
        "\n",
        "# Abstract base class for button factory\n",
        "class ButtonFactory(ABC):\n",
        "    @abstractmethod\n",
        "    def create_button(self):\n",
        "        pass\n",
        "\n",
        "class WindowsButtonFactory(ButtonFactory):\n",
        "    def create_button(self):\n",
        "        return WindowsButton()\n",
        "\n",
        "class MacOSButtonFactory(ButtonFactory):\n",
        "    def create_button(self):\n",
        "        return MacOSButton()\n",
        "\n",
        "# Usage\n",
        "factory = WindowsButtonFactory()\n",
        "button = factory.create_button()\n",
        "print(button.render())  # Outputs: Render a button in a Windows style\n"
      ],
      "metadata": {
        "colab": {
          "base_uri": "https://localhost:8080/"
        },
        "id": "gswGlU2HvLSG",
        "outputId": "c6ba72f3-d38a-46e2-a45d-46632a9495d6"
      },
      "execution_count": null,
      "outputs": [
        {
          "output_type": "stream",
          "name": "stdout",
          "text": [
            "Render a button in a Windows style\n"
          ]
        }
      ]
    },
    {
      "cell_type": "markdown",
      "source": [
        "Abstract Factory Pattern:\n",
        "\n",
        "The Abstract Factory Pattern is a step further. It involves multiple Factory Methods, one for each type of object to be created. Essentially, it provides an interface for creating families of related or dependent objects without specifying their concrete classes.\n",
        "\n",
        "Example: Extending our GUI example, let's say we have buttons and checkboxes. Each OS provides its own style for both these controls."
      ],
      "metadata": {
        "id": "knMrXp5U1o_N"
      }
    },
    {
      "cell_type": "code",
      "source": [
        "from abc import ABC, abstractmethod\n",
        "\n",
        "# Abstract classes for GUI elements\n",
        "class Button(ABC):\n",
        "    @abstractmethod\n",
        "    def render(self):\n",
        "        pass\n",
        "\n",
        "    def add(self, l, r):\n",
        "      return l + r\n",
        "\n",
        "class Checkbox(ABC):\n",
        "    @abstractmethod\n",
        "    def check(self):\n",
        "        pass\n",
        "\n",
        "# Concrete classes for Windows GUI elements\n",
        "class WindowsButton(Button):\n",
        "    def render(self):\n",
        "        return \"Render a button in a Windows style\"\n",
        "\n",
        "class WindowsCheckbox(Checkbox):\n",
        "    def check(self):\n",
        "        return \"Check a checkbox in a Windows style\"\n",
        "\n",
        "# Concrete classes for MacOS GUI elements\n",
        "class MacOSButton(Button):\n",
        "    def render(self):\n",
        "        return \"Render a button in a MacOS style\"\n",
        "\n",
        "class MacOSCheckbox(Checkbox):\n",
        "    def check(self):\n",
        "        return \"Check a checkbox in a MacOS style\"\n",
        "\n",
        "# Abstract Factory class\n",
        "class GUIFactory(ABC):\n",
        "    @abstractmethod\n",
        "    def create_button(self):\n",
        "        pass\n",
        "\n",
        "    @abstractmethod\n",
        "    def create_checkbox(self):\n",
        "        pass\n",
        "\n",
        "class WindowsGUIFactory(GUIFactory):\n",
        "    def create_button(self):\n",
        "        return WindowsButton()\n",
        "\n",
        "    def create_checkbox(self):\n",
        "        return WindowsCheckbox()\n",
        "\n",
        "class MacOSGUIFactory(GUIFactory):\n",
        "    def create_button(self):\n",
        "        return MacOSButton()\n",
        "\n",
        "    def create_checkbox(self):\n",
        "        return MacOSCheckbox()\n",
        "\n",
        "# Usage\n",
        "factory = WindowsGUIFactory()\n",
        "button = factory.create_button()\n",
        "checkbox = factory.create_checkbox()\n",
        "print(button.render())  # Outputs: Render a button in a Windows style\n",
        "print(checkbox.check())  # Outputs: Check a checkbox in a Windows style\n",
        "\n",
        "button.add(3,4)"
      ],
      "metadata": {
        "colab": {
          "base_uri": "https://localhost:8080/"
        },
        "id": "B9Rfuq691oAW",
        "outputId": "84d7ade9-5d64-432b-e005-98f2ace6e4ce"
      },
      "execution_count": null,
      "outputs": [
        {
          "output_type": "stream",
          "name": "stdout",
          "text": [
            "Render a button in a Windows style\n",
            "Check a checkbox in a Windows style\n"
          ]
        },
        {
          "output_type": "execute_result",
          "data": {
            "text/plain": [
              "7"
            ]
          },
          "metadata": {},
          "execution_count": 8
        }
      ]
    },
    {
      "cell_type": "markdown",
      "source": [
        "The GUIFactory is an abstract factory with methods to create a button and a checkbox. Subclasses (WindowsGUIFactory and MacOSGUIFactory) decide which class to instantiate for both these GUI elements."
      ],
      "metadata": {
        "id": "lC1P6ZPr15Qc"
      }
    },
    {
      "cell_type": "markdown",
      "source": [
        "\n",
        "\n",
        "---\n",
        "\n"
      ],
      "metadata": {
        "id": "sdRv2X1v4y8G"
      }
    },
    {
      "cell_type": "markdown",
      "source": [
        "In Python, the `ABC` (Abstract Base Class) from the `abc` module is a mechanism to define and utilize abstract base classes. It provides meta-class machinery to facilitate the definition of abstract methods, among other features.\n",
        "\n",
        "When you inherit from `ABC`:\n",
        "\n",
        "1. **Explicit Abstract Class Declaration**: It makes it clear that the class is intended to be an abstract base class.\n",
        "\n",
        "2. **Abstract Method Enforcement**: If a derived class doesn't implement all the abstract methods of its abstract base class, Python will raise a `TypeError` at the time of instantiation of the derived class. This provides strong guarantees that subclasses will adhere to the interface declared in the ABC.\n",
        "\n",
        "However, is it compulsory? Not strictly. You can \"simulate\" an abstract base class by raising `NotImplementedError` in methods that you want to be abstract, like:\n",
        "\n",
        "```python\n",
        "class Button:\n",
        "    def render(self):\n",
        "        raise NotImplementedError(\"The render method should be implemented by subclasses\")\n",
        "```\n",
        "\n",
        "But there are some drawbacks to this approach:\n",
        "\n",
        "1. **No Enforcement**: Python won't stop you from instantiating the base class directly (unlike true abstract classes, where this is not permitted).\n",
        "   \n",
        "2. **Late Errors**: You'll only get a `NotImplementedError` if the method is actually called, rather than immediately upon instantiation.\n",
        "\n",
        "3. **Lacks Explicitness**: Without using `ABC`, the intention to make the class abstract is implicit and might be missed by someone reading or maintaining the code.\n",
        "\n",
        "In conclusion, while you can simulate abstract base classes without using `ABC`, leveraging the `abc` module provides a clearer and more structured way of defining and using abstract classes in Python. It's considered a best practice to use `ABC` when defining abstract base classes for these reasons."
      ],
      "metadata": {
        "id": "_AhxuTOt4Y6m"
      }
    },
    {
      "cell_type": "markdown",
      "source": [
        "Summary:\n",
        "\n",
        "* The Factory Method Pattern abstracts the instantiation process and lets subclasses decide which class to instantiate. It deals with the problem of creating objects (like Button) without specifying the exact class of object that will be created.\n",
        "\n",
        "* The Abstract Factory Pattern abstracts the creation of a group of related objects. It provides an interface for creating families of related or dependent objects without specifying their concrete classes."
      ],
      "metadata": {
        "id": "bH3z6czY156Z"
      }
    },
    {
      "cell_type": "markdown",
      "source": [
        "\n",
        "\n",
        "---\n",
        "\n"
      ],
      "metadata": {
        "id": "c7PCiKRmvL9S"
      }
    },
    {
      "cell_type": "markdown",
      "source": [
        "Factory methods, and the broader factory design patterns, are versatile and can be employed in a range of scenarios to achieve decoupling, scalability, and organized code. Here are some real-world scenarios where factory methods are particularly useful:\n",
        "\n",
        "1. **Database Connection**:\n",
        "   - Suppose you're building a database management tool that needs to connect to multiple types of databases like MySQL, PostgreSQL, and MongoDB. Each database connection requires different setup and parameters. A `DatabaseConnectionFactory` can abstract the creation of connection objects for each database.\n",
        "\n",
        "2. **UI Theme Change**:\n",
        "   - Consider a UI toolkit where users can switch between themes like light, dark, or custom. Each theme might have its own set of UI controls (buttons, sliders, etc.). A `ThemeFactory` can generate the necessary UI controls for each theme seamlessly.\n",
        "\n",
        "3. **E-commerce Product Types**:\n",
        "   - An e-commerce platform might sell different types of products like books, electronics, and apparel. Each product type might require different attributes and methods. A `ProductFactory` can create appropriate product objects based on product type.\n",
        "\n",
        "4. **Payment Gateway Integration**:\n",
        "   - For applications that need to integrate with multiple payment gateways (like Stripe, PayPal, or Square), each gateway has its unique API and setup. A `PaymentGatewayFactory` can produce the necessary gateway object, ensuring the main application remains decoupled from the specifics of each payment method.\n",
        "\n",
        "5. **Middleware/Plugin System**:\n",
        "   - In systems that allow third-party middleware or plugins, a factory can be employed to instantiate these plugins dynamically based on the application's configuration, allowing easy extensions and modular architecture.\n",
        "\n",
        "6. **File Parsers**:\n",
        "   - Suppose you're building a tool to parse different file types: CSV, XML, JSON, etc. Each file type needs a different parser. A `FileParserFactory` could be designed to return the correct parser instance based on the file's extension or content.\n",
        "\n",
        "7. **Logistics and Transportation**:\n",
        "   - Imagine a logistics management system that deals with different transportation modes like trucks, ships, and airplanes. Each mode has different attributes, costs, and methods. A `TransportFactory` can abstract the creation of these transport objects.\n",
        "\n",
        "8. **Cloud Service Providers**:\n",
        "   - For applications that interact with various cloud service providers (like AWS, GCP, Azure), each provider has its distinct SDK and setup. A `CloudProviderFactory` can instantiate the correct provider SDK and services based on application settings or user preferences.\n",
        "\n",
        "These scenarios underscore the advantage of the factory pattern: it abstracts and isolates the creation of objects from the main application. This makes the application more maintainable, scalable, and adaptable to changes. The factory method ensures that the application can expand with new types or variations without major refactoring, making it a popular choice in real-world projects."
      ],
      "metadata": {
        "id": "p2nrS3mU2gkj"
      }
    },
    {
      "cell_type": "markdown",
      "source": [
        "##Magic Methods"
      ],
      "metadata": {
        "id": "-mAzSpa1A1Pb"
      }
    },
    {
      "cell_type": "markdown",
      "source": [
        "Python has several built-in special methods (often referred to as \"magic methods\" or \"dunder methods\", short for \"double underscore\" methods). These methods allow customization of fundamental behaviors of objects. Some of the most commonly used ones are:\n",
        "\n",
        "### 1. `__init__`:\n",
        "\n",
        "This is the initializer method, called when an object is created.\n",
        "\n",
        "```python\n",
        "class MyClass:\n",
        "    def __init__(self, value):\n",
        "        self.value = value\n",
        "\n",
        "obj = MyClass(5)\n",
        "```\n",
        "\n",
        "### 2. `__str__`:\n",
        "\n",
        "Called by the built-in function `str()` and by the `print` function to get a \"nice\" string representation of the object.\n",
        "\n",
        "```python\n",
        "class MyClass:\n",
        "    def __str__(self):\n",
        "        return \"This is MyClass's representation!\"\n",
        "\n",
        "obj = MyClass()\n",
        "print(obj)  # Outputs: This is MyClass's representation!\n",
        "```\n",
        "\n",
        "### 3. `__repr__`:\n",
        "\n",
        "Called by the built-in function `repr()`. It's meant to produce an unambiguous string representation of an object, ideally one that could be used to recreate the object.\n",
        "\n",
        "```python\n",
        "class MyClass:\n",
        "    def __repr__(self):\n",
        "        return \"MyClass's detailed representation\"\n",
        "\n",
        "obj = MyClass()\n",
        "print(repr(obj))  # Outputs: MyClass's detailed representation\n",
        "```\n",
        "\n",
        "### 4. `__getitem__`, `__setitem__`:\n",
        "\n",
        "Allow an object to implement and customize the behavior of accessing and setting items using the square bracket notation (like lists or dictionaries).\n",
        "\n",
        "```python\n",
        "class CustomList:\n",
        "    def __init__(self):\n",
        "        self.data = []\n",
        "        \n",
        "    def __getitem__(self, index):\n",
        "        return self.data[index]\n",
        "    \n",
        "    def __setitem__(self, index, value):\n",
        "        self.data[index] = value\n",
        "\n",
        "obj = CustomList()\n",
        "obj.data.append(\"hello\")\n",
        "print(obj[0])  # Outputs: hello\n",
        "```\n",
        "\n",
        "### 5. `__call__`:\n",
        "\n",
        "Allows an instance of a class to be \"called\" like a function.\n",
        "\n",
        "```python\n",
        "class CallableClass:\n",
        "    def __call__(self, x, y):\n",
        "        return x + y\n",
        "\n",
        "adder = CallableClass()\n",
        "print(adder(5, 3))  # Outputs: 8\n",
        "```\n",
        "\n",
        "### 6. `__eq__`, `__lt__`, `__le__`, `__ne__`, `__gt__`, `__ge__`:\n",
        "\n",
        "These methods allow customization of comparisons between objects.\n",
        "\n",
        "```python\n",
        "class MyClass:\n",
        "    def __init__(self, value):\n",
        "        self.value = value\n",
        "        \n",
        "    def __eq__(self, other):\n",
        "        return self.value == other.value\n",
        "\n",
        "obj1 = MyClass(5)\n",
        "obj2 = MyClass(5)\n",
        "print(obj1 == obj2)  # Outputs: True\n",
        "```\n",
        "\n",
        "There are many more magic methods related to arithmetic, attribute management, iteration, etc.\n"
      ],
      "metadata": {
        "id": "dCmDHkPDHpUf"
      }
    },
    {
      "cell_type": "markdown",
      "source": [
        "getattr() vs `__getattribute__`\n",
        "\n",
        "getattr():\n",
        "\n",
        "It's a built-in Python function that allows you to get the value of an attribute given its string name. If the named attribute is not found, you can provide a default value or let an AttributeError be raised.\n",
        "\n",
        "`__getattribute__:`\n",
        "\n",
        "It's a special method that allows you to customize the behavior of attribute access. Whenever you try to access an attribute of an object, Python calls the `__getattribute__` method. It's a powerful tool, but with great power comes great responsibility: you should be cautious when overriding it, as you can easily break the expected behavior of attribute access or introduce infinite recursion."
      ],
      "metadata": {
        "id": "JTFyQSZxH7Lz"
      }
    },
    {
      "cell_type": "code",
      "source": [
        "class MyClass:\n",
        "    def __init__(self):\n",
        "        self.attribute = \"Hello\"\n",
        "\n",
        "obj = MyClass()\n",
        "\n",
        "# Using getattr\n",
        "value = getattr(obj, 'attribute', 'Default Value')\n",
        "print(value)  # Outputs: Hello\n",
        "\n",
        "# If 'nonexistent_attr' doesn't exist, it will return 'Default Value'\n",
        "value = getattr(obj, 'nonexistent_attr', 'Default Value')\n",
        "print(value)  # Outputs: Default Value\n"
      ],
      "metadata": {
        "id": "RxK_bIsVEndg",
        "colab": {
          "base_uri": "https://localhost:8080/"
        },
        "outputId": "4d35bab1-c5a2-4d5d-fb27-f0b0c2a74560"
      },
      "execution_count": null,
      "outputs": [
        {
          "output_type": "stream",
          "name": "stdout",
          "text": [
            "Hello\n",
            "Default Value\n"
          ]
        }
      ]
    },
    {
      "cell_type": "code",
      "source": [
        "class MyClass:\n",
        "  a = 1\n",
        "  def __init__(self, a):\n",
        "    self.a = a\n",
        "\n",
        "  def __getattribute__(self, name):\n",
        "      # This will be called for every attribute access\n",
        "      print(f\"Accessing attribute {name}\")\n",
        "      return super().__getattribute__(name)  # Using super() to avoid infinite recursion\n",
        "\n",
        "obj = MyClass(3)\n",
        "obj1 = MyClass(5)\n",
        "print(obj.a)\n",
        "obj1.a\n"
      ],
      "metadata": {
        "colab": {
          "base_uri": "https://localhost:8080/"
        },
        "id": "I8uTlwv3IRHw",
        "outputId": "1e1db957-a132-4b2c-df2f-e1352fa1f79c"
      },
      "execution_count": null,
      "outputs": [
        {
          "output_type": "stream",
          "name": "stdout",
          "text": [
            "Accessing attribute a\n",
            "3\n",
            "Accessing attribute a\n"
          ]
        },
        {
          "output_type": "execute_result",
          "data": {
            "text/plain": [
              "5"
            ]
          },
          "metadata": {},
          "execution_count": 22
        }
      ]
    },
    {
      "cell_type": "markdown",
      "source": [
        "Differences:\n",
        "\n",
        "Function vs. Method: getattr() is a built-in function, whereas __getattribute__ is a special method that you can override in your custom classes.\n",
        "\n",
        "Default Behavior: Without overriding any behavior, using getattr(obj, 'attribute') would internally use the default object's __getattribute__ method to fetch the 'attribute'.\n",
        "\n",
        "Customization: While getattr offers a way to fetch an attribute given its string name (with an optional default value), __getattribute__ lets you customize how attribute access behaves for an object entirely."
      ],
      "metadata": {
        "id": "EKqDoCZxIVty"
      }
    },
    {
      "cell_type": "markdown",
      "source": [
        "###Very Important:\n",
        "\n",
        "Now what do we mean by \"**Using super() to avoid infinite recursion**\" in the above code? Why we are using super()?\n",
        "\n",
        "\n",
        "In object-oriented programming, `super()` is a way to call a method from a parent class (often a method that's been overridden by the current class). In the context of this example, we're overriding the `__getattribute__` method of the base class `object`.\n",
        "\n",
        "When you access an attribute of an object in Python, behind the scenes, it invokes the `__getattribute__` method. For example, when you do `obj.a`, it is (in a simplified manner) equivalent to `obj.__getattribute__('a')`.\n",
        "\n",
        "In the code you provided, we are overriding the `__getattribute__` method to add a print statement. This means that every time an attribute is accessed, we print a message. However, after printing, we still want to actually get the attribute's value. To do this, we need to call the original `__getattribute__` method (from the parent class, `object`).\n",
        "\n",
        "Now, here's where things can get tricky: If we tried to access the attribute directly within our overridden `__getattribute__` (e.g., `self.name` or `self.a`), we'd end up calling `__getattribute__` again because we're trying to access an attribute. This would create an infinite loop:\n",
        "\n",
        "1. We try to access `self.a`.\n",
        "2. This calls our overridden `__getattribute__`.\n",
        "3. Inside `__getattribute__`, we try to access `self.a` again.\n",
        "4. Go back to step 2.\n",
        "\n",
        "To avoid this infinite loop (or infinite recursion), we use `super().__getattribute__(name)`. This calls the original `__getattribute__` method from the base class `object`, bypassing our overridden version and preventing the infinite loop.\n",
        "\n",
        "In summary, `super()` allows us to call the original implementation of a method we've overridden, which is crucial when overriding methods like `__getattribute__` to avoid undesired behaviors like infinite recursion."
      ],
      "metadata": {
        "id": "mylmBpgEKpEu"
      }
    },
    {
      "cell_type": "markdown",
      "source": [
        "##Miscellaneous"
      ],
      "metadata": {
        "id": "xtAhPEQEaXOt"
      }
    },
    {
      "cell_type": "markdown",
      "source": [
        "Python is full of intricacies and features that even seasoned developers might overlook. Here are some lesser-known, \"tricky\" Python behaviors and features:\n",
        "\n",
        "1. **Else with Loops**: Many developers are surprised to learn that Python supports an `else` clause in loops. It executes when the loop completes normally (i.e., no `break` was encountered).\n",
        "\n",
        "   ```python\n",
        "   for i in range(5):\n",
        "       if i == 10:\n",
        "           break\n",
        "   else:\n",
        "       print(\"Loop completed without a break!\")\n",
        "   ```\n",
        "\n",
        "2. **The Walrus Operator (`:=`)**: Introduced in Python 3.8, it allows you to assign a value to a variable as part of an expression.\n",
        "\n",
        "   ```python\n",
        "   while (n := input(\"Enter a number: \")) != \"42\":\n",
        "       print(f\"You entered {n}, try again!\")\n",
        "   ```\n",
        "\n",
        "3. **Mutable Default Arguments**: This is a common pitfall. Default mutable arguments can retain state between function calls.\n",
        "\n",
        "   ```python\n",
        "   def add_to_list(value, lst=[]):\n",
        "       lst.append(value)\n",
        "       return lst\n",
        "\n",
        "   print(add_to_list(1))  # [1]\n",
        "   print(add_to_list(2))  # [1, 2], not [2]!\n",
        "   ```\n",
        "\n",
        "   Instead, use `None` and handle the default within the function.\n",
        "\n",
        "4. **Local Variables in Comprehensions**: In Python 2, list comprehensions leak their loop variable into the surrounding scope. This was fixed in Python 3. However, in Python 3, it's still the case for the outermost loop variable in generator expressions.\n",
        "\n",
        "5. **Double Underscore Name Mangling**: Class attributes with double underscores (`__attr`) are name-mangled to avoid naming conflicts in subclasses.\n",
        "\n",
        "   ```python\n",
        "   class MyClass:\n",
        "       def __init__(self):\n",
        "           self.__secret = \"hidden\"\n",
        "\n",
        "   obj = MyClass()\n",
        "   print(dir(obj))  # You'll see '_MyClass__secret', not '__secret'\n",
        "   ```\n",
        "\n",
        "6. **`is` vs `==`**: The `is` operator checks identity (whether two variables refer to the same memory address), while `==` checks for equality (whether two variables have the same value). It can lead to surprises, especially with small integers due to caching.\n",
        "\n",
        "   ```python\n",
        "   a = 256\n",
        "   b = 256\n",
        "   print(a is b)  # True, because of caching\n",
        "\n",
        "   a = 257\n",
        "   b = 257\n",
        "   print(a is b)  # Often False, no caching\n",
        "   ```\n",
        "\n",
        "7. **`eval()`** is a built-in function used to evaluate a string as a Python expression and return the result. Essentially, `eval()` dynamically executes Python program which can either be a string or object code.\n",
        "\n",
        "Here's the basic usage of `eval()`:\n",
        "\n",
        "```python\n",
        "result = eval(expression, globals=None, locals=None)\n",
        "```\n",
        "\n",
        "- `expression`: The string to evaluate.\n",
        "- `globals`: Dictionary of global variables. If provided, the dictionary specifies the global namespace. If not provided, the dictionary defaults to the current module's namespace.\n",
        "- `locals`: Dictionary for local variables. If provided, the dictionary specifies the available local namespace. If not provided, it defaults to the current namespace.\n",
        "\n",
        "Examples:\n",
        "\n",
        "1. Basic arithmetic:\n",
        "\n",
        "```python\n",
        "x = 1\n",
        "y = 2\n",
        "result = eval(\"x + y\")\n",
        "print(result)  # Outputs: 3\n",
        "```\n",
        "\n",
        "2. Using `globals` and `locals`:\n",
        "\n",
        "```python\n",
        "global_var = 10\n",
        "\n",
        "def test_eval():\n",
        "    local_var = 5\n",
        "    print(eval(\"global_var + local_var\", globals(), locals()))\n",
        "\n",
        "test_eval()  # Outputs: 15\n",
        "```\n",
        "\n",
        "3. Evaluating list comprehensions:\n",
        "\n",
        "```python\n",
        "string = \"[x**2 for x in range(5)]\"\n",
        "result = eval(string)\n",
        "print(result)  # Outputs: [0, 1, 4, 9, 16]\n",
        "```\n",
        "\n",
        "Caution:\n",
        "\n",
        "Using `eval()` can be risky, especially when working with untrusted input. Since `eval()` can execute arbitrary code, it can be a significant security risk. Always be very cautious when using `eval()` in your applications, and avoid using it on any strings that might be influenced by an external user or untrusted source."
      ],
      "metadata": {
        "id": "IwS2rfUMbQM8"
      }
    },
    {
      "cell_type": "code",
      "source": [],
      "metadata": {
        "id": "Qk31rI5FwTHi"
      },
      "execution_count": null,
      "outputs": []
    }
  ]
}