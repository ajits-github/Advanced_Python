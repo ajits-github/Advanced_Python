{
  "nbformat": 4,
  "nbformat_minor": 0,
  "metadata": {
    "colab": {
      "provenance": [],
      "authorship_tag": "ABX9TyMkuokSs3hrsAbLsOMqJPyG",
      "include_colab_link": true
    },
    "kernelspec": {
      "name": "python3",
      "display_name": "Python 3"
    },
    "language_info": {
      "name": "python"
    }
  },
  "cells": [
    {
      "cell_type": "markdown",
      "metadata": {
        "id": "view-in-github",
        "colab_type": "text"
      },
      "source": [
        "<a href=\"https://colab.research.google.com/github/ajits-github/Advanced_Python/blob/main/Advanced_Python.ipynb\" target=\"_parent\"><img src=\"https://colab.research.google.com/assets/colab-badge.svg\" alt=\"Open In Colab\"/></a>"
      ]
    },
    {
      "cell_type": "markdown",
      "source": [
        "##Multithreading and Multiprocessing"
      ],
      "metadata": {
        "id": "82RB3pM__kAX"
      }
    },
    {
      "cell_type": "markdown",
      "source": [
        "Life-cycle of a Thread:\n",
        "  * **Create** by calling the constructor Thread and passing the function to the 'target' keyword along with the arguments (in the 'args' keyword argument of Thread, if the function expects so).\n",
        "  * **Start** the thread i.e. transition to 'run' state by calling 'start()' on thread object.\n",
        "  * **Terminated** thread, which happens if the subsequent new thread created by main thread has completed the executio of the program or raised exception."
      ],
      "metadata": {
        "id": "Ldc5q0L7ZyGu"
      }
    },
    {
      "cell_type": "code",
      "execution_count": 58,
      "metadata": {
        "colab": {
          "base_uri": "https://localhost:8080/"
        },
        "id": "B3S0jApO_hJT",
        "outputId": "dd439455-5a42-46ff-8915-8124a58338cb"
      },
      "outputs": [
        {
          "output_type": "stream",
          "name": "stdout",
          "text": [
            "Inside task\n",
            "Thread 2 is still running\n"
          ]
        }
      ],
      "source": [
        "from threading import Thread\n",
        "from time import sleep\n",
        "\n",
        "def task():\n",
        "  sleep(1)\n",
        "  print(\"Inside task\")\n",
        "\n",
        "def new_task():\n",
        "  sleep(1)\n",
        "  print(\"Inside NEW task\")\n",
        "\n",
        "thread1 = Thread(target=task)\n",
        "thread1.start()\n",
        "thread1.join(timeout=2)\n",
        "\n",
        "thread2 = Thread(target=new_task)\n",
        "thread2.start()\n",
        "# thread2.join(timeout=2)\n",
        "# thread2.join(timeout=0.1)\n",
        "\n",
        "if thread2.is_alive():\n",
        "  print(\"Thread 2 is still running\")\n",
        "else:\n",
        "  print(\"Thread 2 is not running\")"
      ]
    },
    {
      "cell_type": "markdown",
      "source": [
        "In the above code, few things that need discussion:\n",
        "  * Can we call new_task() funtion on thread1 at the same time as we called task()?\n",
        "    * Nope, it's not possible to call multiple target functions on a single thread. We need to declare separate threads for sifferent functions.\n",
        "\n",
        "  * What is the purpose of join() on a Thread?\n",
        "    * join() waits for a thread to complete its execution. This duration of waiting can be restricted by using 'timeout' in join() which allows the later code to run if, for example, the timeout is smaller than sleep time inside the function called on that thread. This is the same effect achived by not using join(). The results will be same in both the cases as it can be seen from the above output where Thread 2 is still running though it didn't print the statement inside new_task() function. Observe the outputs by commenting line 18 and 19, and then uncomment line 19. However, now comment line 19 and uncomment 18, you will see the difference as why we need join().\n",
        "\n"
      ],
      "metadata": {
        "id": "IoOW6THyYpa6"
      }
    },
    {
      "cell_type": "markdown",
      "source": [
        "\n",
        "\n",
        "---\n",
        "\n"
      ],
      "metadata": {
        "id": "k9z8ZtvXews7"
      }
    },
    {
      "cell_type": "markdown",
      "source": [
        "We use Multithreading for I/O tasks which requires waiting for external events and not for the CPU bound tasks. For that, we use Multiprocessing module from Python. Thread is the smallest unti of program. A process will have at least on thread and so many threads, under one process, share the memory space."
      ],
      "metadata": {
        "id": "_biqCSP1eLwQ"
      }
    }
  ]
}