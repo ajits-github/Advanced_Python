{
  "nbformat": 4,
  "nbformat_minor": 0,
  "metadata": {
    "colab": {
      "provenance": [],
      "authorship_tag": "ABX9TyNYU1CFwCWOPJ3r9lEAsR93",
      "include_colab_link": true
    },
    "kernelspec": {
      "name": "python3",
      "display_name": "Python 3"
    },
    "language_info": {
      "name": "python"
    }
  },
  "cells": [
    {
      "cell_type": "markdown",
      "metadata": {
        "id": "view-in-github",
        "colab_type": "text"
      },
      "source": [
        "<a href=\"https://colab.research.google.com/github/ajits-github/Advanced_Python/blob/main/Advanced_Python.ipynb\" target=\"_parent\"><img src=\"https://colab.research.google.com/assets/colab-badge.svg\" alt=\"Open In Colab\"/></a>"
      ]
    },
    {
      "cell_type": "markdown",
      "source": [
        "##Multithreading"
      ],
      "metadata": {
        "id": "82RB3pM__kAX"
      }
    },
    {
      "cell_type": "markdown",
      "source": [
        "Life-cycle of a Thread:\n",
        "  * **Create** by calling the constructor Thread and passing the function to the 'target' keyword along with the arguments (in the 'args' keyword argument of Thread, if the function expects so).\n",
        "  * **Start** the thread i.e. transition to 'run' state by calling 'start()' on thread object.\n",
        "  * **Terminated** thread, which happens if the subsequent new thread created by main thread has completed the executio of the program or raised exception."
      ],
      "metadata": {
        "id": "Ldc5q0L7ZyGu"
      }
    },
    {
      "cell_type": "code",
      "execution_count": null,
      "metadata": {
        "colab": {
          "base_uri": "https://localhost:8080/"
        },
        "id": "B3S0jApO_hJT",
        "outputId": "dd439455-5a42-46ff-8915-8124a58338cb"
      },
      "outputs": [
        {
          "output_type": "stream",
          "name": "stdout",
          "text": [
            "Inside task\n",
            "Thread 2 is still running\n"
          ]
        }
      ],
      "source": [
        "from threading import Thread\n",
        "from time import sleep\n",
        "\n",
        "def task():\n",
        "  sleep(1)\n",
        "  print(\"Inside task\")\n",
        "\n",
        "def new_task():\n",
        "  sleep(1)\n",
        "  print(\"Inside NEW task\")\n",
        "\n",
        "thread1 = Thread(target=task)\n",
        "thread1.start()\n",
        "thread1.join(timeout=2)\n",
        "\n",
        "thread2 = Thread(target=new_task)\n",
        "thread2.start()\n",
        "# thread2.join(timeout=2)\n",
        "# thread2.join(timeout=0.1)\n",
        "\n",
        "if thread2.is_alive():\n",
        "  print(\"Thread 2 is still running\")\n",
        "else:\n",
        "  print(\"Thread 2 is not running\")"
      ]
    },
    {
      "cell_type": "markdown",
      "source": [
        "In the above code, few things that need discussion:\n",
        "  * Can we call new_task() funtion on thread1 at the same time as we called task()?\n",
        "    * Nope, it's not possible to call multiple target functions on a single thread. We need to declare separate threads for sifferent functions.\n",
        "\n",
        "  * What is the purpose of join() on a Thread?\n",
        "    * join() waits for a thread to complete its execution. This duration of waiting can be restricted by using 'timeout' in join() which allows the later code to run if, for example, the timeout is smaller than sleep time inside the function called on that thread. This is the same effect achived by not using join(). The results will be same in both the cases as it can be seen from the above output where Thread 2 is still running though it didn't print the statement inside new_task() function. Observe the outputs by commenting line 18 and 19, and then uncomment line 19. However, now comment line 19 and uncomment 18, you will see the difference as why we need join().\n",
        "\n"
      ],
      "metadata": {
        "id": "IoOW6THyYpa6"
      }
    },
    {
      "cell_type": "markdown",
      "source": [
        "\n",
        "\n",
        "---\n",
        "\n"
      ],
      "metadata": {
        "id": "k9z8ZtvXews7"
      }
    },
    {
      "cell_type": "markdown",
      "source": [
        "We use Multithreading for I/O tasks which requires waiting for external events and not for the CPU bound tasks. For that, we use Multiprocessing module from Python. Thread is the smallest unti of program. A process will have at least on thread and so many threads, under one process, share the memory space."
      ],
      "metadata": {
        "id": "_biqCSP1eLwQ"
      }
    },
    {
      "cell_type": "markdown",
      "source": [
        "##Multiprocessing"
      ],
      "metadata": {
        "id": "B78Q-okpQ1l_"
      }
    },
    {
      "cell_type": "code",
      "source": [],
      "metadata": {
        "id": "fnrWMIjXQ6zt"
      },
      "execution_count": null,
      "outputs": []
    },
    {
      "cell_type": "markdown",
      "source": [
        "##Decorators"
      ],
      "metadata": {
        "id": "TixwdTeKDvMc"
      }
    },
    {
      "cell_type": "code",
      "source": [
        "# def outer_func(arg_outer_def):\n",
        "def outer_func():\n",
        "  def outer_func_2(func):\n",
        "    def real_func(*args, **kwargs):\n",
        "      # def inner_func(arg1):\n",
        "      def inner_func(*args, **kwargs):\n",
        "        # print(\"Before calling..\", type(arg1))\n",
        "        print(\"Before calling..\", args, kwargs)\n",
        "        # arg1 = str(arg1) + arg_outer_def\n",
        "        # func(arg1)\n",
        "        func(args)\n",
        "        # print()\n",
        "        # return func(arg1)\n",
        "      return inner_func\n",
        "    return real_func\n",
        "  return outer_func_2\n",
        "\n",
        "# @outer_func(arg_outer_def=\"static\")\n",
        "@outer_func()\n",
        "def after_func(arg1=\"test\"):\n",
        "  # if isinstance(arg1, str):\n",
        "  print(\"hELLLOOO\")\n",
        "  if isinstance(arg1, list):\n",
        "    print(\"As expected, arg is converted to string: \", type(arg1))\n",
        "    print(arg1)\n",
        "\n",
        "\n",
        "# after_func([4,5,6])\n",
        "after_func([4,5,6], arg1=\"hello\")"
      ],
      "metadata": {
        "colab": {
          "base_uri": "https://localhost:8080/"
        },
        "id": "Ekjeuk9O7g4X",
        "outputId": "cffa7109-4316-486e-9330-03d882b78539"
      },
      "execution_count": null,
      "outputs": [
        {
          "output_type": "execute_result",
          "data": {
            "text/plain": [
              "<function __main__.outer_func.<locals>.outer_func_2.<locals>.real_func.<locals>.inner_func(*args, **kwargs)>"
            ]
          },
          "metadata": {},
          "execution_count": 43
        }
      ]
    },
    {
      "cell_type": "code",
      "source": [
        "def outer_func():\n",
        "    def inner1(func):\n",
        "        def inner2(*args, **kwargs):\n",
        "            def inner3(args):\n",
        "                def inner4(args):\n",
        "                    def inner5(args):\n",
        "                        print(\"Inside inner5\")\n",
        "                        func(*args, **kwargs)\n",
        "                        print(\"Exiting inner5\")\n",
        "                    return inner5\n",
        "                return inner4\n",
        "            return inner3\n",
        "        return inner2\n",
        "    return inner1\n",
        "\n",
        "@outer_func()\n",
        "def decorated_function(arg1=\"test\"):\n",
        "# def decorated_function(arg1):\n",
        "    print(\"Decorated function with arg1:\", arg1)\n",
        "\n",
        "decorated_function(\"Hello!\")\n"
      ],
      "metadata": {
        "colab": {
          "base_uri": "https://localhost:8080/"
        },
        "id": "WyXDBJw9K2g3",
        "outputId": "b4281596-ce29-4314-c7fd-0a6ad59396bb"
      },
      "execution_count": null,
      "outputs": [
        {
          "output_type": "execute_result",
          "data": {
            "text/plain": [
              "<function __main__.outer_func.<locals>.inner1.<locals>.inner2.<locals>.inner3(args)>"
            ]
          },
          "metadata": {},
          "execution_count": 1
        }
      ]
    },
    {
      "cell_type": "code",
      "source": [
        "def outer_func(func):\n",
        "    def inner1(*args, **kwargs):\n",
        "        def inner2(*args, **kwargs):\n",
        "            print(\"Inside inner2\")\n",
        "            func(*args, **kwargs)\n",
        "            print(\"Exiting inner2\")\n",
        "        return inner2\n",
        "    return inner1\n",
        "\n",
        "@outer_func\n",
        "def decorated_function(arg1=\"test\"):\n",
        "    print(\"Decorated function with arg1:\", arg1)\n",
        "\n",
        "# Call the decorated function\n",
        "decorated_function(\"Hello!\")\n"
      ],
      "metadata": {
        "colab": {
          "base_uri": "https://localhost:8080/"
        },
        "id": "uXWByfH3LXU-",
        "outputId": "acf20728-ab20-4955-f3f3-c31a00122ed5"
      },
      "execution_count": null,
      "outputs": [
        {
          "output_type": "execute_result",
          "data": {
            "text/plain": [
              "<function __main__.outer_func.<locals>.inner1.<locals>.inner2(*args, **kwargs)>"
            ]
          },
          "metadata": {},
          "execution_count": 1
        }
      ]
    },
    {
      "cell_type": "code",
      "source": [
        "def outer_func(who):\n",
        "    def inner_func():\n",
        "        print(f\"Hello, {who}\")\n",
        "    inner_func()\n",
        "\n",
        "\n",
        "outer_func(\"World!\")"
      ],
      "metadata": {
        "colab": {
          "base_uri": "https://localhost:8080/"
        },
        "id": "34526kN7M1RF",
        "outputId": "dbd771a2-59c4-4481-9d69-8e403a175c3c"
      },
      "execution_count": null,
      "outputs": [
        {
          "output_type": "stream",
          "name": "stdout",
          "text": [
            "Hello, World!\n"
          ]
        }
      ]
    },
    {
      "cell_type": "markdown",
      "source": [
        "Important points about decorators:\n",
        "* The signature of the most inner function and the function which is being decorated must be same or with variable args."
      ],
      "metadata": {
        "id": "X_NVuZE5Dxlh"
      }
    },
    {
      "cell_type": "markdown",
      "source": [
        "What do we mean by something is callable?\n",
        "- Check the below code which is having outer and inner functions. When the outer function is called it just assigns the object of inner function so that later on the same can be invoked with proper signature of inner function. For example, if we comment line 4 and 5, and uncomment the lines 7,8 and 9, the obj_outer still holds the object of inner_func but if we change the call to a constant instead of a function inside out_function body (as currently it is showing), then you get the error which should be as the string object which is being passed upon call is no more a function but just a constant."
      ],
      "metadata": {
        "id": "0kliiJlgTjOc"
      }
    },
    {
      "cell_type": "code",
      "source": [
        "def out_function(out_args):\n",
        "  print(\"hello, outside: \", out_args)\n",
        "\n",
        "  value = out_args\n",
        "  return value\n",
        "\n",
        "  # def inner_func(*args):\n",
        "  #   return \"hello, inside \" + str(args) + str(out_args)\n",
        "  # return inner_func\n",
        "\n",
        "\n",
        "\n",
        "obj_outer = out_function(\"_outercall_\")\n",
        "obj_outer(\"_innercall_\")\n"
      ],
      "metadata": {
        "colab": {
          "base_uri": "https://localhost:8080/",
          "height": 227
        },
        "id": "0g20ZldAUPWN",
        "outputId": "eb8364cc-54fb-4dfb-d090-6b24702bb4f4"
      },
      "execution_count": null,
      "outputs": [
        {
          "output_type": "stream",
          "name": "stdout",
          "text": [
            "hello, outside:  _outercall_\n"
          ]
        },
        {
          "output_type": "error",
          "ename": "TypeError",
          "evalue": "ignored",
          "traceback": [
            "\u001b[0;31m---------------------------------------------------------------------------\u001b[0m",
            "\u001b[0;31mTypeError\u001b[0m                                 Traceback (most recent call last)",
            "\u001b[0;32m<ipython-input-4-3374fa73747a>\u001b[0m in \u001b[0;36m<cell line: 12>\u001b[0;34m()\u001b[0m\n\u001b[1;32m     10\u001b[0m \u001b[0;34m\u001b[0m\u001b[0m\n\u001b[1;32m     11\u001b[0m \u001b[0mobj_outer\u001b[0m \u001b[0;34m=\u001b[0m \u001b[0mout_function\u001b[0m\u001b[0;34m(\u001b[0m\u001b[0;34m\"_outercall_\"\u001b[0m\u001b[0;34m)\u001b[0m\u001b[0;34m\u001b[0m\u001b[0;34m\u001b[0m\u001b[0m\n\u001b[0;32m---> 12\u001b[0;31m \u001b[0mobj_outer\u001b[0m\u001b[0;34m(\u001b[0m\u001b[0;34m\"_innercall_\"\u001b[0m\u001b[0;34m)\u001b[0m\u001b[0;34m\u001b[0m\u001b[0;34m\u001b[0m\u001b[0m\n\u001b[0m",
            "\u001b[0;31mTypeError\u001b[0m: 'str' object is not callable"
          ]
        }
      ]
    },
    {
      "cell_type": "markdown",
      "source": [
        "The use cases for Python decorators are varied. Here are some of them:\n",
        "\n",
        "* Debugging\n",
        "* Caching\n",
        "* Logging\n",
        "* Timing"
      ],
      "metadata": {
        "id": "oftlgpfmuyFW"
      }
    },
    {
      "cell_type": "markdown",
      "source": [
        "Functools.wraps decorator:"
      ],
      "metadata": {
        "id": "zwMTsKTO5eix"
      }
    },
    {
      "cell_type": "code",
      "source": [
        "import functools\n",
        "\n",
        "def my_decorator(func):\n",
        "    def wrapper(*args, **kwargs):\n",
        "        print(\"Decorator is called\")\n",
        "        return func(*args, **kwargs)\n",
        "    return wrapper\n",
        "\n",
        "@my_decorator\n",
        "def my_function():\n",
        "    \"\"\"This is the docstring of my_function.\"\"\"\n",
        "    print(\"Inside my_function\")\n",
        "\n",
        "print(\"Name of the decorated function:\", my_function.__name__)\n",
        "print(\"Docstring of the decorated function:\", my_function.__doc__)\n"
      ],
      "metadata": {
        "colab": {
          "base_uri": "https://localhost:8080/"
        },
        "id": "MY6R39v45iqf",
        "outputId": "00aabfbe-9a05-4477-c164-b325f4717b3e"
      },
      "execution_count": null,
      "outputs": [
        {
          "output_type": "stream",
          "name": "stdout",
          "text": [
            "Name of the decorated function: wrapper\n",
            "Docstring of the decorated function: None\n"
          ]
        }
      ]
    },
    {
      "cell_type": "markdown",
      "source": [
        "In the example above, when we run the code, we'll notice that the name and docstring of the my_function are overwritten by the wrapper function inside the my_decorator.\n",
        "\n",
        "To preserve the original metadata of the decorated function, we can use functools.wraps. Here's how we can modify the decorator to use functools.wraps:"
      ],
      "metadata": {
        "id": "hDM9F3UM57gs"
      }
    },
    {
      "cell_type": "code",
      "source": [
        "import functools\n",
        "\n",
        "def my_decorator(func):\n",
        "    @functools.wraps(func)\n",
        "    def wrapper(*args, **kwargs):\n",
        "        print(\"Decorator is called\")\n",
        "        return func(*args, **kwargs)\n",
        "    return wrapper\n",
        "\n",
        "@my_decorator\n",
        "def my_function():\n",
        "    \"\"\"This is the docstring of my_function.\"\"\"\n",
        "    print(\"Inside my_function\")\n",
        "\n",
        "print(\"Name of the decorated function:\", my_function.__name__)\n",
        "print(\"Docstring of the decorated function:\", my_function.__doc__)\n"
      ],
      "metadata": {
        "colab": {
          "base_uri": "https://localhost:8080/"
        },
        "id": "iHKZz6-26C1p",
        "outputId": "378ef546-74d5-4daa-f912-88fa5b638a9f"
      },
      "execution_count": null,
      "outputs": [
        {
          "output_type": "stream",
          "name": "stdout",
          "text": [
            "Name of the decorated function: my_function\n",
            "Docstring of the decorated function: This is the docstring of my_function.\n"
          ]
        }
      ]
    },
    {
      "cell_type": "markdown",
      "source": [
        "By using functools.wraps, we ensure that the decorated function retains its original metadata, making our code more maintainable and easier to understand during debugging and analysis."
      ],
      "metadata": {
        "id": "YZU55aRo6g6b"
      }
    }
  ]
}