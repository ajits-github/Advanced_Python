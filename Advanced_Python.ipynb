{
  "nbformat": 4,
  "nbformat_minor": 0,
  "metadata": {
    "colab": {
      "provenance": [],
      "authorship_tag": "ABX9TyOSYHKl77cDORI9zID4tZjn",
      "include_colab_link": true
    },
    "kernelspec": {
      "name": "python3",
      "display_name": "Python 3"
    },
    "language_info": {
      "name": "python"
    }
  },
  "cells": [
    {
      "cell_type": "markdown",
      "metadata": {
        "id": "view-in-github",
        "colab_type": "text"
      },
      "source": [
        "<a href=\"https://colab.research.google.com/github/ajits-github/Advanced_Python/blob/main/Advanced_Python.ipynb\" target=\"_parent\"><img src=\"https://colab.research.google.com/assets/colab-badge.svg\" alt=\"Open In Colab\"/></a>"
      ]
    },
    {
      "cell_type": "markdown",
      "source": [
        "##Multithreading"
      ],
      "metadata": {
        "id": "82RB3pM__kAX"
      }
    },
    {
      "cell_type": "markdown",
      "source": [
        "Life-cycle of a Thread:\n",
        "  * **Create** by calling the constructor Thread and passing the function to the 'target' keyword along with the arguments (in the 'args' keyword argument of Thread, if the function expects so).\n",
        "  * **Start** the thread i.e. transition to 'run' state by calling 'start()' on thread object.\n",
        "  * **Terminated** thread, which happens if the subsequent new thread created by main thread has completed the executio of the program or raised exception."
      ],
      "metadata": {
        "id": "Ldc5q0L7ZyGu"
      }
    },
    {
      "cell_type": "code",
      "execution_count": null,
      "metadata": {
        "colab": {
          "base_uri": "https://localhost:8080/"
        },
        "id": "B3S0jApO_hJT",
        "outputId": "dd439455-5a42-46ff-8915-8124a58338cb"
      },
      "outputs": [
        {
          "output_type": "stream",
          "name": "stdout",
          "text": [
            "Inside task\n",
            "Thread 2 is still running\n"
          ]
        }
      ],
      "source": [
        "from threading import Thread\n",
        "from time import sleep\n",
        "\n",
        "def task():\n",
        "  sleep(1)\n",
        "  print(\"Inside task\")\n",
        "\n",
        "def new_task():\n",
        "  sleep(1)\n",
        "  print(\"Inside NEW task\")\n",
        "\n",
        "thread1 = Thread(target=task)\n",
        "thread1.start()\n",
        "thread1.join(timeout=2)\n",
        "\n",
        "thread2 = Thread(target=new_task)\n",
        "thread2.start()\n",
        "# thread2.join(timeout=2)\n",
        "# thread2.join(timeout=0.1)\n",
        "\n",
        "if thread2.is_alive():\n",
        "  print(\"Thread 2 is still running\")\n",
        "else:\n",
        "  print(\"Thread 2 is not running\")"
      ]
    },
    {
      "cell_type": "markdown",
      "source": [
        "In the above code, few things that need discussion:\n",
        "  * Can we call new_task() funtion on thread1 at the same time as we called task()?\n",
        "    * Nope, it's not possible to call multiple target functions on a single thread. We need to declare separate threads for sifferent functions.\n",
        "\n",
        "  * What is the purpose of join() on a Thread?\n",
        "    * join() waits for a thread to complete its execution. This duration of waiting can be restricted by using 'timeout' in join() which allows the later code to run if, for example, the timeout is smaller than sleep time inside the function called on that thread. This is the same effect achieved by not using join(). The results will be same in both the cases as it can be seen from the above output where Thread 2 is still running though it didn't print the statement inside new_task() function. Observe the outputs by commenting line 18 and 19, and then uncomment line 19. However, now comment line 19 and uncomment 18, you will see the difference as why we need join().\n",
        "\n"
      ],
      "metadata": {
        "id": "IoOW6THyYpa6"
      }
    },
    {
      "cell_type": "markdown",
      "source": [
        "\n",
        "\n",
        "---\n",
        "\n"
      ],
      "metadata": {
        "id": "k9z8ZtvXews7"
      }
    },
    {
      "cell_type": "markdown",
      "source": [
        "We use Multithreading for I/O tasks which requires waiting for external events and not for the CPU bound tasks. For that, we use Multiprocessing module from Python. Thread is the smallest unti of program. A process will have at least on thread and so many threads, under one process, share the memory space."
      ],
      "metadata": {
        "id": "_biqCSP1eLwQ"
      }
    },
    {
      "cell_type": "markdown",
      "source": [
        "##Multiprocessing"
      ],
      "metadata": {
        "id": "B78Q-okpQ1l_"
      }
    },
    {
      "cell_type": "markdown",
      "source": [
        "**CPU-bound tasks** are tasks that primarily involve computation and processing within the CPU rather than waiting for input/output operations. These tasks are limited by the processing speed of the CPU and can be compute-intensive, such as mathematical calculations, data processing, complex algorithms, and simulations"
      ],
      "metadata": {
        "id": "s7Q_wxQbab_E"
      }
    },
    {
      "cell_type": "markdown",
      "source": [
        "The **Global Interpreter Lock (GIL)** in Python can have a significant impact on CPU-bound tasks because it restricts the execution of Python bytecode to a single thread. As a result, even when multiple threads are used for CPU-bound tasks, they won't run in true parallel on multi-core processors due to the GIL.\n",
        "\n",
        "However, there are strategies to mitigate the impact of the GIL on CPU-bound tasks and potentially speed up their execution:\n",
        "- Use **Multiprocessing**: Instead of using threads, you can use the multiprocessing module to create separate processes. Each process has its own Python interpreter and memory space, allowing them to run in true parallel, as the GIL doesn't affect processes. This approach leverages multiple CPU cores effectively for CPU-bound tasks.\n",
        "\n",
        "- Use **Compiled Extensions**: Consider using compiled extensions or libraries written in languages like C or Cython for performance-critical sections of your code. These languages can bypass the GIL and perform computations more efficiently.\n",
        "\n",
        "- Use **Concurrency Libraries**: Libraries like concurrent.futures provide higher-level interfaces for executing CPU-bound tasks concurrently using threads or processes. They abstract the management of threads and processes, allowing you to focus on the task logic.\n",
        "\n",
        "- Use **GIL-Free Libraries**: Some Python libraries and tools, like NumPy and pandas, are designed to work efficiently with large arrays and data frames and can bypass the GIL. Utilizing such libraries can speed up computations.\n",
        "\n",
        "- Consider Using **Other Languages**: For extremely CPU-intensive tasks, you might consider using other programming languages like C, C++, or Rust that don't have a GIL and offer better performance."
      ],
      "metadata": {
        "id": "IVCNIBYNaisJ"
      }
    },
    {
      "cell_type": "markdown",
      "source": [
        "It's important to note that while these strategies can help mitigate the impact of the GIL on CPU-bound tasks, the GIL itself is an intrinsic part of CPython (Python's reference implementation), and **it's not possible to completely eliminate** it within the standard Python interpreter."
      ],
      "metadata": {
        "id": "H3jUXkAcbHBw"
      }
    },
    {
      "cell_type": "code",
      "source": [
        "import multiprocessing\n",
        "\n",
        "def process_task():\n",
        "    # Your CPU-bound task\n",
        "\n",
        "if __name__ == \"__main__\":\n",
        "    num_processes = multiprocessing.cpu_count()\n",
        "    processes = [multiprocessing.Process(target=process_task) for _ in range(num_processes)]\n",
        "    for process in processes:\n",
        "        process.start()\n",
        "    for process in processes:\n",
        "        process.join()\n"
      ],
      "metadata": {
        "id": "fnrWMIjXQ6zt"
      },
      "execution_count": null,
      "outputs": []
    },
    {
      "cell_type": "markdown",
      "source": [
        "##Decorators"
      ],
      "metadata": {
        "id": "TixwdTeKDvMc"
      }
    },
    {
      "cell_type": "code",
      "source": [
        "# def outer_func(arg_outer_def):\n",
        "def outer_func():\n",
        "  def outer_func_2(func):\n",
        "    def real_func(*args, **kwargs):\n",
        "      # def inner_func(arg1):\n",
        "      def inner_func(*args, **kwargs):\n",
        "        # print(\"Before calling..\", type(arg1))\n",
        "        print(\"Before calling..\", args, kwargs)\n",
        "        # arg1 = str(arg1) + arg_outer_def\n",
        "        # func(arg1)\n",
        "        func(args)\n",
        "        # print()\n",
        "        # return func(arg1)\n",
        "      return inner_func\n",
        "    return real_func\n",
        "  return outer_func_2\n",
        "\n",
        "# @outer_func(arg_outer_def=\"static\")\n",
        "@outer_func()\n",
        "def after_func(arg1=\"test\"):\n",
        "  # if isinstance(arg1, str):\n",
        "  print(\"hELLLOOO\")\n",
        "  if isinstance(arg1, list):\n",
        "    print(\"As expected, arg is converted to string: \", type(arg1))\n",
        "    print(arg1)\n",
        "\n",
        "\n",
        "# after_func([4,5,6])\n",
        "after_func([4,5,6], arg1=\"hello\")"
      ],
      "metadata": {
        "colab": {
          "base_uri": "https://localhost:8080/"
        },
        "id": "Ekjeuk9O7g4X",
        "outputId": "cffa7109-4316-486e-9330-03d882b78539"
      },
      "execution_count": null,
      "outputs": [
        {
          "output_type": "execute_result",
          "data": {
            "text/plain": [
              "<function __main__.outer_func.<locals>.outer_func_2.<locals>.real_func.<locals>.inner_func(*args, **kwargs)>"
            ]
          },
          "metadata": {},
          "execution_count": 43
        }
      ]
    },
    {
      "cell_type": "code",
      "source": [
        "def outer_func():\n",
        "    def inner1(func):\n",
        "        def inner2(*args, **kwargs):\n",
        "            def inner3(args):\n",
        "                def inner4(args):\n",
        "                    def inner5(args):\n",
        "                        print(\"Inside inner5\")\n",
        "                        func(*args, **kwargs)\n",
        "                        print(\"Exiting inner5\")\n",
        "                    return inner5\n",
        "                return inner4\n",
        "            return inner3\n",
        "        return inner2\n",
        "    return inner1\n",
        "\n",
        "@outer_func()\n",
        "def decorated_function(arg1=\"test\"):\n",
        "# def decorated_function(arg1):\n",
        "    print(\"Decorated function with arg1:\", arg1)\n",
        "\n",
        "decorated_function(\"Hello!\")\n"
      ],
      "metadata": {
        "colab": {
          "base_uri": "https://localhost:8080/"
        },
        "id": "WyXDBJw9K2g3",
        "outputId": "b4281596-ce29-4314-c7fd-0a6ad59396bb"
      },
      "execution_count": null,
      "outputs": [
        {
          "output_type": "execute_result",
          "data": {
            "text/plain": [
              "<function __main__.outer_func.<locals>.inner1.<locals>.inner2.<locals>.inner3(args)>"
            ]
          },
          "metadata": {},
          "execution_count": 1
        }
      ]
    },
    {
      "cell_type": "code",
      "source": [
        "def outer_func(func):\n",
        "    def inner1(*args, **kwargs):\n",
        "        def inner2(*args, **kwargs):\n",
        "            print(\"Inside inner2\")\n",
        "            func(*args, **kwargs)\n",
        "            print(\"Exiting inner2\")\n",
        "        return inner2\n",
        "    return inner1\n",
        "\n",
        "@outer_func\n",
        "def decorated_function(arg1=\"test\"):\n",
        "    print(\"Decorated function with arg1:\", arg1)\n",
        "\n",
        "# Call the decorated function\n",
        "decorated_function(\"Hello!\")\n"
      ],
      "metadata": {
        "colab": {
          "base_uri": "https://localhost:8080/"
        },
        "id": "uXWByfH3LXU-",
        "outputId": "acf20728-ab20-4955-f3f3-c31a00122ed5"
      },
      "execution_count": null,
      "outputs": [
        {
          "output_type": "execute_result",
          "data": {
            "text/plain": [
              "<function __main__.outer_func.<locals>.inner1.<locals>.inner2(*args, **kwargs)>"
            ]
          },
          "metadata": {},
          "execution_count": 1
        }
      ]
    },
    {
      "cell_type": "code",
      "source": [
        "def outer_func(who):\n",
        "    def inner_func():\n",
        "        print(f\"Hello, {who}\")\n",
        "    inner_func()\n",
        "\n",
        "\n",
        "outer_func(\"World!\")"
      ],
      "metadata": {
        "colab": {
          "base_uri": "https://localhost:8080/"
        },
        "id": "34526kN7M1RF",
        "outputId": "dbd771a2-59c4-4481-9d69-8e403a175c3c"
      },
      "execution_count": null,
      "outputs": [
        {
          "output_type": "stream",
          "name": "stdout",
          "text": [
            "Hello, World!\n"
          ]
        }
      ]
    },
    {
      "cell_type": "markdown",
      "source": [
        "Important points about decorators:\n",
        "* The signature of the most inner function and the function which is being decorated must be same or with variable args."
      ],
      "metadata": {
        "id": "X_NVuZE5Dxlh"
      }
    },
    {
      "cell_type": "markdown",
      "source": [
        "What do we mean by something is callable?\n",
        "- Check the below code which is having outer and inner functions. When the outer function is called it just assigns the object of inner function so that later on the same can be invoked with proper signature of inner function. For example, if we comment line 4 and 5, and uncomment the lines 7,8 and 9, the obj_outer still holds the object of inner_func but if we change the call to a constant instead of a function inside out_function body (as currently it is showing), then you get the error which should be as the string object which is being passed upon call is no more a function but just a constant."
      ],
      "metadata": {
        "id": "0kliiJlgTjOc"
      }
    },
    {
      "cell_type": "code",
      "source": [
        "def out_function(out_args):\n",
        "  print(\"hello, outside: \", out_args)\n",
        "\n",
        "  value = out_args\n",
        "  return value\n",
        "\n",
        "  # def inner_func(*args):\n",
        "  #   return \"hello, inside \" + str(args) + str(out_args)\n",
        "  # return inner_func\n",
        "\n",
        "\n",
        "\n",
        "obj_outer = out_function(\"_outercall_\")\n",
        "obj_outer(\"_innercall_\")\n"
      ],
      "metadata": {
        "colab": {
          "base_uri": "https://localhost:8080/",
          "height": 227
        },
        "id": "0g20ZldAUPWN",
        "outputId": "eb8364cc-54fb-4dfb-d090-6b24702bb4f4"
      },
      "execution_count": null,
      "outputs": [
        {
          "output_type": "stream",
          "name": "stdout",
          "text": [
            "hello, outside:  _outercall_\n"
          ]
        },
        {
          "output_type": "error",
          "ename": "TypeError",
          "evalue": "ignored",
          "traceback": [
            "\u001b[0;31m---------------------------------------------------------------------------\u001b[0m",
            "\u001b[0;31mTypeError\u001b[0m                                 Traceback (most recent call last)",
            "\u001b[0;32m<ipython-input-4-3374fa73747a>\u001b[0m in \u001b[0;36m<cell line: 12>\u001b[0;34m()\u001b[0m\n\u001b[1;32m     10\u001b[0m \u001b[0;34m\u001b[0m\u001b[0m\n\u001b[1;32m     11\u001b[0m \u001b[0mobj_outer\u001b[0m \u001b[0;34m=\u001b[0m \u001b[0mout_function\u001b[0m\u001b[0;34m(\u001b[0m\u001b[0;34m\"_outercall_\"\u001b[0m\u001b[0;34m)\u001b[0m\u001b[0;34m\u001b[0m\u001b[0;34m\u001b[0m\u001b[0m\n\u001b[0;32m---> 12\u001b[0;31m \u001b[0mobj_outer\u001b[0m\u001b[0;34m(\u001b[0m\u001b[0;34m\"_innercall_\"\u001b[0m\u001b[0;34m)\u001b[0m\u001b[0;34m\u001b[0m\u001b[0;34m\u001b[0m\u001b[0m\n\u001b[0m",
            "\u001b[0;31mTypeError\u001b[0m: 'str' object is not callable"
          ]
        }
      ]
    },
    {
      "cell_type": "markdown",
      "source": [
        "The use cases for Python decorators are varied. Here are some of them:\n",
        "\n",
        "* Debugging\n",
        "* Caching\n",
        "* Logging\n",
        "* Timing"
      ],
      "metadata": {
        "id": "oftlgpfmuyFW"
      }
    },
    {
      "cell_type": "markdown",
      "source": [
        "Functools.wraps decorator:"
      ],
      "metadata": {
        "id": "zwMTsKTO5eix"
      }
    },
    {
      "cell_type": "code",
      "source": [
        "import functools\n",
        "\n",
        "def my_decorator(func):\n",
        "    def wrapper(*args, **kwargs):\n",
        "        print(\"Decorator is called\")\n",
        "        return func(*args, **kwargs)\n",
        "    return wrapper\n",
        "\n",
        "@my_decorator\n",
        "def my_function():\n",
        "    \"\"\"This is the docstring of my_function.\"\"\"\n",
        "    print(\"Inside my_function\")\n",
        "\n",
        "print(\"Name of the decorated function:\", my_function.__name__)\n",
        "print(\"Docstring of the decorated function:\", my_function.__doc__)\n"
      ],
      "metadata": {
        "colab": {
          "base_uri": "https://localhost:8080/"
        },
        "id": "MY6R39v45iqf",
        "outputId": "00aabfbe-9a05-4477-c164-b325f4717b3e"
      },
      "execution_count": null,
      "outputs": [
        {
          "output_type": "stream",
          "name": "stdout",
          "text": [
            "Name of the decorated function: wrapper\n",
            "Docstring of the decorated function: None\n"
          ]
        }
      ]
    },
    {
      "cell_type": "markdown",
      "source": [
        "In the example above, when we run the code, we'll notice that the name and docstring of the my_function are overwritten by the wrapper function inside the my_decorator.\n",
        "\n",
        "To preserve the original metadata of the decorated function, we can use functools.wraps. Here's how we can modify the decorator to use functools.wraps:"
      ],
      "metadata": {
        "id": "hDM9F3UM57gs"
      }
    },
    {
      "cell_type": "code",
      "source": [
        "import functools\n",
        "\n",
        "def my_decorator(func):\n",
        "    @functools.wraps(func)\n",
        "    def wrapper(*args, **kwargs):\n",
        "        print(\"Decorator is called\")\n",
        "        return func(*args, **kwargs)\n",
        "    return wrapper\n",
        "\n",
        "@my_decorator\n",
        "def my_function():\n",
        "    \"\"\"This is the docstring of my_function.\"\"\"\n",
        "    print(\"Inside my_function\")\n",
        "\n",
        "print(\"Name of the decorated function:\", my_function.__name__)\n",
        "print(\"Docstring of the decorated function:\", my_function.__doc__)\n"
      ],
      "metadata": {
        "colab": {
          "base_uri": "https://localhost:8080/"
        },
        "id": "iHKZz6-26C1p",
        "outputId": "378ef546-74d5-4daa-f912-88fa5b638a9f"
      },
      "execution_count": null,
      "outputs": [
        {
          "output_type": "stream",
          "name": "stdout",
          "text": [
            "Name of the decorated function: my_function\n",
            "Docstring of the decorated function: This is the docstring of my_function.\n"
          ]
        }
      ]
    },
    {
      "cell_type": "markdown",
      "source": [
        "By using functools.wraps, we ensure that the decorated function retains its original metadata, making our code more maintainable and easier to understand during debugging and analysis."
      ],
      "metadata": {
        "id": "YZU55aRo6g6b"
      }
    },
    {
      "cell_type": "markdown",
      "source": [
        "##Closures"
      ],
      "metadata": {
        "id": "0QJWouO3o6aB"
      }
    },
    {
      "cell_type": "code",
      "source": [
        "def outer_func1():\n",
        "  sample = []\n",
        "  def inner_func1(num):\n",
        "    sample.append(num)\n",
        "    return sum(sample)/ len(sample)\n",
        "\n",
        "  return inner_func1\n",
        "\n"
      ],
      "metadata": {
        "colab": {
          "base_uri": "https://localhost:8080/"
        },
        "id": "l86kPIL5U70z",
        "outputId": "622a3555-0ee1-439d-d099-115d0122e1a7"
      },
      "execution_count": null,
      "outputs": [
        {
          "output_type": "execute_result",
          "data": {
            "text/plain": [
              "100.0"
            ]
          },
          "metadata": {},
          "execution_count": 6
        }
      ]
    },
    {
      "cell_type": "code",
      "source": [
        "obj1 = outer_func1()\n",
        "obj1(100)"
      ],
      "metadata": {
        "colab": {
          "base_uri": "https://localhost:8080/"
        },
        "id": "yEerDJ6EoyCE",
        "outputId": "0358296d-8c44-4a3d-8e97-b186e580b69a"
      },
      "execution_count": null,
      "outputs": [
        {
          "output_type": "execute_result",
          "data": {
            "text/plain": [
              "100.0"
            ]
          },
          "metadata": {},
          "execution_count": 10
        }
      ]
    },
    {
      "cell_type": "code",
      "source": [
        "# obj1 = outer_func1()\n",
        "obj1(105)"
      ],
      "metadata": {
        "colab": {
          "base_uri": "https://localhost:8080/"
        },
        "id": "KUtGOKiuoy7N",
        "outputId": "0f4f07ce-9803-41b4-cda0-b9e76ff26410"
      },
      "execution_count": null,
      "outputs": [
        {
          "output_type": "execute_result",
          "data": {
            "text/plain": [
              "102.5"
            ]
          },
          "metadata": {},
          "execution_count": 11
        }
      ]
    },
    {
      "cell_type": "markdown",
      "source": [
        "Closures are used to save the environmental state of the function with the use of inner fucntion. Here we can see, the list to which elements are being appended is saved and recalled from the last point and used subsequently."
      ],
      "metadata": {
        "id": "nl70ruiMq8uH"
      }
    },
    {
      "cell_type": "markdown",
      "source": [
        "Similalry, with the use of decorator in the below code, we can see this can be maintained and resumed. The value of exponent is not being sent again and again."
      ],
      "metadata": {
        "id": "eBG4BsY2rsf7"
      }
    },
    {
      "cell_type": "code",
      "source": [
        "def generate_power(exponent):\n",
        "  def power(func):\n",
        "    def inner_power(*args):\n",
        "      base = func(*args)\n",
        "      return base**exponent\n",
        "    return inner_power\n",
        "  return power\n",
        "\n",
        "\n",
        "@generate_power(2)\n",
        "def raise_to_two(n):\n",
        "  return n\n",
        "\n",
        "@generate_power(3)\n",
        "def raise_to_three(n):\n",
        "  return n"
      ],
      "metadata": {
        "id": "nI6XYdrio0OL"
      },
      "execution_count": null,
      "outputs": []
    },
    {
      "cell_type": "code",
      "source": [
        "raise_to_two(5)\n"
      ],
      "metadata": {
        "colab": {
          "base_uri": "https://localhost:8080/"
        },
        "id": "sYkleaLCtUH0",
        "outputId": "442d9eea-2a02-4c20-aefd-9865fc8ecea6"
      },
      "execution_count": null,
      "outputs": [
        {
          "output_type": "execute_result",
          "data": {
            "text/plain": [
              "25"
            ]
          },
          "metadata": {},
          "execution_count": 14
        }
      ]
    },
    {
      "cell_type": "code",
      "source": [
        "raise_to_two(10)\n"
      ],
      "metadata": {
        "colab": {
          "base_uri": "https://localhost:8080/"
        },
        "id": "UuTJHJPHujGI",
        "outputId": "b147c56a-a0f0-4888-ae36-9ea6e1877526"
      },
      "execution_count": null,
      "outputs": [
        {
          "output_type": "execute_result",
          "data": {
            "text/plain": [
              "100"
            ]
          },
          "metadata": {},
          "execution_count": 16
        }
      ]
    },
    {
      "cell_type": "code",
      "source": [
        "raise_to_three(5)\n"
      ],
      "metadata": {
        "colab": {
          "base_uri": "https://localhost:8080/"
        },
        "id": "aWLkwpKMu-q0",
        "outputId": "cd455775-696d-4d47-b7bd-e275be64806b"
      },
      "execution_count": null,
      "outputs": [
        {
          "output_type": "execute_result",
          "data": {
            "text/plain": [
              "125"
            ]
          },
          "metadata": {},
          "execution_count": 17
        }
      ]
    },
    {
      "cell_type": "code",
      "source": [
        "raise_to_three(6)"
      ],
      "metadata": {
        "colab": {
          "base_uri": "https://localhost:8080/"
        },
        "id": "YgGLKxT7vBjb",
        "outputId": "dad3460b-3acd-4dec-b26d-bd26f20694aa"
      },
      "execution_count": null,
      "outputs": [
        {
          "output_type": "execute_result",
          "data": {
            "text/plain": [
              "216"
            ]
          },
          "metadata": {},
          "execution_count": 18
        }
      ]
    }
  ]
}