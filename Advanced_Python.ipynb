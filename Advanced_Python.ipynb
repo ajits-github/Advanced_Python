{
  "nbformat": 4,
  "nbformat_minor": 0,
  "metadata": {
    "colab": {
      "provenance": [],
      "collapsed_sections": [
        "OjPAh8lDNQQx",
        "82RB3pM__kAX",
        "B78Q-okpQ1l_",
        "TixwdTeKDvMc",
        "0QJWouO3o6aB",
        "-ebvNANjzgPU",
        "Dti9Ffhz7Btm",
        "D0lbi_ZcglvF"
      ],
      "authorship_tag": "ABX9TyOaw2Y1I1SY9ujYekH19z9U",
      "include_colab_link": true
    },
    "kernelspec": {
      "name": "python3",
      "display_name": "Python 3"
    },
    "language_info": {
      "name": "python"
    }
  },
  "cells": [
    {
      "cell_type": "markdown",
      "metadata": {
        "id": "view-in-github",
        "colab_type": "text"
      },
      "source": [
        "<a href=\"https://colab.research.google.com/github/ajits-github/Advanced_Python/blob/main/Advanced_Python.ipynb\" target=\"_parent\"><img src=\"https://colab.research.google.com/assets/colab-badge.svg\" alt=\"Open In Colab\"/></a>"
      ]
    },
    {
      "cell_type": "markdown",
      "source": [
        "##GIL and Mutex"
      ],
      "metadata": {
        "id": "OjPAh8lDNQQx"
      }
    },
    {
      "cell_type": "markdown",
      "source": [
        "GIL is a lock based concept which is of more concerns for the tasks related to CPU and a less of a limitation when it comes to I/O bound tasks. This is because I/O bound tasks generally involve lots of waiting. For example, reading or wirting the files, or network communications or interacting with a database etc., where one thread has to wait and hence GIL releases the lock and the service to be used by other threads. These tasks are limited by the speed of the input/output operations and typically involve more waiting than actual computation."
      ],
      "metadata": {
        "id": "HnTe_9P3S9aj"
      }
    },
    {
      "cell_type": "markdown",
      "source": [
        "About the GIL and its usefulness, it's important to understand that the GIL is a trade-off. While the GIL restricts the execution of Python bytecode to a single thread, it also simplifies memory management, prevents race conditions related to memory access, and makes Python code more thread-safe by default."
      ],
      "metadata": {
        "id": "OQi9whMuT9dJ"
      }
    },
    {
      "cell_type": "markdown",
      "source": [
        "Mutex is the accronym for mutual exclusion. In python, mutex are those elements which comes in the play when something is shared between different resources. Along with GIL (Global Interpreter Lock), this ensures that only one thread is accessing the object at a time."
      ],
      "metadata": {
        "id": "cOlzwI39OXsQ"
      }
    },
    {
      "cell_type": "markdown",
      "source": [
        "Here's a simple example in Python using the threading module to illustrate how a mutex works:"
      ],
      "metadata": {
        "id": "-50GLt3nPM1b"
      }
    },
    {
      "cell_type": "code",
      "source": [
        "import threading\n",
        "\n",
        "# Shared resource\n",
        "shared_counter = 0\n",
        "\n",
        "# Mutex for controlling access to shared_counter\n",
        "mutex = threading.Lock()\n",
        "\n",
        "# Function that increments the shared_counter\n",
        "def increment_counter():\n",
        "    global shared_counter\n",
        "    for _ in range(100000):\n",
        "        # Acquire the mutex\n",
        "        mutex.acquire()\n",
        "        shared_counter += 1\n",
        "        # Release the mutex\n",
        "        mutex.release()\n",
        "\n",
        "# Create two threads that increment the counter\n",
        "thread1 = threading.Thread(target=increment_counter)\n",
        "thread2 = threading.Thread(target=increment_counter)\n",
        "\n",
        "# Start the threads\n",
        "thread1.start()\n",
        "thread2.start()\n",
        "\n",
        "# Wait for the threads to finish\n",
        "thread1.join()\n",
        "thread2.join()\n",
        "\n",
        "print(\"Final value of shared_counter:\", shared_counter)\n"
      ],
      "metadata": {
        "colab": {
          "base_uri": "https://localhost:8080/"
        },
        "id": "sZUyZCY2NTLr",
        "outputId": "4fe54ee5-a8f0-4117-d863-66a96c87ad7c"
      },
      "execution_count": null,
      "outputs": [
        {
          "output_type": "stream",
          "name": "stdout",
          "text": [
            "Final value of shared_counter: 200000\n"
          ]
        }
      ]
    },
    {
      "cell_type": "markdown",
      "source": [
        "In this example, the threading.Lock() object (mutex) is used to protect access to the shared_counter. The increment_counter function acquires the mutex before modifying the counter and releases it afterward. This ensures that only one thread can modify the counter at a time, preventing data corruption due to concurrent access.\n",
        "\n",
        "Mutexes are a fundamental concept in concurrent programming, and they play a crucial role in ensuring the correctness and consistency of shared data in multi-threaded or multi-process applications."
      ],
      "metadata": {
        "id": "UWrgr0_gQa-C"
      }
    },
    {
      "cell_type": "markdown",
      "source": [
        "**If you don't use a mutex** to protect the shared_counter in a multi-threaded environment, you might encounter a race condition. A race condition occurs when multiple threads access shared resources concurrently, and the final state of the resource depends on the timing and order of the threads' execution. In this case, without proper synchronization (such as a mutex), the following issues can arise:\n",
        "\n",
        "**Data Corruption:** Since multiple threads can read and modify the shared_counter without coordination, they may read an outdated value, leading to incorrect updates. This can result in an inconsistent or incorrect final value for shared_counter.\n",
        "\n",
        "**Lost Updates:**Threads can overwrite each other's updates if they're not properly synchronized. For example, if two threads simultaneously read the counter's value as 5 and increment it to 6, both threads will update the counter to 6, effectively losing one update.\n",
        "\n",
        "**Inconsistent State:** Due to the unpredictable order of thread execution, the shared_counter might end up with an arbitrary value, leading to an inconsistent or unpredictable state.\n",
        "\n",
        "To avoid these issues, using a mutex (like the threading.Lock() in the example) ensures that only one thread at a time can access and modify the shared resource, preventing race conditions and ensuring data integrity."
      ],
      "metadata": {
        "id": "KAaz01NlXmVc"
      }
    },
    {
      "cell_type": "code",
      "source": [
        "import threading\n",
        "\n",
        "# A shared list\n",
        "shared_list = []\n",
        "\n",
        "# Mutex for controlling access to shared_list\n",
        "mutex = threading.Lock()\n",
        "\n",
        "# Function that appends to the shared list\n",
        "def append_to_list():\n",
        "    global shared_list\n",
        "    for _ in range(100000):\n",
        "        # Acquire the mutex\n",
        "        mutex.acquire()\n",
        "        shared_list.append(threading.current_thread().name)\n",
        "        # Release the mutex\n",
        "        mutex.release()\n",
        "\n",
        "# Create two threads that append to the list\n",
        "thread1 = threading.Thread(target=append_to_list, name=\"Thread 1\")\n",
        "thread2 = threading.Thread(target=append_to_list, name=\"Thread 2\")\n",
        "\n",
        "# Start the threads\n",
        "thread1.start()\n",
        "thread2.start()\n",
        "\n",
        "# Wait for the threads to finish\n",
        "thread1.join()\n",
        "thread2.join()\n",
        "\n",
        "print(\"Shared list:\", shared_list)\n"
      ],
      "metadata": {
        "id": "Y6_xFpNrQcKk"
      },
      "execution_count": null,
      "outputs": []
    },
    {
      "cell_type": "markdown",
      "source": [
        "In this example, the GIL ensures that only one thread can execute the Python bytecode at a time, even though both threads are trying to append to the shared_list simultaneously. As a result, the threads acquire and release the mutex sequentially, effectively serializing access to the shared_list, and the final shared_list will contain only elements from one of the threads, demonstrating how the GIL affects multi-threaded CPU-bound operations."
      ],
      "metadata": {
        "id": "O0mMm2IHWkEi"
      }
    },
    {
      "cell_type": "markdown",
      "source": [
        "Regarding the use of the **global keyword** in Python, it's used to indicate that a variable inside a function should refer to a variable defined in the global scope rather than creating a new local variable. It's commonly used when you want to modify or access a global variable from within a function. However, using global variables can lead to code that's harder to reason about, maintain, and test, as they introduce hidden dependencies and can make functions less modular.\n",
        "\n",
        "It's generally recommended to avoid excessive use of global variables. Instead, it's better to pass variables as arguments to functions and return values from functions. This promotes better encapsulation and makes your code more self-contained and easier to understand."
      ],
      "metadata": {
        "id": "-lg8kCWiX_0G"
      }
    },
    {
      "cell_type": "markdown",
      "source": [
        "\n",
        "\n",
        "---\n",
        "\n"
      ],
      "metadata": {
        "id": "rFdwChYUclIe"
      }
    },
    {
      "cell_type": "markdown",
      "source": [
        "**Mutexes** in Python are implemented using the threading.Lock() class from the threading module. Here are a few examples of using mutexes to protect shared resources in multi-threaded environments:"
      ],
      "metadata": {
        "id": "k3ueJdVAcYP1"
      }
    },
    {
      "cell_type": "markdown",
      "source": [
        "**Using Mutex with Context Manager:**"
      ],
      "metadata": {
        "id": "FDScJIgecqpG"
      }
    },
    {
      "cell_type": "code",
      "source": [
        "import threading\n",
        "\n",
        "shared_list = []\n",
        "mutex = threading.Lock()\n",
        "\n",
        "def append_to_list():\n",
        "  global shared_list\n",
        "  for _ in range(100000):\n",
        "    with mutex:\n",
        "      shared_list.append(threading.current_thread().name)\n",
        "\n",
        "Thread1 = threading.Thread(target=append_to_list, name=\"Thread 1\")\n",
        "Thread2 = threading.Thread(target=append_to_list, name=\"Thread 2\")\n",
        "\n",
        "Thread1.start()\n",
        "Thread2.start()\n",
        "\n",
        "Thread1.join()\n",
        "Thread2.join()\n",
        "\n",
        "print(\"shared list\", shared_list)\n"
      ],
      "metadata": {
        "id": "AjLxKFC7YHbr"
      },
      "execution_count": null,
      "outputs": []
    },
    {
      "cell_type": "markdown",
      "source": [
        "**Using Mutex to Protect a Shared Dictionary:**"
      ],
      "metadata": {
        "id": "1_0eGF8Vc8dw"
      }
    },
    {
      "cell_type": "code",
      "source": [
        "import threading\n",
        "\n",
        "# Shared dictionary\n",
        "shared_dict = {}\n",
        "\n",
        "# Mutex for controlling access to shared_dict\n",
        "mutex = threading.Lock()\n",
        "\n",
        "# Function that adds key-value pairs to the shared dictionary\n",
        "def add_to_dict(key, value):\n",
        "    with mutex:\n",
        "        shared_dict[key] = value\n",
        "\n",
        "# Create two threads that modify the dictionary\n",
        "thread1 = threading.Thread(target=add_to_dict, args=(\"key1\", \"value1\"))\n",
        "thread2 = threading.Thread(target=add_to_dict, args=(\"key2\", \"value2\"))\n",
        "\n",
        "# Start the threads\n",
        "thread1.start()\n",
        "thread2.start()\n",
        "\n",
        "# Wait for the threads to finish\n",
        "thread1.join()\n",
        "thread2.join()\n",
        "\n",
        "print(\"Shared dictionary:\", shared_dict)\n"
      ],
      "metadata": {
        "colab": {
          "base_uri": "https://localhost:8080/"
        },
        "id": "fs48wJ-Lc99m",
        "outputId": "4248ed3f-e80c-4e9a-df33-2caede6e8fd9"
      },
      "execution_count": null,
      "outputs": [
        {
          "output_type": "stream",
          "name": "stdout",
          "text": [
            "Shared dictionary: {'key1': 'value1', 'key2': 'value2'}\n"
          ]
        }
      ]
    },
    {
      "cell_type": "markdown",
      "source": [
        "In these examples, mutexes are used to ensure that only one thread at a time can access and modify shared resources like counters, lists, or dictionaries. The acquire() and release() methods of the mutex ensure proper synchronization, preventing race conditions and data corruption. Using context managers (with statements) with mutexes provides a more concise and safe way to manage the acquisition and release of the mutex."
      ],
      "metadata": {
        "id": "o-ulSRT6dHui"
      }
    },
    {
      "cell_type": "markdown",
      "source": [
        "##Multithreading"
      ],
      "metadata": {
        "id": "82RB3pM__kAX"
      }
    },
    {
      "cell_type": "markdown",
      "source": [
        "Life-cycle of a Thread:\n",
        "  * **Create** by calling the constructor Thread and passing the function to the 'target' keyword along with the arguments (in the 'args' keyword argument of Thread, if the function expects so).\n",
        "  * **Start** the thread i.e. transition to 'run' state by calling 'start()' on thread object.\n",
        "  * **Terminated** thread, which happens if the subsequent new thread created by main thread has completed the executio of the program or raised exception."
      ],
      "metadata": {
        "id": "Ldc5q0L7ZyGu"
      }
    },
    {
      "cell_type": "code",
      "execution_count": null,
      "metadata": {
        "colab": {
          "base_uri": "https://localhost:8080/"
        },
        "id": "B3S0jApO_hJT",
        "outputId": "dd439455-5a42-46ff-8915-8124a58338cb"
      },
      "outputs": [
        {
          "output_type": "stream",
          "name": "stdout",
          "text": [
            "Inside task\n",
            "Thread 2 is still running\n"
          ]
        }
      ],
      "source": [
        "from threading import Thread\n",
        "from time import sleep\n",
        "\n",
        "def task():\n",
        "  sleep(1)\n",
        "  print(\"Inside task\")\n",
        "\n",
        "def new_task():\n",
        "  sleep(1)\n",
        "  print(\"Inside NEW task\")\n",
        "\n",
        "thread1 = Thread(target=task)\n",
        "thread1.start()\n",
        "thread1.join(timeout=2)\n",
        "\n",
        "thread2 = Thread(target=new_task)\n",
        "thread2.start()\n",
        "# thread2.join(timeout=2)\n",
        "# thread2.join(timeout=0.1)\n",
        "\n",
        "if thread2.is_alive():\n",
        "  print(\"Thread 2 is still running\")\n",
        "else:\n",
        "  print(\"Thread 2 is not running\")"
      ]
    },
    {
      "cell_type": "markdown",
      "source": [
        "In the above code, few things that need discussion:\n",
        "  * Can we call new_task() funtion on thread1 at the same time as we called task()?\n",
        "    * Nope, it's not possible to call multiple target functions on a single thread. We need to declare separate threads for sifferent functions.\n",
        "\n",
        "  * What is the purpose of join() on a Thread?\n",
        "    * join() waits for a thread to complete its execution. This duration of waiting can be restricted by using 'timeout' in join() which allows the later code to run if, for example, the timeout is smaller than sleep time inside the function called on that thread. This is the same effect achieved by not using join(). The results will be same in both the cases as it can be seen from the above output where Thread 2 is still running though it didn't print the statement inside new_task() function. Observe the outputs by commenting line 18 and 19, and then uncomment line 19. However, now comment line 19 and uncomment 18, you will see the difference as why we need join().\n",
        "\n"
      ],
      "metadata": {
        "id": "IoOW6THyYpa6"
      }
    },
    {
      "cell_type": "markdown",
      "source": [
        "\n",
        "\n",
        "---\n",
        "\n"
      ],
      "metadata": {
        "id": "k9z8ZtvXews7"
      }
    },
    {
      "cell_type": "markdown",
      "source": [
        "We use Multithreading for I/O tasks which requires waiting for external events and not for the CPU bound tasks. For that, we use Multiprocessing module from Python. Thread is the smallest unti of program. A process will have at least on thread and so many threads, under one process, share the memory space."
      ],
      "metadata": {
        "id": "_biqCSP1eLwQ"
      }
    },
    {
      "cell_type": "markdown",
      "source": [
        "##Multiprocessing"
      ],
      "metadata": {
        "id": "B78Q-okpQ1l_"
      }
    },
    {
      "cell_type": "markdown",
      "source": [
        "**CPU-bound tasks** are tasks that primarily involve computation and processing within the CPU rather than waiting for input/output operations. These tasks are limited by the processing speed of the CPU and can be compute-intensive, such as mathematical calculations, data processing, complex algorithms, and simulations"
      ],
      "metadata": {
        "id": "s7Q_wxQbab_E"
      }
    },
    {
      "cell_type": "markdown",
      "source": [
        "The **Global Interpreter Lock (GIL)** in Python can have a significant impact on CPU-bound tasks because it restricts the execution of Python bytecode to a single thread. As a result, even when multiple threads are used for CPU-bound tasks, they won't run in true parallel on multi-core processors due to the GIL.\n",
        "\n",
        "However, there are strategies to mitigate the impact of the GIL on CPU-bound tasks and potentially speed up their execution:\n",
        "- Use **Multiprocessing**: Instead of using threads, you can use the multiprocessing module to create separate processes. Each process has its own Python interpreter and memory space, allowing them to run in true parallel, as the GIL doesn't affect processes. This approach leverages multiple CPU cores effectively for CPU-bound tasks.\n",
        "\n",
        "- Use **Compiled Extensions**: Consider using compiled extensions or libraries written in languages like C or Cython for performance-critical sections of your code. These languages can bypass the GIL and perform computations more efficiently.\n",
        "\n",
        "- Use **Concurrency Libraries**: Libraries like concurrent.futures provide higher-level interfaces for executing CPU-bound tasks concurrently using threads or processes. They abstract the management of threads and processes, allowing you to focus on the task logic.\n",
        "\n",
        "- Use **GIL-Free Libraries**: Some Python libraries and tools, like NumPy and pandas, are designed to work efficiently with large arrays and data frames and can bypass the GIL. Utilizing such libraries can speed up computations.\n",
        "\n",
        "- Consider Using **Other Languages**: For extremely CPU-intensive tasks, you might consider using other programming languages like C, C++, or Rust that don't have a GIL and offer better performance."
      ],
      "metadata": {
        "id": "IVCNIBYNaisJ"
      }
    },
    {
      "cell_type": "markdown",
      "source": [
        "It's important to note that while these strategies can help mitigate the impact of the GIL on CPU-bound tasks, the GIL itself is an intrinsic part of CPython (Python's reference implementation), and **it's not possible to completely eliminate** it within the standard Python interpreter."
      ],
      "metadata": {
        "id": "H3jUXkAcbHBw"
      }
    },
    {
      "cell_type": "code",
      "source": [
        "import multiprocessing\n",
        "\n",
        "def process_task():\n",
        "    # Your CPU-bound task\n",
        "\n",
        "if __name__ == \"__main__\":\n",
        "    num_processes = multiprocessing.cpu_count()\n",
        "    processes = [multiprocessing.Process(target=process_task) for _ in range(num_processes)]\n",
        "    for process in processes:\n",
        "        process.start()\n",
        "    for process in processes:\n",
        "        process.join()\n"
      ],
      "metadata": {
        "id": "fnrWMIjXQ6zt"
      },
      "execution_count": null,
      "outputs": []
    },
    {
      "cell_type": "markdown",
      "source": [
        "Multi-Threading\n",
        "\n",
        "  - Threads share the same memory and can write to and read from shared variables\n",
        "  - Due to Python Global Interpreter Lock, two threads won’t be executed at the same time, but concurrently (for example with context switching)\n",
        "  - Effective for I/O-bound tasks\n",
        "  - Can be implemented with threading module\n",
        "  - Multi-processing\n",
        "\n",
        "Multi-Processing:\n",
        "  - Every process has is own memory space\n",
        "  - Every process can contain one ore more subprocesses/threads\n",
        "  - Can be used to achieve parallelism by taking advantage of multi-core machines since processes can run on different CPU cores\n",
        "  - Effective for CPU-bound tasks\n",
        "  - Can be implemented with multiprocessing module (or concurrent.futures.ProcessPoolExecutor)"
      ],
      "metadata": {
        "id": "pzPsZNbXEnGG"
      }
    },
    {
      "cell_type": "markdown",
      "source": [
        "##Decorators"
      ],
      "metadata": {
        "id": "TixwdTeKDvMc"
      }
    },
    {
      "cell_type": "code",
      "source": [
        "# def outer_func(arg_outer_def):\n",
        "def outer_func():\n",
        "  def outer_func_2(func):\n",
        "    def real_func(*args, **kwargs):\n",
        "      # def inner_func(arg1):\n",
        "      def inner_func(*args, **kwargs):\n",
        "        # print(\"Before calling..\", type(arg1))\n",
        "        print(\"Before calling..\", args, kwargs)\n",
        "        # arg1 = str(arg1) + arg_outer_def\n",
        "        # func(arg1)\n",
        "        func(args)\n",
        "        # print()\n",
        "        # return func(arg1)\n",
        "      return inner_func\n",
        "    return real_func\n",
        "  return outer_func_2\n",
        "\n",
        "# @outer_func(arg_outer_def=\"static\")\n",
        "@outer_func()\n",
        "def after_func(arg1=\"test\"):\n",
        "  # if isinstance(arg1, str):\n",
        "  print(\"hELLLOOO\")\n",
        "  if isinstance(arg1, list):\n",
        "    print(\"As expected, arg is converted to string: \", type(arg1))\n",
        "    print(arg1)\n",
        "\n",
        "\n",
        "# after_func([4,5,6])\n",
        "after_func([4,5,6], arg1=\"hello\")"
      ],
      "metadata": {
        "colab": {
          "base_uri": "https://localhost:8080/"
        },
        "id": "Ekjeuk9O7g4X",
        "outputId": "cffa7109-4316-486e-9330-03d882b78539"
      },
      "execution_count": null,
      "outputs": [
        {
          "output_type": "execute_result",
          "data": {
            "text/plain": [
              "<function __main__.outer_func.<locals>.outer_func_2.<locals>.real_func.<locals>.inner_func(*args, **kwargs)>"
            ]
          },
          "metadata": {},
          "execution_count": 43
        }
      ]
    },
    {
      "cell_type": "code",
      "source": [
        "def outer_func():\n",
        "    def inner1(func):\n",
        "        def inner2(*args, **kwargs):\n",
        "            def inner3(args):\n",
        "                def inner4(args):\n",
        "                    def inner5(args):\n",
        "                        print(\"Inside inner5\")\n",
        "                        func(*args, **kwargs)\n",
        "                        print(\"Exiting inner5\")\n",
        "                    return inner5\n",
        "                return inner4\n",
        "            return inner3\n",
        "        return inner2\n",
        "    return inner1\n",
        "\n",
        "@outer_func()\n",
        "def decorated_function(arg1=\"test\"):\n",
        "# def decorated_function(arg1):\n",
        "    print(\"Decorated function with arg1:\", arg1)\n",
        "\n",
        "decorated_function(\"Hello!\")\n"
      ],
      "metadata": {
        "colab": {
          "base_uri": "https://localhost:8080/"
        },
        "id": "WyXDBJw9K2g3",
        "outputId": "b4281596-ce29-4314-c7fd-0a6ad59396bb"
      },
      "execution_count": null,
      "outputs": [
        {
          "output_type": "execute_result",
          "data": {
            "text/plain": [
              "<function __main__.outer_func.<locals>.inner1.<locals>.inner2.<locals>.inner3(args)>"
            ]
          },
          "metadata": {},
          "execution_count": 1
        }
      ]
    },
    {
      "cell_type": "code",
      "source": [
        "def outer_func(func):\n",
        "    def inner1(*args, **kwargs):\n",
        "        def inner2(*args, **kwargs):\n",
        "            print(\"Inside inner2\")\n",
        "            func(*args, **kwargs)\n",
        "            print(\"Exiting inner2\")\n",
        "        return inner2\n",
        "    return inner1\n",
        "\n",
        "@outer_func\n",
        "def decorated_function(arg1=\"test\"):\n",
        "    print(\"Decorated function with arg1:\", arg1)\n",
        "\n",
        "# Call the decorated function\n",
        "decorated_function(\"Hello!\")\n"
      ],
      "metadata": {
        "colab": {
          "base_uri": "https://localhost:8080/"
        },
        "id": "uXWByfH3LXU-",
        "outputId": "acf20728-ab20-4955-f3f3-c31a00122ed5"
      },
      "execution_count": null,
      "outputs": [
        {
          "output_type": "execute_result",
          "data": {
            "text/plain": [
              "<function __main__.outer_func.<locals>.inner1.<locals>.inner2(*args, **kwargs)>"
            ]
          },
          "metadata": {},
          "execution_count": 1
        }
      ]
    },
    {
      "cell_type": "code",
      "source": [
        "def outer_func(who):\n",
        "    def inner_func():\n",
        "        print(f\"Hello, {who}\")\n",
        "    inner_func()\n",
        "\n",
        "\n",
        "outer_func(\"World!\")"
      ],
      "metadata": {
        "colab": {
          "base_uri": "https://localhost:8080/"
        },
        "id": "34526kN7M1RF",
        "outputId": "dbd771a2-59c4-4481-9d69-8e403a175c3c"
      },
      "execution_count": null,
      "outputs": [
        {
          "output_type": "stream",
          "name": "stdout",
          "text": [
            "Hello, World!\n"
          ]
        }
      ]
    },
    {
      "cell_type": "markdown",
      "source": [
        "Important points about decorators:\n",
        "* The signature of the most inner function and the function which is being decorated must be same or with variable args."
      ],
      "metadata": {
        "id": "X_NVuZE5Dxlh"
      }
    },
    {
      "cell_type": "markdown",
      "source": [
        "What do we mean by something is callable?\n",
        "- Check the below code which is having outer and inner functions. When the outer function is called it just assigns the object of inner function so that later on the same can be invoked with proper signature of inner function. For example, if we comment line 4 and 5, and uncomment the lines 7,8 and 9, the obj_outer still holds the object of inner_func but if we change the call to a constant instead of a function inside out_function body (as currently it is showing), then you get the error which should be as the string object which is being passed upon call is no more a function but just a constant."
      ],
      "metadata": {
        "id": "0kliiJlgTjOc"
      }
    },
    {
      "cell_type": "code",
      "source": [
        "def out_function(out_args):\n",
        "  print(\"hello, outside: \", out_args)\n",
        "\n",
        "  value = out_args\n",
        "  return value\n",
        "\n",
        "  # def inner_func(*args):\n",
        "  #   return \"hello, inside \" + str(args) + str(out_args)\n",
        "  # return inner_func\n",
        "\n",
        "\n",
        "\n",
        "obj_outer = out_function(\"_outercall_\")\n",
        "obj_outer(\"_innercall_\")\n"
      ],
      "metadata": {
        "colab": {
          "base_uri": "https://localhost:8080/",
          "height": 227
        },
        "id": "0g20ZldAUPWN",
        "outputId": "eb8364cc-54fb-4dfb-d090-6b24702bb4f4"
      },
      "execution_count": null,
      "outputs": [
        {
          "output_type": "stream",
          "name": "stdout",
          "text": [
            "hello, outside:  _outercall_\n"
          ]
        },
        {
          "output_type": "error",
          "ename": "TypeError",
          "evalue": "ignored",
          "traceback": [
            "\u001b[0;31m---------------------------------------------------------------------------\u001b[0m",
            "\u001b[0;31mTypeError\u001b[0m                                 Traceback (most recent call last)",
            "\u001b[0;32m<ipython-input-4-3374fa73747a>\u001b[0m in \u001b[0;36m<cell line: 12>\u001b[0;34m()\u001b[0m\n\u001b[1;32m     10\u001b[0m \u001b[0;34m\u001b[0m\u001b[0m\n\u001b[1;32m     11\u001b[0m \u001b[0mobj_outer\u001b[0m \u001b[0;34m=\u001b[0m \u001b[0mout_function\u001b[0m\u001b[0;34m(\u001b[0m\u001b[0;34m\"_outercall_\"\u001b[0m\u001b[0;34m)\u001b[0m\u001b[0;34m\u001b[0m\u001b[0;34m\u001b[0m\u001b[0m\n\u001b[0;32m---> 12\u001b[0;31m \u001b[0mobj_outer\u001b[0m\u001b[0;34m(\u001b[0m\u001b[0;34m\"_innercall_\"\u001b[0m\u001b[0;34m)\u001b[0m\u001b[0;34m\u001b[0m\u001b[0;34m\u001b[0m\u001b[0m\n\u001b[0m",
            "\u001b[0;31mTypeError\u001b[0m: 'str' object is not callable"
          ]
        }
      ]
    },
    {
      "cell_type": "markdown",
      "source": [
        "The use cases for Python decorators are varied. Here are some of them:\n",
        "\n",
        "* Debugging\n",
        "* Caching\n",
        "* Logging\n",
        "* Timing"
      ],
      "metadata": {
        "id": "oftlgpfmuyFW"
      }
    },
    {
      "cell_type": "markdown",
      "source": [
        "Functools.wraps decorator:"
      ],
      "metadata": {
        "id": "zwMTsKTO5eix"
      }
    },
    {
      "cell_type": "code",
      "source": [
        "import functools\n",
        "\n",
        "def my_decorator(func):\n",
        "    def wrapper(*args, **kwargs):\n",
        "        print(\"Decorator is called\")\n",
        "        return func(*args, **kwargs)\n",
        "    return wrapper\n",
        "\n",
        "@my_decorator\n",
        "def my_function():\n",
        "    \"\"\"This is the docstring of my_function.\"\"\"\n",
        "    print(\"Inside my_function\")\n",
        "\n",
        "print(\"Name of the decorated function:\", my_function.__name__)\n",
        "print(\"Docstring of the decorated function:\", my_function.__doc__)\n"
      ],
      "metadata": {
        "colab": {
          "base_uri": "https://localhost:8080/"
        },
        "id": "MY6R39v45iqf",
        "outputId": "00aabfbe-9a05-4477-c164-b325f4717b3e"
      },
      "execution_count": null,
      "outputs": [
        {
          "output_type": "stream",
          "name": "stdout",
          "text": [
            "Name of the decorated function: wrapper\n",
            "Docstring of the decorated function: None\n"
          ]
        }
      ]
    },
    {
      "cell_type": "markdown",
      "source": [
        "In the example above, when we run the code, we'll notice that the name and docstring of the my_function are overwritten by the wrapper function inside the my_decorator.\n",
        "\n",
        "To preserve the original metadata of the decorated function, we can use functools.wraps. Here's how we can modify the decorator to use functools.wraps:"
      ],
      "metadata": {
        "id": "hDM9F3UM57gs"
      }
    },
    {
      "cell_type": "code",
      "source": [
        "import functools\n",
        "\n",
        "def my_decorator(func):\n",
        "    @functools.wraps(func)\n",
        "    def wrapper(*args, **kwargs):\n",
        "        print(\"Decorator is called\")\n",
        "        return func(*args, **kwargs)\n",
        "    return wrapper\n",
        "\n",
        "@my_decorator\n",
        "def my_function():\n",
        "    \"\"\"This is the docstring of my_function.\"\"\"\n",
        "    print(\"Inside my_function\")\n",
        "\n",
        "print(\"Name of the decorated function:\", my_function.__name__)\n",
        "print(\"Docstring of the decorated function:\", my_function.__doc__)\n"
      ],
      "metadata": {
        "colab": {
          "base_uri": "https://localhost:8080/"
        },
        "id": "iHKZz6-26C1p",
        "outputId": "378ef546-74d5-4daa-f912-88fa5b638a9f"
      },
      "execution_count": null,
      "outputs": [
        {
          "output_type": "stream",
          "name": "stdout",
          "text": [
            "Name of the decorated function: my_function\n",
            "Docstring of the decorated function: This is the docstring of my_function.\n"
          ]
        }
      ]
    },
    {
      "cell_type": "markdown",
      "source": [
        "By using functools.wraps, we ensure that the decorated function retains its original metadata, making our code more maintainable and easier to understand during debugging and analysis."
      ],
      "metadata": {
        "id": "YZU55aRo6g6b"
      }
    },
    {
      "cell_type": "markdown",
      "source": [
        "##Closures"
      ],
      "metadata": {
        "id": "0QJWouO3o6aB"
      }
    },
    {
      "cell_type": "code",
      "source": [
        "def outer_func1():\n",
        "  sample = []\n",
        "  def inner_func1(num):\n",
        "    sample.append(num)\n",
        "    return sum(sample)/ len(sample)\n",
        "\n",
        "  return inner_func1\n",
        "\n"
      ],
      "metadata": {
        "colab": {
          "base_uri": "https://localhost:8080/"
        },
        "id": "l86kPIL5U70z",
        "outputId": "622a3555-0ee1-439d-d099-115d0122e1a7"
      },
      "execution_count": null,
      "outputs": [
        {
          "output_type": "execute_result",
          "data": {
            "text/plain": [
              "100.0"
            ]
          },
          "metadata": {},
          "execution_count": 6
        }
      ]
    },
    {
      "cell_type": "code",
      "source": [
        "obj1 = outer_func1()\n",
        "obj1(100)"
      ],
      "metadata": {
        "colab": {
          "base_uri": "https://localhost:8080/"
        },
        "id": "yEerDJ6EoyCE",
        "outputId": "0358296d-8c44-4a3d-8e97-b186e580b69a"
      },
      "execution_count": null,
      "outputs": [
        {
          "output_type": "execute_result",
          "data": {
            "text/plain": [
              "100.0"
            ]
          },
          "metadata": {},
          "execution_count": 10
        }
      ]
    },
    {
      "cell_type": "code",
      "source": [
        "# obj1 = outer_func1()\n",
        "obj1(105)"
      ],
      "metadata": {
        "colab": {
          "base_uri": "https://localhost:8080/"
        },
        "id": "KUtGOKiuoy7N",
        "outputId": "0f4f07ce-9803-41b4-cda0-b9e76ff26410"
      },
      "execution_count": null,
      "outputs": [
        {
          "output_type": "execute_result",
          "data": {
            "text/plain": [
              "102.5"
            ]
          },
          "metadata": {},
          "execution_count": 11
        }
      ]
    },
    {
      "cell_type": "markdown",
      "source": [
        "Closures are used to save the environmental state of the function with the use of inner fucntion. Here we can see, the list to which elements are being appended is saved and recalled from the last point and used subsequently."
      ],
      "metadata": {
        "id": "nl70ruiMq8uH"
      }
    },
    {
      "cell_type": "markdown",
      "source": [
        "Similalry, with the use of decorator in the below code, we can see this can be maintained and resumed. The value of exponent is not being sent again and again."
      ],
      "metadata": {
        "id": "eBG4BsY2rsf7"
      }
    },
    {
      "cell_type": "code",
      "source": [
        "def generate_power(exponent):\n",
        "  def power(func):\n",
        "    def inner_power(*args):\n",
        "      base = func(*args)\n",
        "      return base**exponent\n",
        "    return inner_power\n",
        "  return power\n",
        "\n",
        "\n",
        "@generate_power(2)\n",
        "def raise_to_two(n):\n",
        "  return n\n",
        "\n",
        "@generate_power(3)\n",
        "def raise_to_three(n):\n",
        "  return n"
      ],
      "metadata": {
        "id": "nI6XYdrio0OL"
      },
      "execution_count": null,
      "outputs": []
    },
    {
      "cell_type": "code",
      "source": [
        "raise_to_two(5)\n"
      ],
      "metadata": {
        "colab": {
          "base_uri": "https://localhost:8080/"
        },
        "id": "sYkleaLCtUH0",
        "outputId": "442d9eea-2a02-4c20-aefd-9865fc8ecea6"
      },
      "execution_count": null,
      "outputs": [
        {
          "output_type": "execute_result",
          "data": {
            "text/plain": [
              "25"
            ]
          },
          "metadata": {},
          "execution_count": 14
        }
      ]
    },
    {
      "cell_type": "code",
      "source": [
        "raise_to_two(10)\n"
      ],
      "metadata": {
        "colab": {
          "base_uri": "https://localhost:8080/"
        },
        "id": "UuTJHJPHujGI",
        "outputId": "b147c56a-a0f0-4888-ae36-9ea6e1877526"
      },
      "execution_count": null,
      "outputs": [
        {
          "output_type": "execute_result",
          "data": {
            "text/plain": [
              "100"
            ]
          },
          "metadata": {},
          "execution_count": 16
        }
      ]
    },
    {
      "cell_type": "code",
      "source": [
        "raise_to_three(5)\n"
      ],
      "metadata": {
        "colab": {
          "base_uri": "https://localhost:8080/"
        },
        "id": "aWLkwpKMu-q0",
        "outputId": "cd455775-696d-4d47-b7bd-e275be64806b"
      },
      "execution_count": null,
      "outputs": [
        {
          "output_type": "execute_result",
          "data": {
            "text/plain": [
              "125"
            ]
          },
          "metadata": {},
          "execution_count": 17
        }
      ]
    },
    {
      "cell_type": "code",
      "source": [
        "raise_to_three(6)"
      ],
      "metadata": {
        "colab": {
          "base_uri": "https://localhost:8080/"
        },
        "id": "YgGLKxT7vBjb",
        "outputId": "dad3460b-3acd-4dec-b26d-bd26f20694aa"
      },
      "execution_count": null,
      "outputs": [
        {
          "output_type": "execute_result",
          "data": {
            "text/plain": [
              "216"
            ]
          },
          "metadata": {},
          "execution_count": 18
        }
      ]
    },
    {
      "cell_type": "markdown",
      "source": [
        "##ContextManager"
      ],
      "metadata": {
        "id": "-ebvNANjzgPU"
      }
    },
    {
      "cell_type": "markdown",
      "source": [
        "Using **decorator** for debug purpose here."
      ],
      "metadata": {
        "id": "kmidcaLT3smU"
      }
    },
    {
      "cell_type": "code",
      "source": [
        "class MyFileManager:\n",
        "\n",
        "  def debug(func):\n",
        "    def wrapper(*args, **kwargs):\n",
        "      print(f\"Calling {func.__name__} with args: {args} {kwargs}\")\n",
        "      result = func(*args, **kwargs)\n",
        "      print(f\"{func.__name__} returned {result}\")\n",
        "      return result\n",
        "    return wrapper\n",
        "\n",
        "  @debug\n",
        "  def __init__(self, filename, mode):\n",
        "    self.filename = filename\n",
        "    self.mode = mode\n",
        "\n",
        "  @debug\n",
        "  def __enter__(self):\n",
        "    # print(\"inside \")\n",
        "    self.file = open(self.filename, self.mode)\n",
        "    return self.file\n",
        "\n",
        "  @debug\n",
        "  def __exit__(self, exc_type, exc_value, traceback):\n",
        "  # def __exit__(self):\n",
        "    if self.file:\n",
        "      self.file.close()\n",
        "\n"
      ],
      "metadata": {
        "id": "3ePiCu6Ezf_j"
      },
      "execution_count": null,
      "outputs": []
    },
    {
      "cell_type": "code",
      "source": [
        "with MyFileManager(\"/content/Capture.txt\", 'w') as file:\n",
        "  file.write(\"Hello, I am writing\")"
      ],
      "metadata": {
        "colab": {
          "base_uri": "https://localhost:8080/"
        },
        "id": "40aj2RNb1piw",
        "outputId": "6792bded-1e83-4b54-e74b-38897a876501"
      },
      "execution_count": null,
      "outputs": [
        {
          "output_type": "stream",
          "name": "stdout",
          "text": [
            "Calling __init__ with args: (<__main__.MyFileManager object at 0x7bfbf3c408e0>, '/content/Capture.txt', 'w') {}\n",
            "__init__ returned None\n",
            "Calling __enter__ with args: (<__main__.MyFileManager object at 0x7bfbf3c408e0>,) {}\n",
            "__enter__ returned <_io.TextIOWrapper name='/content/Capture.txt' mode='w' encoding='UTF-8'>\n",
            "Calling __exit__ with args: (<__main__.MyFileManager object at 0x7bfbf3c408e0>, None, None, None) {}\n",
            "__exit__ returned None\n"
          ]
        }
      ]
    },
    {
      "cell_type": "markdown",
      "source": [
        "##Generators"
      ],
      "metadata": {
        "id": "Dti9Ffhz7Btm"
      }
    },
    {
      "cell_type": "markdown",
      "source": [
        "Here's how generators work step by step:\n",
        "\n",
        "Generator Function Definition:\n",
        "You define a generator function using the yield keyword. When the generator function is called, it doesn't execute immediately but returns a generator object, which acts as an iterator.\n",
        "\n",
        "First Call to the Generator Function:\n",
        "When you make the first call to the generator function, its code doesn't run completely. Instead, it runs until it encounters the yield statement. It then suspends its execution and yields the value provided after the yield keyword.\n",
        "\n",
        "Value Retrieval:\n",
        "When you request the next value from the generator using the next() function or in a loop, the generator resumes its execution from where it was last suspended. It continues until it hits another yield statement or runs out of code. It then yields the new value and suspends execution again.\n",
        "\n",
        "Iterating Through the Generator:\n",
        "You can use a for loop or other iteration methods to retrieve values from the generator. Each time you iterate, the generator produces and yields the next value on-the-fly.\n",
        "\n",
        "Stop Iteration:\n",
        "When the generator function runs out of code to execute or encounters a return statement, a StopIteration exception is raised, indicating the end of the iteration."
      ],
      "metadata": {
        "id": "m15A6K-KxbJ4"
      }
    },
    {
      "cell_type": "code",
      "source": [
        "def generator_example(limit):\n",
        "  num = 1\n",
        "  while num <= limit:\n",
        "    print(\"1st example\")\n",
        "    yield num\n",
        "    num += 1"
      ],
      "metadata": {
        "id": "zF2Gggze3SW7"
      },
      "execution_count": null,
      "outputs": []
    },
    {
      "cell_type": "code",
      "source": [
        "ge = generator_example(5)\n",
        "print(next(ge))\n",
        "print(next(ge))\n",
        "print(next(ge))\n",
        "print(next(ge))\n",
        "print(next(ge))\n",
        "# print(next(ge))\n",
        "# for i in ge:\n",
        "#   print(i)"
      ],
      "metadata": {
        "colab": {
          "base_uri": "https://localhost:8080/"
        },
        "id": "bGUUE1mT7aIZ",
        "outputId": "814d7d7b-496e-42df-b545-5a4ddb081066"
      },
      "execution_count": null,
      "outputs": [
        {
          "output_type": "stream",
          "name": "stdout",
          "text": [
            "1\n",
            "2\n",
            "3\n",
            "4\n",
            "5\n"
          ]
        }
      ]
    },
    {
      "cell_type": "markdown",
      "source": [
        "Generator expression:"
      ],
      "metadata": {
        "id": "PCqXsgnx7ycI"
      }
    },
    {
      "cell_type": "markdown",
      "source": [
        "Just like list comprehension, it stores the values in a variable which is a generator object and then upon using next on this iterable, we can get the values or we can use for loop."
      ],
      "metadata": {
        "id": "daIK3uy48Cqk"
      }
    },
    {
      "cell_type": "code",
      "source": [
        "squares = (x**2 for x in range(1,5))"
      ],
      "metadata": {
        "id": "qsweq4wu7oSu"
      },
      "execution_count": null,
      "outputs": []
    },
    {
      "cell_type": "code",
      "source": [
        "next(squares)"
      ],
      "metadata": {
        "colab": {
          "base_uri": "https://localhost:8080/"
        },
        "id": "PMjPDi4j76o6",
        "outputId": "f0c805b7-29a3-487b-cac1-a456ae590c4a"
      },
      "execution_count": null,
      "outputs": [
        {
          "output_type": "execute_result",
          "data": {
            "text/plain": [
              "4"
            ]
          },
          "metadata": {},
          "execution_count": 32
        }
      ]
    },
    {
      "cell_type": "markdown",
      "source": [
        "Keep running the above cell and it will return the values one by one. It means the genrator always resumes from where it was left. Generators provide memory-efficient iteration and are especially useful when dealing with large datasets, streaming data, or scenarios where we want to generate values on-the-fly. They contribute to cleaner and more readable code by avoiding the need to generate and store all values in memory at once."
      ],
      "metadata": {
        "id": "YqABl68c8X6n"
      }
    },
    {
      "cell_type": "code",
      "source": [
        "for i in squares:\n",
        "  print(i)"
      ],
      "metadata": {
        "colab": {
          "base_uri": "https://localhost:8080/"
        },
        "id": "DTtlcjV9BxS-",
        "outputId": "17efb93e-0990-4031-ed00-c929d80d467f"
      },
      "execution_count": null,
      "outputs": [
        {
          "output_type": "stream",
          "name": "stdout",
          "text": [
            "9\n",
            "16\n"
          ]
        }
      ]
    },
    {
      "cell_type": "markdown",
      "source": [
        "From the above cell result, it can be observed that since only last two results were left in the squares generator object and hence only those are printed."
      ],
      "metadata": {
        "id": "g5JLR7C8B6jA"
      }
    },
    {
      "cell_type": "code",
      "source": [
        "squares = (x**2 for x in range(1,5))"
      ],
      "metadata": {
        "id": "2mejqd7AD4Ag"
      },
      "execution_count": null,
      "outputs": []
    },
    {
      "cell_type": "code",
      "source": [
        "def gen_squares(sq_gen):\n",
        "  for i in sq_gen:\n",
        "    yield i"
      ],
      "metadata": {
        "id": "qbLDlYB3COy8"
      },
      "execution_count": null,
      "outputs": []
    },
    {
      "cell_type": "code",
      "source": [
        "for sq in gen_squares(squares):\n",
        "  print(sq)"
      ],
      "metadata": {
        "colab": {
          "base_uri": "https://localhost:8080/"
        },
        "id": "gdTxdqgNClvG",
        "outputId": "1193435c-dfd1-491d-f785-2514e34ed1a8"
      },
      "execution_count": null,
      "outputs": [
        {
          "output_type": "stream",
          "name": "stdout",
          "text": [
            "1\n",
            "4\n",
            "9\n",
            "16\n"
          ]
        }
      ]
    },
    {
      "cell_type": "code",
      "source": [
        "def gen_ex2(limit):\n",
        "  yield from generator_example(limit)\n",
        "  if limit < 10:\n",
        "    print(\"2nd example\")\n",
        "    yield limit\n"
      ],
      "metadata": {
        "id": "gZOyctJF8o2F"
      },
      "execution_count": null,
      "outputs": []
    },
    {
      "cell_type": "code",
      "source": [
        "def iterate_genex(genex):\n",
        "  if not any(i for i in genex):\n",
        "    print(\"The generator is empty, Fill in some fuel\")\n",
        "  else:\n",
        "    for i in genex:\n",
        "        print(i)"
      ],
      "metadata": {
        "id": "yjGFlUcuADuq"
      },
      "execution_count": null,
      "outputs": []
    },
    {
      "cell_type": "code",
      "source": [
        "genex = gen_ex2(12)"
      ],
      "metadata": {
        "id": "2gB1FTkV9fZN"
      },
      "execution_count": null,
      "outputs": []
    },
    {
      "cell_type": "code",
      "source": [
        "iterate_genex(genex)"
      ],
      "metadata": {
        "colab": {
          "base_uri": "https://localhost:8080/"
        },
        "id": "yEdgMdfn9iIS",
        "outputId": "8a535058-036e-428a-bb6d-fab05a6e7225"
      },
      "execution_count": null,
      "outputs": [
        {
          "output_type": "stream",
          "name": "stdout",
          "text": [
            "1st example\n",
            "1st example\n",
            "2\n",
            "1st example\n",
            "3\n",
            "1st example\n",
            "4\n",
            "1st example\n",
            "5\n",
            "1st example\n",
            "6\n",
            "1st example\n",
            "7\n",
            "1st example\n",
            "8\n",
            "1st example\n",
            "9\n",
            "1st example\n",
            "10\n",
            "1st example\n",
            "11\n",
            "1st example\n",
            "12\n"
          ]
        }
      ]
    },
    {
      "cell_type": "code",
      "source": [
        "genex = gen_ex2(5)"
      ],
      "metadata": {
        "id": "4hibtdR_-hSL"
      },
      "execution_count": null,
      "outputs": []
    },
    {
      "cell_type": "code",
      "source": [
        "iterate_genex(genex)"
      ],
      "metadata": {
        "colab": {
          "base_uri": "https://localhost:8080/"
        },
        "id": "-6TSEnF3-OB9",
        "outputId": "fa7ad2da-7b1c-48b1-f67d-89b91a461085"
      },
      "execution_count": null,
      "outputs": [
        {
          "output_type": "stream",
          "name": "stdout",
          "text": [
            "1st example\n",
            "1st example\n",
            "2\n",
            "1st example\n",
            "3\n",
            "1st example\n",
            "4\n",
            "1st example\n",
            "5\n",
            "2nd example\n",
            "5\n"
          ]
        }
      ]
    },
    {
      "cell_type": "code",
      "source": [
        "iterate_genex(genex)"
      ],
      "metadata": {
        "colab": {
          "base_uri": "https://localhost:8080/"
        },
        "id": "L390ZUaO-jhp",
        "outputId": "e8610789-980d-4ccc-ef57-d11767e3d387"
      },
      "execution_count": null,
      "outputs": [
        {
          "output_type": "stream",
          "name": "stdout",
          "text": [
            "The generator is empty, Fill in some fuel\n"
          ]
        }
      ]
    },
    {
      "cell_type": "code",
      "source": [
        "list(genex)"
      ],
      "metadata": {
        "colab": {
          "base_uri": "https://localhost:8080/"
        },
        "id": "-YL7v6_M_K0J",
        "outputId": "78d1c138-5554-4e87-e3fe-010ca3c29c6f"
      },
      "execution_count": null,
      "outputs": [
        {
          "output_type": "execute_result",
          "data": {
            "text/plain": [
              "[]"
            ]
          },
          "metadata": {},
          "execution_count": 77
        }
      ]
    },
    {
      "cell_type": "markdown",
      "source": [
        "##With Statement"
      ],
      "metadata": {
        "id": "D0lbi_ZcglvF"
      }
    },
    {
      "cell_type": "markdown",
      "source": [
        "The with statement in Python is used to simplify the management of resources, such as files, network connections, or locks. It ensures that the resource is properly acquired and released, **even in the presence of exceptions**. Here are some examples of using the with statement with different types of resources:"
      ],
      "metadata": {
        "id": "3j-vvYQNgx9-"
      }
    },
    {
      "cell_type": "markdown",
      "source": [
        "**Using with for File Handling:**"
      ],
      "metadata": {
        "id": "4T94mk73g183"
      }
    },
    {
      "cell_type": "code",
      "source": [
        "# Opening a file using 'with' statement\n",
        "with open('example.txt', 'r') as file:\n",
        "    content = file.read()\n",
        "    print(content)\n",
        "\n",
        "# File is automatically closed when the 'with' block is exited\n"
      ],
      "metadata": {
        "id": "0rpEpF45dIux"
      },
      "execution_count": null,
      "outputs": []
    },
    {
      "cell_type": "markdown",
      "source": [
        "**Using with for Locks (Mutexes):**"
      ],
      "metadata": {
        "id": "rACl-bddg6Xv"
      }
    },
    {
      "cell_type": "code",
      "source": [
        "import threading\n",
        "\n",
        "# Mutex for controlling access to shared resource\n",
        "mutex = threading.Lock()\n",
        "\n",
        "# Using 'with' statement to acquire and release the mutex\n",
        "def thread_function():\n",
        "    with mutex:\n",
        "        # Critical section\n",
        "        print(\"Thread is inside the critical section\")\n",
        "\n",
        "# Create and start a thread\n",
        "thread = threading.Thread(target=thread_function)\n",
        "thread.start()\n",
        "thread.join()\n"
      ],
      "metadata": {
        "id": "jGnZLtfAg9xq"
      },
      "execution_count": null,
      "outputs": []
    },
    {
      "cell_type": "markdown",
      "source": [
        "**Using with for Network Connections:**"
      ],
      "metadata": {
        "id": "fKytDtk_hAUP"
      }
    },
    {
      "cell_type": "code",
      "source": [
        "import socket\n",
        "\n",
        "# Creating a socket using 'with' statement\n",
        "with socket.socket(socket.AF_INET, socket.SOCK_STREAM) as s:\n",
        "    s.connect(('example.com', 80))\n",
        "    s.send(b'GET / HTTP/1.1\\r\\n\\r\\n')\n",
        "    response = s.recv(4096)\n",
        "    print(response.decode())\n",
        "# Socket is automatically closed when the 'with' block is exited\n"
      ],
      "metadata": {
        "id": "a7r0s9DSg-1k"
      },
      "execution_count": null,
      "outputs": []
    },
    {
      "cell_type": "markdown",
      "source": [
        "**Using with for Custom Context Managers:**"
      ],
      "metadata": {
        "id": "l2t1xRRWhEd5"
      }
    },
    {
      "cell_type": "code",
      "source": [
        "class MyContext:\n",
        "    def __enter__(self):\n",
        "        print(\"Entering the context\")\n",
        "        return self\n",
        "\n",
        "    def __exit__(self, exc_type, exc_value, traceback):\n",
        "        print(\"Exiting the context\")\n",
        "        if exc_type is not None:\n",
        "            print(f\"Exception occurred: {exc_type}, {exc_value}\")\n",
        "        return False  # Re-raise the exception if needed\n",
        "\n",
        "# Using custom context manager with 'with' statement\n",
        "with MyContext() as context:\n",
        "    print(\"Inside the context\")\n",
        "    # Uncomment the next line to simulate an exception\n",
        "    # raise Exception(\"An error occurred\")\n"
      ],
      "metadata": {
        "id": "OE4-0BuNhFme"
      },
      "execution_count": null,
      "outputs": []
    },
    {
      "cell_type": "markdown",
      "source": [
        "##Partial Functions"
      ],
      "metadata": {
        "id": "7pDLNF5cjMQs"
      }
    },
    {
      "cell_type": "markdown",
      "source": [
        "Partial functions as the name says, is used to freeze a function with arguments which is needed only once and thereafter, you want to use that function everytime with less number of arguments.\n",
        "\n",
        "This can be useful when you have a function that takes multiple arguments, but you want to create a new function with some of those arguments pre-set, essentially creating a simpler version of the original function.\n",
        "\n",
        "The functools.partial function is used to create partial functions. It takes a function and its arguments as arguments, and returns a new function with the specified arguments \"**frozen**.\"\n",
        "\n",
        "Here's a simple use case of partial functions:"
      ],
      "metadata": {
        "id": "cqTPCXXHkvIR"
      }
    },
    {
      "cell_type": "code",
      "source": [
        "from functools import partial\n",
        "import random\n",
        "# Original function\n",
        "def power(base, exponent):\n",
        "    # base=1\n",
        "    return base ** exponent\n",
        "\n",
        "cubes = partial(power, exponent=3)\n",
        "cubical_results = []\n",
        "for _ in range(10):\n",
        "  j = random.randint(1, 5)\n",
        "  cubical_results.append(cubes(j))\n",
        "\n",
        "cubical_results"
      ],
      "metadata": {
        "colab": {
          "base_uri": "https://localhost:8080/"
        },
        "id": "BP5t6t_fiexW",
        "outputId": "32838255-d75b-4e1b-ee5a-a04a25bab7a2"
      },
      "execution_count": null,
      "outputs": [
        {
          "output_type": "execute_result",
          "data": {
            "text/plain": [
              "[8, 27, 8, 8, 8, 27, 1, 8, 64, 125]"
            ]
          },
          "metadata": {},
          "execution_count": 16
        }
      ]
    },
    {
      "cell_type": "markdown",
      "source": [
        "In this example, the cubes function is a partial function created from the power function, with the base argument fixed to 3."
      ],
      "metadata": {
        "id": "rJgg96U1mbxt"
      }
    },
    {
      "cell_type": "markdown",
      "source": [
        "Another use case for partial functions is when working with **callback functions** that require specific arguments. For example, in GUI programming or event handling, you might need to pass additional arguments to a callback function:"
      ],
      "metadata": {
        "id": "Fp0dTyiemiPB"
      }
    },
    {
      "cell_type": "code",
      "source": [
        "import functools\n",
        "\n",
        "# def on_button_click(event, button_id, button_name, button_val):\n",
        "def on_button_click(event, button_name, button_val, button_id):\n",
        "    print(f\"Button {button_id} clicked!\")\n",
        "\n",
        "# Create partial functions for specific button IDs\n",
        "on_button_1_click = functools.partial(on_button_click, button_val=4, button_id=1)\n",
        "# on_button_1_click = functools.partial(on_button_click, button_val=4)\n",
        "on_button_2_click = functools.partial(on_button_click, button_id=2)\n",
        "\n",
        "# Simulate button clicks\n",
        "on_button_1_click(\"Click event\", \"REX\")  # Output: Button 1 clicked!\n",
        "on_button_2_click(\"Click event\", \"REX more\", 8)  # Output: Button 2 clicked!\n"
      ],
      "metadata": {
        "colab": {
          "base_uri": "https://localhost:8080/"
        },
        "id": "YaZNiqdXmfxb",
        "outputId": "527e9cc7-2eb6-448e-fec0-14a6a13cf61e"
      },
      "execution_count": null,
      "outputs": [
        {
          "output_type": "stream",
          "name": "stdout",
          "text": [
            "Button 1 clicked!\n",
            "Button 2 clicked!\n"
          ]
        }
      ]
    },
    {
      "cell_type": "markdown",
      "source": [
        "Few points to note here:\n",
        "* Once the function is frozen with the given arguments, you cannot pass that same argument again.\n",
        "* Another thing is, the passes arguments while the function is being frozen (line 8 and 9), the arguments for which values are being sent to the functions should start from end and not in the middle as shown in the commented line 3."
      ],
      "metadata": {
        "id": "wHn-9s7-nT9Z"
      }
    },
    {
      "cell_type": "markdown",
      "source": [
        "Partial functions are particularly useful when you have functions that take many arguments but you frequently need to use them with certain arguments held constant. They can help improve code readability and reduce the complexity of function calls."
      ],
      "metadata": {
        "id": "kwffEYx8oKl6"
      }
    },
    {
      "cell_type": "markdown",
      "source": [
        "##Lambda Functions"
      ],
      "metadata": {
        "id": "oy_xNfiopkzm"
      }
    },
    {
      "cell_type": "markdown",
      "source": [
        "Lambda functions in Python are used for creating small, anonymous functions without needing to define them using the def keyword. Here are some examples of different ways you can use lambda functions:"
      ],
      "metadata": {
        "id": "PDc7wGGxpte4"
      }
    },
    {
      "cell_type": "markdown",
      "source": [
        "**Sorting with Lambda:**"
      ],
      "metadata": {
        "id": "uiGAjIG0qTqY"
      }
    },
    {
      "cell_type": "code",
      "source": [
        "list_of_tuples = [(4,5), (5,10), (0,6), (11,7)]\n",
        "\n",
        "sorted_tuples = sorted(list_of_tuples, key=lambda i: i[1])\n",
        "sorted_tuples"
      ],
      "metadata": {
        "colab": {
          "base_uri": "https://localhost:8080/"
        },
        "id": "CC3aFi49pkaD",
        "outputId": "52e6e393-b053-4e0d-9317-237352f25efb"
      },
      "execution_count": null,
      "outputs": [
        {
          "output_type": "execute_result",
          "data": {
            "text/plain": [
              "[(4, 5), (0, 6), (11, 7), (5, 10)]"
            ]
          },
          "metadata": {},
          "execution_count": 24
        }
      ]
    },
    {
      "cell_type": "markdown",
      "source": [
        "**Using Lambda in Map:**"
      ],
      "metadata": {
        "id": "IKa6cb53qcmV"
      }
    },
    {
      "cell_type": "code",
      "source": [
        "numbers = [1, 2, 3, 4, 5]\n",
        "squared_numbers = map(lambda x: x ** 2, numbers)\n",
        "\n",
        "print(list(squared_numbers))  # Output: [1, 4, 9, 16, 25]\n"
      ],
      "metadata": {
        "id": "IDL7r1qanyIE"
      },
      "execution_count": null,
      "outputs": []
    },
    {
      "cell_type": "markdown",
      "source": [
        "**Using Lambda in Filter:**"
      ],
      "metadata": {
        "id": "lAi-u4FuqjCy"
      }
    },
    {
      "cell_type": "code",
      "source": [
        "numbers = [1, 2, 3, 4, 5, 6, 7, 8, 9]\n",
        "even_numbers = filter(lambda x: x % 2 == 0, numbers)\n",
        "\n",
        "print(list(even_numbers))  # Output: [2, 4, 6, 8]\n"
      ],
      "metadata": {
        "id": "7nf_NlKgqljd"
      },
      "execution_count": null,
      "outputs": []
    },
    {
      "cell_type": "markdown",
      "source": [
        "**Using Lambda in Reduce:**"
      ],
      "metadata": {
        "id": "L_RtZ-zsqoFa"
      }
    },
    {
      "cell_type": "code",
      "source": [
        "from functools import reduce\n",
        "\n",
        "numbers = [1, 2, 3, 4, 5]\n",
        "product = reduce(lambda x, y: x * y, numbers)\n",
        "\n",
        "print(product)  # Output: 120\n"
      ],
      "metadata": {
        "id": "ZSDtwsAJqo2e"
      },
      "execution_count": null,
      "outputs": []
    },
    {
      "cell_type": "markdown",
      "source": [
        "**Using Lambda in Custom Functions:**"
      ],
      "metadata": {
        "id": "XoMIHoJhqr0e"
      }
    },
    {
      "cell_type": "code",
      "source": [
        "def apply_operation(lambda_func, x, y):\n",
        "  return lambda_func(x,y)\n",
        "\n",
        "output1 = apply_operation(lambda k,l : \"sum: \" + str(k+l) , 5, 6)\n",
        "output2 = apply_operation(lambda kk,ll : \"multiply: \" + str(kk*ll) , 5, 6)\n",
        "\n",
        "output1, output2"
      ],
      "metadata": {
        "colab": {
          "base_uri": "https://localhost:8080/"
        },
        "id": "XONEU42TquSA",
        "outputId": "739a03a5-6d85-4021-d489-5a0399ffa580"
      },
      "execution_count": null,
      "outputs": [
        {
          "output_type": "execute_result",
          "data": {
            "text/plain": [
              "('sum: 11', 'multiply: 30')"
            ]
          },
          "metadata": {},
          "execution_count": 28
        }
      ]
    },
    {
      "cell_type": "markdown",
      "source": [
        "##Descriptors"
      ],
      "metadata": {
        "id": "c7DK8RL1P-6U"
      }
    },
    {
      "cell_type": "markdown",
      "source": [
        "Descriptors are a powerful mechanism to give custom behavior to attribute access. Descriptors are objects that define ***at least one*** of the special methods: `__get__(), __set__(),` or `__delete__()`. When an object's attribute is accessed, these methods can control the behavior of the attribute."
      ],
      "metadata": {
        "id": "dJzaaeUTXC3q"
      }
    },
    {
      "cell_type": "markdown",
      "source": [
        "Here's a quick rundown:\n",
        "\n",
        "* `__get__`(self, instance, owner):\n",
        "\n",
        "  Used to retrieve the value of an attribute.\n",
        "  instance is the instance for which the attribute was accessed (or None if accessed on the class itself).\n",
        "  owner is the owner class of the descriptor.\n",
        "* `__set__`(self, instance, value):\n",
        "\n",
        "  Called when we try to assign a value to the attribute.\n",
        "  instance is the instance to which the value is assigned.\n",
        "  value is the value to be assigned.\n",
        "* `__delete__`(self, instance):\n",
        "\n",
        "  Invoked when del is used to delete the attribute from an instance.\n",
        "  instance is the instance from which the attribute should be deleted.\n",
        "* `__set_name__`(self, owner, name):\n",
        "\n",
        "  Available from Python 3.6 onward.\n",
        "  Automatically called at the time of class creation.\n",
        "  Allows the descriptor to know both the class it is in (owner) and the name of the attribute (name).\n",
        "  Beyond these core descriptor methods, there aren't other \"built-in\" descriptor methods in Python. However, other methods and attributes can be defined on descriptor classes as needed, but they won't have the special behavior that the core descriptor methods have.\n",
        "\n",
        "That said, the presence or absence of these methods affects how the descriptor behaves:\n",
        "\n",
        "A descriptor that only implements `__get__` is called a \"**non-data descriptor**\" or \"non-overriding descriptor\". It cannot manage setting or deleting, and it can be easily overridden by instance attributes.\n",
        "\n",
        "A descriptor that implements `__set__` or `__delete__` (or both) is a \"**data descriptor**\" or \"overriding descriptor\". Data descriptors have precedence over instance attributes, meaning that if you have a data descriptor named foo and an instance attribute named foo, the descriptor will \"win\" in attribute lookups and the instance attribute will be effectively hidden."
      ],
      "metadata": {
        "id": "yMgTtJBt2_iZ"
      }
    },
    {
      "cell_type": "markdown",
      "source": [
        "Descriptor Protocol:\n",
        "\n",
        "`__get__(self, obj, type=None)`: This method returns the value of the attribute for a specific object (obj). The type argument is optional and if provided, is the type of the obj.\n",
        "\n",
        "`__set__(self, obj, value)`: This method is used to set the value of the attribute for a specific object (obj).\n",
        "\n",
        "`__delete__(self, obj)`: This method is used to delete an attribute from an object."
      ],
      "metadata": {
        "id": "-uaScgM0Yn6-"
      }
    },
    {
      "cell_type": "markdown",
      "source": [
        "Descriptors are often used for:\n",
        "\n",
        "* **Data validation**: Ensure that values assigned to an attribute meet certain conditions.\n",
        "\n",
        "* **Property calculation**: Compute the value of a property dynamically when it's accessed.\n",
        "\n",
        "* **Logging or tracking**: Log access to a certain attribute.\n",
        "\n",
        "* **Lazy attributes**: Compute the value of an attribute the first time it's accessed and store it for future use.\n",
        "\n",
        "* **Object-relational mapping**: Mapping database records to Python objects."
      ],
      "metadata": {
        "id": "3JPwrT6qX_Af"
      }
    }
  ]
}